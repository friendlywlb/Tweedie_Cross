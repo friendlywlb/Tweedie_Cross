{
 "cells": [
  {
   "cell_type": "code",
   "execution_count": 1,
   "metadata": {},
   "outputs": [
    {
     "name": "stderr",
     "output_type": "stream",
     "text": [
      "Loading required package: coda\n",
      "\n",
      "Loading required package: Matrix\n",
      "\n",
      "Loading required package: splines\n",
      "\n",
      "Loading required package: lattice\n",
      "\n",
      "Loaded TDboost 1.2\n",
      "\n",
      "\n",
      "Loaded glmnet 4.1-2\n",
      "\n"
     ]
    }
   ],
   "source": [
    "library(fastDummies)\n",
    "library(cplm)\n",
    "library(tweedie)\n",
    "library(statmod)\n",
    "library(HDtweedie)\n",
    "library(TDboost)\n",
    "library(glmnet)"
   ]
  },
  {
   "cell_type": "code",
   "execution_count": 4,
   "metadata": {},
   "outputs": [],
   "source": [
    "load(file=\"Tweedie_GLM_ALL_data_train.Rda\")\n",
    "load(file=\"Tweedie_GLM_ALL_data_test.Rda\")\n",
    "load(file=\"AutoCross_Data_train.Rda\")\n",
    "load(file=\"AutoCross_Data_test.Rda\")\n",
    "load(file=\"Tweedie_GLM_ALL_data_y_train.Rda\")\n",
    "load(file=\"Tweedie_GLM_ALL_data_y_test.Rda\")"
   ]
  },
  {
   "cell_type": "code",
   "execution_count": 5,
   "metadata": {},
   "outputs": [],
   "source": [
    "z0train=cbind(z0train,z0train[,'AGE']^2)\n",
    "colnames(z0train)[35]='AGE2'"
   ]
  },
  {
   "cell_type": "markdown",
   "metadata": {},
   "source": [
    "Use HDtweedie to screen the data."
   ]
  },
  {
   "cell_type": "code",
   "execution_count": 6,
   "metadata": {},
   "outputs": [
    {
     "data": {
      "text/html": [
       "<table class=\"dataframe\">\n",
       "<caption>A matrix: 35 × 1 of type dbl</caption>\n",
       "<thead>\n",
       "\t<tr><th></th><th scope=col>s0</th></tr>\n",
       "</thead>\n",
       "<tbody>\n",
       "\t<tr><th scope=row>.data_Pickup</th><td> 0.000000000</td></tr>\n",
       "\t<tr><th scope=row>.data_Sedan</th><td> 0.000000000</td></tr>\n",
       "\t<tr><th scope=row>.data_Sports Car</th><td> 0.000000000</td></tr>\n",
       "\t<tr><th scope=row>.data_SUV</th><td> 0.000000000</td></tr>\n",
       "\t<tr><th scope=row>.data_Van</th><td> 0.000000000</td></tr>\n",
       "\t<tr><th scope=row>.data_Clerical</th><td> 0.000000000</td></tr>\n",
       "\t<tr><th scope=row>.data_Doctor</th><td> 0.000000000</td></tr>\n",
       "\t<tr><th scope=row>.data_Home Maker</th><td> 0.000000000</td></tr>\n",
       "\t<tr><th scope=row>.data_Lawyer</th><td> 0.000000000</td></tr>\n",
       "\t<tr><th scope=row>.data_Manager</th><td> 0.000000000</td></tr>\n",
       "\t<tr><th scope=row>.data_Professional</th><td> 0.000000000</td></tr>\n",
       "\t<tr><th scope=row>.data_Student</th><td> 0.000000000</td></tr>\n",
       "\t<tr><th scope=row>.data_Bachelors</th><td> 0.000000000</td></tr>\n",
       "\t<tr><th scope=row>.data_High School</th><td> 0.000000000</td></tr>\n",
       "\t<tr><th scope=row>.data_Masters</th><td> 0.000000000</td></tr>\n",
       "\t<tr><th scope=row>.data_PhD</th><td> 0.000000000</td></tr>\n",
       "\t<tr><th scope=row>CAR_USE</th><td> 0.012660091</td></tr>\n",
       "\t<tr><th scope=row>RED_CAR</th><td> 0.000000000</td></tr>\n",
       "\t<tr><th scope=row>REVOLKED</th><td> 1.274030142</td></tr>\n",
       "\t<tr><th scope=row>GENDER</th><td>-0.072593648</td></tr>\n",
       "\t<tr><th scope=row>MARRIED</th><td> 0.000000000</td></tr>\n",
       "\t<tr><th scope=row>PARENT1</th><td> 0.000000000</td></tr>\n",
       "\t<tr><th scope=row>AREA</th><td> 0.584298221</td></tr>\n",
       "\t<tr><th scope=row>KIDSDRIV</th><td> 0.000000000</td></tr>\n",
       "\t<tr><th scope=row>TRAVTIME</th><td>-0.019598805</td></tr>\n",
       "\t<tr><th scope=row>BLUEBOOK</th><td>-0.031217996</td></tr>\n",
       "\t<tr><th scope=row>NPOLICY</th><td> 0.000000000</td></tr>\n",
       "\t<tr><th scope=row>MVR_PTS</th><td> 0.186786692</td></tr>\n",
       "\t<tr><th scope=row>AGE</th><td> 0.023227882</td></tr>\n",
       "\t<tr><th scope=row>HOMEKIDS</th><td> 0.005013681</td></tr>\n",
       "\t<tr><th scope=row>YOJ</th><td> 0.000000000</td></tr>\n",
       "\t<tr><th scope=row>INCOME</th><td> 0.008226787</td></tr>\n",
       "\t<tr><th scope=row>HOME_VAL</th><td>-0.040426963</td></tr>\n",
       "\t<tr><th scope=row>SAMEHOME</th><td> 0.000000000</td></tr>\n",
       "\t<tr><th scope=row>AGE2</th><td> 0.000000000</td></tr>\n",
       "</tbody>\n",
       "</table>\n"
      ],
      "text/latex": [
       "A matrix: 35 × 1 of type dbl\n",
       "\\begin{tabular}{r|l}\n",
       "  & s0\\\\\n",
       "\\hline\n",
       "\t.data\\_Pickup &  0.000000000\\\\\n",
       "\t.data\\_Sedan &  0.000000000\\\\\n",
       "\t.data\\_Sports Car &  0.000000000\\\\\n",
       "\t.data\\_SUV &  0.000000000\\\\\n",
       "\t.data\\_Van &  0.000000000\\\\\n",
       "\t.data\\_Clerical &  0.000000000\\\\\n",
       "\t.data\\_Doctor &  0.000000000\\\\\n",
       "\t.data\\_Home Maker &  0.000000000\\\\\n",
       "\t.data\\_Lawyer &  0.000000000\\\\\n",
       "\t.data\\_Manager &  0.000000000\\\\\n",
       "\t.data\\_Professional &  0.000000000\\\\\n",
       "\t.data\\_Student &  0.000000000\\\\\n",
       "\t.data\\_Bachelors &  0.000000000\\\\\n",
       "\t.data\\_High School &  0.000000000\\\\\n",
       "\t.data\\_Masters &  0.000000000\\\\\n",
       "\t.data\\_PhD &  0.000000000\\\\\n",
       "\tCAR\\_USE &  0.012660091\\\\\n",
       "\tRED\\_CAR &  0.000000000\\\\\n",
       "\tREVOLKED &  1.274030142\\\\\n",
       "\tGENDER & -0.072593648\\\\\n",
       "\tMARRIED &  0.000000000\\\\\n",
       "\tPARENT1 &  0.000000000\\\\\n",
       "\tAREA &  0.584298221\\\\\n",
       "\tKIDSDRIV &  0.000000000\\\\\n",
       "\tTRAVTIME & -0.019598805\\\\\n",
       "\tBLUEBOOK & -0.031217996\\\\\n",
       "\tNPOLICY &  0.000000000\\\\\n",
       "\tMVR\\_PTS &  0.186786692\\\\\n",
       "\tAGE &  0.023227882\\\\\n",
       "\tHOMEKIDS &  0.005013681\\\\\n",
       "\tYOJ &  0.000000000\\\\\n",
       "\tINCOME &  0.008226787\\\\\n",
       "\tHOME\\_VAL & -0.040426963\\\\\n",
       "\tSAMEHOME &  0.000000000\\\\\n",
       "\tAGE2 &  0.000000000\\\\\n",
       "\\end{tabular}\n"
      ],
      "text/markdown": [
       "\n",
       "A matrix: 35 × 1 of type dbl\n",
       "\n",
       "| <!--/--> | s0 |\n",
       "|---|---|\n",
       "| .data_Pickup |  0.000000000 |\n",
       "| .data_Sedan |  0.000000000 |\n",
       "| .data_Sports Car |  0.000000000 |\n",
       "| .data_SUV |  0.000000000 |\n",
       "| .data_Van |  0.000000000 |\n",
       "| .data_Clerical |  0.000000000 |\n",
       "| .data_Doctor |  0.000000000 |\n",
       "| .data_Home Maker |  0.000000000 |\n",
       "| .data_Lawyer |  0.000000000 |\n",
       "| .data_Manager |  0.000000000 |\n",
       "| .data_Professional |  0.000000000 |\n",
       "| .data_Student |  0.000000000 |\n",
       "| .data_Bachelors |  0.000000000 |\n",
       "| .data_High School |  0.000000000 |\n",
       "| .data_Masters |  0.000000000 |\n",
       "| .data_PhD |  0.000000000 |\n",
       "| CAR_USE |  0.012660091 |\n",
       "| RED_CAR |  0.000000000 |\n",
       "| REVOLKED |  1.274030142 |\n",
       "| GENDER | -0.072593648 |\n",
       "| MARRIED |  0.000000000 |\n",
       "| PARENT1 |  0.000000000 |\n",
       "| AREA |  0.584298221 |\n",
       "| KIDSDRIV |  0.000000000 |\n",
       "| TRAVTIME | -0.019598805 |\n",
       "| BLUEBOOK | -0.031217996 |\n",
       "| NPOLICY |  0.000000000 |\n",
       "| MVR_PTS |  0.186786692 |\n",
       "| AGE |  0.023227882 |\n",
       "| HOMEKIDS |  0.005013681 |\n",
       "| YOJ |  0.000000000 |\n",
       "| INCOME |  0.008226787 |\n",
       "| HOME_VAL | -0.040426963 |\n",
       "| SAMEHOME |  0.000000000 |\n",
       "| AGE2 |  0.000000000 |\n",
       "\n"
      ],
      "text/plain": [
       "                   s0          \n",
       ".data_Pickup        0.000000000\n",
       ".data_Sedan         0.000000000\n",
       ".data_Sports Car    0.000000000\n",
       ".data_SUV           0.000000000\n",
       ".data_Van           0.000000000\n",
       ".data_Clerical      0.000000000\n",
       ".data_Doctor        0.000000000\n",
       ".data_Home Maker    0.000000000\n",
       ".data_Lawyer        0.000000000\n",
       ".data_Manager       0.000000000\n",
       ".data_Professional  0.000000000\n",
       ".data_Student       0.000000000\n",
       ".data_Bachelors     0.000000000\n",
       ".data_High School   0.000000000\n",
       ".data_Masters       0.000000000\n",
       ".data_PhD           0.000000000\n",
       "CAR_USE             0.012660091\n",
       "RED_CAR             0.000000000\n",
       "REVOLKED            1.274030142\n",
       "GENDER             -0.072593648\n",
       "MARRIED             0.000000000\n",
       "PARENT1             0.000000000\n",
       "AREA                0.584298221\n",
       "KIDSDRIV            0.000000000\n",
       "TRAVTIME           -0.019598805\n",
       "BLUEBOOK           -0.031217996\n",
       "NPOLICY             0.000000000\n",
       "MVR_PTS             0.186786692\n",
       "AGE                 0.023227882\n",
       "HOMEKIDS            0.005013681\n",
       "YOJ                 0.000000000\n",
       "INCOME              0.008226787\n",
       "HOME_VAL           -0.040426963\n",
       "SAMEHOME            0.000000000\n",
       "AGE2                0.000000000"
      ]
     },
     "metadata": {},
     "output_type": "display_data"
    }
   ],
   "source": [
    "group1 <- c(rep(1,5),rep(2,7),rep(3,4),4:22)\n",
    "cv1 <- cv.HDtweedie(x=z0train,y=ytrain,group=group1,p=1.4,nfolds=5,pred.loss='deviance',alpha=0.5)\n",
    "opt.lam=cv1$lambda.min\n",
    "fit_hd<-HDtweedie(x=z0train,y=ytrain,group=group1,p=1.4,lambda = opt.lam,alpha = 0.5)\n",
    "fit_hd$beta"
   ]
  },
  {
   "cell_type": "markdown",
   "metadata": {},
   "source": [
    "Use Profile likelihood method to determine the power parameter. Meanwhile, check whether the  power parameters in the train and test dataset are close or not.\n"
   ]
  },
  {
   "cell_type": "code",
   "execution_count": 26,
   "metadata": {},
   "outputs": [
    {
     "name": "stderr",
     "output_type": "stream",
     "text": [
      "Warning message in model.matrix.default(mt, mf, contrasts):\n",
      "\"non-list contrasts argument ignored\"\n"
     ]
    },
    {
     "name": "stdout",
     "output_type": "stream",
     "text": [
      "1.2 1.3 1.4 1.5 1.6 1.7 1.8 \n",
      ".......Done.\n"
     ]
    },
    {
     "data": {
      "image/png": "[encoded data removed]",
      "text/plain": [
       "plot without title"
      ]
     },
     "metadata": {
      "image/png": {
       "height": 420,
       "width": 420
      }
     },
     "output_type": "display_data"
    }
   ],
   "source": [
    "final_train<-as.data.frame(autocross)\n",
    "final_train$y <- ytrain\n",
    "final_test<-as.data.frame(autocross_test)\n",
    "final_test$y <- ytest\n",
    "est_p <-tweedie.profile(y~.,data=final_train\n",
    "                        ,link.power = 0,do.smooth = TRUE, do.plot = TRUE)"
   ]
  },
  {
   "cell_type": "code",
   "execution_count": 118,
   "metadata": {},
   "outputs": [
    {
     "name": "stderr",
     "output_type": "stream",
     "text": [
      "Warning message in model.matrix.default(mt, mf, contrasts):\n",
      "\"non-list contrasts argument ignored\"\n"
     ]
    },
    {
     "name": "stdout",
     "output_type": "stream",
     "text": [
      "1.2 1.3 1.4 1.5 1.6 1.7 1.8 \n",
      ".......Done.\n"
     ]
    },
    {
     "data": {
      "image/png": "[encoded data removed]",
      "text/plain": [
       "plot without title"
      ]
     },
     "metadata": {
      "image/png": {
       "height": 420,
       "width": 420
      }
     },
     "output_type": "display_data"
    }
   ],
   "source": [
    "est_p <-tweedie.profile(y~REVOLKED+GENDER+AREA+KIDSDRIV+TRAVTIME+BLUEBOOK+MVR_PTS+AGE+INCOME+HOME_VAL,data=final_test\n",
    "                        ,link.power = 0,do.smooth = TRUE, do.plot = TRUE)"
   ]
  },
  {
   "cell_type": "markdown",
   "metadata": {},
   "source": [
    "Base model"
   ]
  },
  {
   "cell_type": "code",
   "execution_count": 9,
   "metadata": {},
   "outputs": [
    {
     "data": {
      "text/plain": [
       "\n",
       "Call:\n",
       "glm(formula = y ~ REVOLKED + GENDER + AREA + KIDSDRIV + TRAVTIME + \n",
       "    BLUEBOOK + MVR_PTS + AGE + INCOME + HOME_VAL, family = tweedie(link.power = 0, \n",
       "    var.power = 1.4), data = final_train, control = list(maxit = 500))\n",
       "\n",
       "Deviance Residuals: \n",
       "    Min       1Q   Median       3Q      Max  \n",
       "-5.0635  -2.3525  -1.8652   0.2602  12.6255  \n",
       "\n",
       "Coefficients:\n",
       "            Estimate Std. Error t value Pr(>|t|)    \n",
       "(Intercept) -0.02946    0.18037  -0.163    0.870    \n",
       "REVOLKED1    1.48411    0.13037  11.384  < 2e-16 ***\n",
       "GENDER1     -0.16005    0.11809  -1.355    0.176    \n",
       "AREA1        0.82549    0.18038   4.576 5.15e-06 ***\n",
       "KIDSDRIV     0.06674    0.09951   0.671    0.503    \n",
       "TRAVTIME    -0.03737    0.05845  -0.639    0.523    \n",
       "BLUEBOOK    -0.05410    0.06193  -0.873    0.383    \n",
       "MVR_PTS      0.18622    0.02306   8.074 1.45e-15 ***\n",
       "AGE          0.04750    0.06042   0.786    0.432    \n",
       "INCOME       0.03878    0.06310   0.615    0.539    \n",
       "HOME_VAL    -0.07834    0.06345  -1.235    0.217    \n",
       "---\n",
       "Signif. codes:  0 '***' 0.001 '**' 0.01 '*' 0.05 '.' 0.1 ' ' 1\n",
       "\n",
       "(Dispersion parameter for Tweedie family taken to be 10.18691)\n",
       "\n",
       "    Null deviance: 10801.0  on 1405  degrees of freedom\n",
       "Residual deviance:  8242.3  on 1395  degrees of freedom\n",
       "AIC: NA\n",
       "\n",
       "Number of Fisher Scoring iterations: 6\n"
      ]
     },
     "metadata": {},
     "output_type": "display_data"
    }
   ],
   "source": [
    "fit1<-glm(y~REVOLKED+GENDER+AREA+KIDSDRIV+TRAVTIME+BLUEBOOK+MVR_PTS+AGE+INCOME+HOME_VAL,data=final_train\n",
    "                   ,family=tweedie(link.power=0,var.power=1.4),control=list(maxit=500))\n",
    "summary(fit1)"
   ]
  },
  {
   "cell_type": "markdown",
   "metadata": {},
   "source": [
    "Calculate mean deviance for training and testing dataset"
   ]
  },
  {
   "cell_type": "code",
   "execution_count": 10,
   "metadata": {},
   "outputs": [
    {
     "data": {
      "text/html": [
       "5.86225819358968"
      ],
      "text/latex": [
       "5.86225819358968"
      ],
      "text/markdown": [
       "5.86225819358968"
      ],
      "text/plain": [
       "[1] 5.862258"
      ]
     },
     "metadata": {},
     "output_type": "display_data"
    },
    {
     "data": {
      "text/html": [
       "5.46633290471933"
      ],
      "text/latex": [
       "5.46633290471933"
      ],
      "text/markdown": [
       "5.46633290471933"
      ],
      "text/plain": [
       "[1] 5.466333"
      ]
     },
     "metadata": {},
     "output_type": "display_data"
    }
   ],
   "source": [
    "mean(residuals(fit1,type='deviance')^2)\n",
    "final_test=as.data.frame(autocross_test)\n",
    "tmp_x_test <- model.matrix(~REVOLKED+GENDER+AREA+KIDSDRIV+TRAVTIME+BLUEBOOK+MVR_PTS+AGE+INCOME+HOME_VAL,data=final_test)\n",
    "pred_fit1<- exp(tmp_x_test%*%fit1$coefficients)\n",
    "mean(tweedie.dev(ytest,pred_fit1,1.4))"
   ]
  },
  {
   "cell_type": "markdown",
   "metadata": {},
   "source": [
    "Subset the dataset based on selected variable by HDtweedie"
   ]
  },
  {
   "cell_type": "code",
   "execution_count": 11,
   "metadata": {},
   "outputs": [],
   "source": [
    "auto_cross_new <- cbind(autocross$REVOLKED,autocross$GENDER,autocross$AREA,autocross$KIDSDRIV,autocross$TRAVTIME\n",
    "                             ,autocross$BLUEBOOK,autocross$MVR_PTS,autocross$AGE,autocross$INCOME,autocross$HOME_VAL)\n",
    "colnames(auto_cross_new)=c('REVOLKED','GENDER','AREA','KIDSDRIV','TRAVTIME','BLUEBOOK','MVR_PTS','AGE','INCOME','HOME_VAL')\n",
    "auto_cross_new_test <- cbind(autocross_test$REVOLKED,autocross_test$GENDER,autocross_test$AREA,autocross_test$KIDSDRIV,autocross_test$TRAVTIME\n",
    "                             ,autocross_test$BLUEBOOK,autocross_test$MVR_PTS,autocross_test$AGE,autocross_test$INCOME,autocross_test$HOME_VAL)\n",
    "colnames(auto_cross_new_test)=c('REVOLKED','GENDER','AREA','KIDSDRIV','TRAVTIME','BLUEBOOK','MVR_PTS','AGE','INCOME','HOME_VAL')\n",
    "categorical_name<- c(\"REVOLKED\",\"GENDER\",\"AREA\")\n",
    "auto_cross_new<-as.data.frame(auto_cross_new)\n",
    "auto_cross_new_test<-as.data.frame(auto_cross_new_test)\n",
    "auto_cross_new[,categorical_name]<-lapply(auto_cross_new[,categorical_name],factor)\n",
    "auto_cross_new_test[,categorical_name]<-lapply(auto_cross_new_test[,categorical_name],factor)\n",
    "autocross=auto_cross_new\n",
    "autocross_test=auto_cross_new_test"
   ]
  },
  {
   "cell_type": "code",
   "execution_count": 12,
   "metadata": {},
   "outputs": [],
   "source": [
    "summary(autocross)"
   ]
  },
  {
   "cell_type": "markdown",
   "metadata": {},
   "source": [
    "Run the algorithm."
   ]
  },
  {
   "cell_type": "code",
   "execution_count": 35,
   "metadata": {},
   "outputs": [],
   "source": [
    "result_round1=matrix(nrow=dim(autocross)[2],ncol=dim(autocross)[2])\n",
    "cat_coef=list()\n",
    "cat_coef_names=c()\n",
    "for(i in 2:(dim(autocross)[2])-1){\n",
    "    for(j in (i+1):(dim(autocross)[2])){\n",
    "        if (is.numeric(autocross[,i])&&is.numeric(autocross[,j])){\n",
    "            tmp_x <- autocross[,i]*autocross[,j]\n",
    "            tmp_fit<-glm(ytrain~tmp_x+offset(log(fitted(fit1)))\n",
    "                   ,family=tweedie(link.power=0,var.power=1.4),control=list(maxit=500))\n",
    "            result_round1[i,j]=mean(residuals(tmp_fit)^2)\n",
    "        }\n",
    "        else{\n",
    "            tmp_x<-model.matrix(~autocross[,i]*autocross[,j])\n",
    "            tmp_x<-as.matrix(tmp_x)[,-1]\n",
    "            tmp_cvfit<-cv.glmnet(x=tmp_x,y=ytrain,family=tweedie(link.power=0,var.power=1.4),alpha=0.5\n",
    "                                 ,offset=log(fitted(fit1)),type.measure = 'deviance')\n",
    "            tmp_lambda<- tmp_cvfit$lambda.min\n",
    "            tmp_fit<-glmnet(x=tmp_x,y=ytrain,family=tweedie(link.power=0,var.power=1.4),alpha=0.5\n",
    "                                 ,offset=log(fitted(fit1)),lambda=tmp_lambda)\n",
    "            tmp_coef<-as.matrix(coef(tmp_fit))[,1]\n",
    "            if (length(which(tmp_coef!=0))==0){\n",
    "                result_round1[i,j]=9999}\n",
    "            else{\n",
    "                tmp_x<-model.matrix(~autocross[,i]*autocross[,j])\n",
    "                tmp_fitted<-exp(tmp_x%*%tmp_coef+log(fitted(fit1)))\n",
    "                result_round1[i,j]<-mean(tweedie.dev(ytrain,tmp_fitted,1.4))\n",
    "                cat_coef=append(cat_coef,list(as.numeric(tmp_coef)))\n",
    "                cat_coef_names=c(cat_coef_names,paste(as.character(i),as.character(j),sep=''))           \n",
    "            }\n",
    "             names(cat_coef)=cat_coef_names\n",
    "        }\n",
    "  }\n",
    "    }"
   ]
  },
  {
   "cell_type": "code",
   "execution_count": 36,
   "metadata": {},
   "outputs": [
    {
     "data": {
      "text/html": [
       "'BLUEBOOK'"
      ],
      "text/latex": [
       "'BLUEBOOK'"
      ],
      "text/markdown": [
       "'BLUEBOOK'"
      ],
      "text/plain": [
       "[1] \"BLUEBOOK\""
      ]
     },
     "metadata": {},
     "output_type": "display_data"
    },
    {
     "data": {
      "text/html": [
       "'INCOME'"
      ],
      "text/latex": [
       "'INCOME'"
      ],
      "text/markdown": [
       "'INCOME'"
      ],
      "text/plain": [
       "[1] \"INCOME\""
      ]
     },
     "metadata": {},
     "output_type": "display_data"
    }
   ],
   "source": [
    "round1_index <- which(result_round1 == min(result_round1,na.rm=T), arr.ind = TRUE)\n",
    "colnames(autocross)[round1_index[1]]\n",
    "colnames(autocross)[round1_index[2]]"
   ]
  },
  {
   "cell_type": "code",
   "execution_count": 37,
   "metadata": {},
   "outputs": [
    {
     "data": {
      "text/html": [
       "<table class=\"dataframe\">\n",
       "<caption>A matrix: 1 × 2 of type int</caption>\n",
       "<thead>\n",
       "\t<tr><th scope=col>row</th><th scope=col>col</th></tr>\n",
       "</thead>\n",
       "<tbody>\n",
       "\t<tr><td>6</td><td>9</td></tr>\n",
       "</tbody>\n",
       "</table>\n"
      ],
      "text/latex": [
       "A matrix: 1 × 2 of type int\n",
       "\\begin{tabular}{ll}\n",
       " row & col\\\\\n",
       "\\hline\n",
       "\t 6 & 9\\\\\n",
       "\\end{tabular}\n"
      ],
      "text/markdown": [
       "\n",
       "A matrix: 1 × 2 of type int\n",
       "\n",
       "| row | col |\n",
       "|---|---|\n",
       "| 6 | 9 |\n",
       "\n"
      ],
      "text/plain": [
       "     row col\n",
       "[1,] 6   9  "
      ]
     },
     "metadata": {},
     "output_type": "display_data"
    }
   ],
   "source": [
    "round1_index"
   ]
  },
  {
   "cell_type": "code",
   "execution_count": 18,
   "metadata": {},
   "outputs": [],
   "source": [
    "final_train<-autocross\n",
    "final_train$y=ytrain"
   ]
  },
  {
   "cell_type": "code",
   "execution_count": 19,
   "metadata": {},
   "outputs": [
    {
     "data": {
      "text/plain": [
       "\n",
       "Call:\n",
       "glm(formula = y ~ . + BLUEBOOK * INCOME, family = tweedie(link.power = 0, \n",
       "    var.power = 1.4), data = final_train, control = list(maxit = 500))\n",
       "\n",
       "Deviance Residuals: \n",
       "   Min      1Q  Median      3Q     Max  \n",
       "-5.041  -2.347  -1.864   0.290  12.924  \n",
       "\n",
       "Coefficients:\n",
       "                 Estimate Std. Error t value Pr(>|t|)    \n",
       "(Intercept)     -0.036112   0.180771  -0.200    0.842    \n",
       "REVOLKED2        1.476675   0.130139  11.347  < 2e-16 ***\n",
       "GENDER2         -0.164989   0.117786  -1.401    0.162    \n",
       "AREA2            0.857831   0.180777   4.745 2.30e-06 ***\n",
       "KIDSDRIV         0.072476   0.099324   0.730    0.466    \n",
       "TRAVTIME        -0.039578   0.058337  -0.678    0.498    \n",
       "BLUEBOOK        -0.071062   0.061779  -1.150    0.250    \n",
       "MVR_PTS          0.188720   0.022932   8.229 4.27e-16 ***\n",
       "AGE              0.047722   0.060504   0.789    0.430    \n",
       "INCOME          -0.005702   0.065725  -0.087    0.931    \n",
       "HOME_VAL        -0.067662   0.063950  -1.058    0.290    \n",
       "BLUEBOOK:INCOME -0.114164   0.055821  -2.045    0.041 *  \n",
       "---\n",
       "Signif. codes:  0 '***' 0.001 '**' 0.01 '*' 0.05 '.' 0.1 ' ' 1\n",
       "\n",
       "(Dispersion parameter for Tweedie family taken to be 10.12304)\n",
       "\n",
       "    Null deviance: 10801.0  on 1405  degrees of freedom\n",
       "Residual deviance:  8196.2  on 1394  degrees of freedom\n",
       "AIC: NA\n",
       "\n",
       "Number of Fisher Scoring iterations: 6\n"
      ]
     },
     "metadata": {},
     "output_type": "display_data"
    }
   ],
   "source": [
    "round1_fit<-glm(y~.+BLUEBOOK*INCOME,data=final_train\n",
    "                ,family=tweedie(link.power=0,var.power=1.4),control=list(maxit=500))\n",
    "summary(round1_fit)\n"
   ]
  },
  {
   "cell_type": "markdown",
   "metadata": {},
   "source": [
    "Compare AIC value"
   ]
  },
  {
   "cell_type": "code",
   "execution_count": 20,
   "metadata": {},
   "outputs": [
    {
     "data": {
      "text/html": [
       "5302.09713098147"
      ],
      "text/latex": [
       "5302.09713098147"
      ],
      "text/markdown": [
       "5302.09713098147"
      ],
      "text/plain": [
       "[1] 5302.097"
      ]
     },
     "metadata": {},
     "output_type": "display_data"
    },
    {
     "data": {
      "text/html": [
       "5306.48441595629"
      ],
      "text/latex": [
       "5306.48441595629"
      ],
      "text/markdown": [
       "5306.48441595629"
      ],
      "text/plain": [
       "[1] 5306.484"
      ]
     },
     "metadata": {},
     "output_type": "display_data"
    }
   ],
   "source": [
    "AICtweedie(round1_fit)\n",
    "AICtweedie(fit1)"
   ]
  },
  {
   "cell_type": "code",
   "execution_count": 21,
   "metadata": {},
   "outputs": [],
   "source": [
    "round1_test<-model.matrix(~.+BLUEBOOK*INCOME,data=autocross_test)"
   ]
  },
  {
   "cell_type": "code",
   "execution_count": 22,
   "metadata": {},
   "outputs": [],
   "source": [
    "pred_round1<-exp(round1_test%*%coef(round1_fit))"
   ]
  },
  {
   "cell_type": "code",
   "execution_count": 23,
   "metadata": {},
   "outputs": [],
   "source": [
    "result_round2=matrix(nrow=dim(autocross)[2],ncol=dim(autocross)[2])\n",
    "cat_coef=list()\n",
    "cat_coef_names=c()\n",
    "for(i in 2:(dim(autocross)[2])-1){\n",
    "    for(j in (i+1):(dim(autocross)[2])){\n",
    "        if(i==6 &&j==9){result_round2[i,j]=999999}\n",
    "        else{\n",
    "            if (is.numeric(autocross[,i])&&is.numeric(autocross[,j])){\n",
    "            tmp_x <- autocross[,i]*autocross[,j]\n",
    "            tmp_fit<-glm(ytrain~tmp_x+offset(log(fitted(round1_fit)))\n",
    "                   ,family=tweedie(link.power=0,var.power=1.4),control=list(maxit=500))\n",
    "            result_round2[i,j]=mean(residuals(tmp_fit)^2)\n",
    "        }\n",
    "            else{\n",
    "                tmp_x<-model.matrix(~autocross[,i]:autocross[,j])\n",
    "                tmp_x<-as.matrix(tmp_x)[,-1]\n",
    "                tmp_cvfit<-cv.glmnet(x=tmp_x,y=ytrain,family=tweedie(link.power=0,var.power=1.4),alpha=0.5\n",
    "                                     ,offset=log(fitted(round1_fit)),type.measure = 'deviance')\n",
    "                tmp_lambda<- tmp_cvfit$lambda.min\n",
    "                tmp_fit<-glmnet(x=tmp_x,y=ytrain,family=tweedie(link.power=0,var.power=1.4),alpha=0.5\n",
    "                                     ,offset=log(fitted(round1_fit)),lambda=tmp_lambda)\n",
    "                tmp_coef<-as.matrix(coef(tmp_fit))[,1][-1]\n",
    "                if (length(which(tmp_coef!=0))==0){\n",
    "                    result_round2[i,j]=9999}\n",
    "                else{\n",
    "                    tmp_fitted<-exp(tmp_x%*%tmp_coef+log(fitted(round1_fit)))\n",
    "                    result_round2[i,j]<-mean(tweedie.dev(ytrain,tmp_fitted,1.4))\n",
    "                    cat_coef=append(cat_coef,as.list(tmp_coef[-1]))\n",
    "                    cat_coef_names=c(cat_coef_names,paste(as.character(i),as.character(j),sep=''))     \n",
    "            }\n",
    "    }\n",
    "  }\n",
    "    }\n",
    "    }\n"
   ]
  },
  {
   "cell_type": "code",
   "execution_count": 24,
   "metadata": {},
   "outputs": [],
   "source": [
    "result_round_2_threeway=rep(0,dim(autocross)[2])\n",
    "cat_coef_round23=list()\n",
    "cat_coef_names_round23=c()\n",
    "for(i in 1:(dim(autocross)[2])){\n",
    "  if (i==6 || i==9){\n",
    "    result_round_2_threeway[i]=99999\n",
    "  }\n",
    "  else{\n",
    "      tmp_x<-model.matrix(~autocross[,6]*autocross[,9]*autocross[,i])\n",
    "      tmp_x<-tmp_x[,-1]\n",
    "            tmp_cvfit<-cv.glmnet(x=tmp_x,y=ytrain,family=tweedie(link.power=0,var.power=1.4),alpha=0.5\n",
    "                                 ,offset=log(fitted(round1_fit)),type.measure = 'deviance')\n",
    "            tmp_lambda<- tmp_cvfit$lambda.min\n",
    "            tmp_fit<-glmnet(x=tmp_x,y=ytrain,family=tweedie(link.power=0,var.power=1.4),alpha=0.5\n",
    "                                 ,offset=log(fitted(round1_fit)),lambda=tmp_lambda)\n",
    "            tmp_coef<-as.matrix(coef(tmp_fit))[,1]\n",
    "            if (length(which(tmp_coef!=0))==0){\n",
    "                result_round_2_threeway[i]=9999}\n",
    "            else{\n",
    "                tmp_x<-model.matrix(~autocross[,6]*autocross[,9]*autocross[,i])\n",
    "                tmp_fitted<-exp(tmp_x%*%tmp_coef+log(fitted(round1_fit)))\n",
    "                result_round_2_threeway[i]<-mean(tweedie.dev(ytrain,tmp_fitted,1.4))\n",
    "                cat_coef_round23=append(cat_coef_round23,list(as.numeric(tmp_coef)))\n",
    "                cat_coef_names_round23=c(cat_coef_names_round23,paste(as.character(i),sep=''))       \n",
    "            }  \n",
    "            names(cat_coef_round23)=cat_coef_names_round23\n",
    "}\n",
    "    }"
   ]
  },
  {
   "cell_type": "code",
   "execution_count": 54,
   "metadata": {},
   "outputs": [],
   "source": [
    "result_round2_final<-cbind(result_round2,result_round_2_threeway)"
   ]
  },
  {
   "cell_type": "code",
   "execution_count": 55,
   "metadata": {},
   "outputs": [
    {
     "data": {
      "text/html": [
       "<table class=\"dataframe\">\n",
       "<caption>A matrix: 1 × 2 of type int</caption>\n",
       "<thead>\n",
       "\t<tr><th scope=col>row</th><th scope=col>col</th></tr>\n",
       "</thead>\n",
       "<tbody>\n",
       "\t<tr><td>1</td><td>10</td></tr>\n",
       "</tbody>\n",
       "</table>\n"
      ],
      "text/latex": [
       "A matrix: 1 × 2 of type int\n",
       "\\begin{tabular}{ll}\n",
       " row & col\\\\\n",
       "\\hline\n",
       "\t 1 & 10\\\\\n",
       "\\end{tabular}\n"
      ],
      "text/markdown": [
       "\n",
       "A matrix: 1 × 2 of type int\n",
       "\n",
       "| row | col |\n",
       "|---|---|\n",
       "| 1 | 10 |\n",
       "\n"
      ],
      "text/plain": [
       "     row col\n",
       "[1,] 1   10 "
      ]
     },
     "metadata": {},
     "output_type": "display_data"
    },
    {
     "data": {
      "text/html": [
       "'REVOLKED'"
      ],
      "text/latex": [
       "'REVOLKED'"
      ],
      "text/markdown": [
       "'REVOLKED'"
      ],
      "text/plain": [
       "[1] \"REVOLKED\""
      ]
     },
     "metadata": {},
     "output_type": "display_data"
    },
    {
     "data": {
      "text/html": [
       "'HOME_VAL'"
      ],
      "text/latex": [
       "'HOME\\_VAL'"
      ],
      "text/markdown": [
       "'HOME_VAL'"
      ],
      "text/plain": [
       "[1] \"HOME_VAL\""
      ]
     },
     "metadata": {},
     "output_type": "display_data"
    }
   ],
   "source": [
    "round2_index<-which(result_round2_final == min(result_round2_final,na.rm=T), arr.ind = TRUE)\n",
    "round2_index\n",
    "colnames(autocross)[round2_index[1]]\n",
    "colnames(autocross)[round2_index[2]]"
   ]
  },
  {
   "cell_type": "code",
   "execution_count": 25,
   "metadata": {},
   "outputs": [
    {
     "data": {
      "text/plain": [
       "\n",
       "Call:\n",
       "glm(formula = y ~ . + BLUEBOOK * INCOME + REVOLKED * HOME_VAL, \n",
       "    family = tweedie(link.power = 0, var.power = 1.4), data = final_train, \n",
       "    control = list(maxit = 500))\n",
       "\n",
       "Deviance Residuals: \n",
       "    Min       1Q   Median       3Q      Max  \n",
       "-5.1836  -2.3510  -1.8642   0.3005  12.6593  \n",
       "\n",
       "Coefficients:\n",
       "                   Estimate Std. Error t value Pr(>|t|)    \n",
       "(Intercept)        -0.04712    0.18044  -0.261   0.7940    \n",
       "REVOLKED2           1.49311    0.12996  11.489  < 2e-16 ***\n",
       "GENDER2            -0.16754    0.11734  -1.428   0.1536    \n",
       "AREA2               0.86185    0.18023   4.782 1.92e-06 ***\n",
       "KIDSDRIV            0.07216    0.09901   0.729   0.4662    \n",
       "TRAVTIME           -0.04075    0.05816  -0.701   0.4836    \n",
       "BLUEBOOK           -0.06802    0.06172  -1.102   0.2706    \n",
       "MVR_PTS             0.18948    0.02281   8.305 2.33e-16 ***\n",
       "AGE                 0.04590    0.06028   0.761   0.4465    \n",
       "INCOME             -0.01045    0.06516  -0.160   0.8726    \n",
       "HOME_VAL           -0.13227    0.07467  -1.771   0.0767 .  \n",
       "BLUEBOOK:INCOME    -0.11221    0.05532  -2.028   0.0427 *  \n",
       "REVOLKED2:HOME_VAL  0.21717    0.12492   1.738   0.0824 .  \n",
       "---\n",
       "Signif. codes:  0 '***' 0.001 '**' 0.01 '*' 0.05 '.' 0.1 ' ' 1\n",
       "\n",
       "(Dispersion parameter for Tweedie family taken to be 10.0362)\n",
       "\n",
       "    Null deviance: 10801.0  on 1405  degrees of freedom\n",
       "Residual deviance:  8166.2  on 1393  degrees of freedom\n",
       "AIC: NA\n",
       "\n",
       "Number of Fisher Scoring iterations: 6\n"
      ]
     },
     "metadata": {},
     "output_type": "display_data"
    }
   ],
   "source": [
    "round2_fit<-glm(y~.+BLUEBOOK*INCOME+REVOLKED*HOME_VAL,data=final_train\n",
    "                   ,family=tweedie(link.power=0,var.power=1.4),control=list(maxit=500))\n",
    "summary(round2_fit)"
   ]
  },
  {
   "cell_type": "code",
   "execution_count": 26,
   "metadata": {},
   "outputs": [
    {
     "data": {
      "text/html": [
       "5299.93246592558"
      ],
      "text/latex": [
       "5299.93246592558"
      ],
      "text/markdown": [
       "5299.93246592558"
      ],
      "text/plain": [
       "[1] 5299.932"
      ]
     },
     "metadata": {},
     "output_type": "display_data"
    },
    {
     "data": {
      "text/html": [
       "5302.09713098147"
      ],
      "text/latex": [
       "5302.09713098147"
      ],
      "text/markdown": [
       "5302.09713098147"
      ],
      "text/plain": [
       "[1] 5302.097"
      ]
     },
     "metadata": {},
     "output_type": "display_data"
    }
   ],
   "source": [
    "AICtweedie(round2_fit)\n",
    "AICtweedie(round1_fit)"
   ]
  },
  {
   "cell_type": "code",
   "execution_count": 28,
   "metadata": {},
   "outputs": [],
   "source": [
    "tmp_x<-model.matrix(~.+BLUEBOOK*INCOME+REVOLKED*HOME_VAL\n",
    "                 ,data=autocross_test)\n",
    "a<-round2_fit$coefficients\n",
    "pred_round2<-exp(tmp_x%*%a)"
   ]
  },
  {
   "cell_type": "code",
   "execution_count": 29,
   "metadata": {},
   "outputs": [
    {
     "data": {
      "text/html": [
       "5.46633290471933"
      ],
      "text/latex": [
       "5.46633290471933"
      ],
      "text/markdown": [
       "5.46633290471933"
      ],
      "text/plain": [
       "[1] 5.466333"
      ]
     },
     "metadata": {},
     "output_type": "display_data"
    },
    {
     "data": {
      "text/html": [
       "5.42509092371934"
      ],
      "text/latex": [
       "5.42509092371934"
      ],
      "text/markdown": [
       "5.42509092371934"
      ],
      "text/plain": [
       "[1] 5.425091"
      ]
     },
     "metadata": {},
     "output_type": "display_data"
    },
    {
     "data": {
      "text/html": [
       "5.40613658615444"
      ],
      "text/latex": [
       "5.40613658615444"
      ],
      "text/markdown": [
       "5.40613658615444"
      ],
      "text/plain": [
       "[1] 5.406137"
      ]
     },
     "metadata": {},
     "output_type": "display_data"
    }
   ],
   "source": [
    "mean(tweedie.dev(ytest,pred_fit1,1.4))\n",
    "mean(tweedie.dev(ytest,pred_round1,1.4))\n",
    "mean(tweedie.dev(ytest,pred_round2,1.4))\n"
   ]
  },
  {
   "cell_type": "code",
   "execution_count": 121,
   "metadata": {},
   "outputs": [],
   "source": [
    "train_data<-autocross\n",
    "result_round3=matrix(nrow=dim(train_data)[2],ncol=dim(train_data)[2])\n",
    "cat_coef=list()\n",
    "cat_coef_names=c()\n",
    "for(i in 2:(dim(train_data)[2])-1){\n",
    "    for(j in (i+1):(dim(train_data)[2])){\n",
    "        if(i==1 &&j==10||i==6&&j==9){result_round3[i,j]=999999}\n",
    "        else{\n",
    "            if (is.numeric(train_data[,i])&&is.numeric(train_data[,j])){\n",
    "            tmp_x <- train_data[,i]*train_data[,j]\n",
    "            tmp_fit<-glm(ytrain~tmp_x+offset(log(fitted(round2_fit)))\n",
    "                   ,family=tweedie(link.power=0,var.power=1.4),control=list(maxit=500))\n",
    "            result_round3[i,j]=mean(residuals(tmp_fit)^2)\n",
    "        }\n",
    "            else{\n",
    "                tmp_x<-model.matrix(~train_data[,i]*train_data[,j])\n",
    "                tmp_x<-as.matrix(tmp_x)[,-1]\n",
    "                tmp_cvfit<-cv.glmnet(x=tmp_x,y=ytrain,family=tweedie(link.power=0,var.power=1.4),alpha=0.5 \n",
    "                                     ,offset=log(fitted(round2_fit)),type.measure = 'deviance')\n",
    "                tmp_lambda<- tmp_cvfit$lambda.min\n",
    "                tmp_fit<-glmnet(x=tmp_x,y=ytrain,family=tweedie(link.power=0,var.power=1.4),alpha=0.5\n",
    "                                     ,offset=log(fitted(round2_fit)),lambda=tmp_lambda)\n",
    "                tmp_coef<-as.matrix(coef(tmp_fit))[,1]\n",
    "            if (length(which(tmp_coef!=0))==0){\n",
    "                result_round3[i,j]=9999}\n",
    "            else{\n",
    "                tmp_x<-model.matrix(~train_data[,i]*train_data[,j])\n",
    "                tmp_fitted<-exp(tmp_x%*%tmp_coef+log(fitted(round2_fit)))\n",
    "                result_round3[i,j]<-mean(tweedie.dev(ytrain,tmp_fitted,1.4))\n",
    "                cat_coef=append(cat_coef,list(as.numeric(tmp_coef)))\n",
    "                cat_coef_names=c(cat_coef_names,paste(as.character(i),as.character(j),sep=''))      \n",
    "            }\n",
    "            names(cat_coef)=cat_coef_names\n",
    "    }\n",
    "  }\n",
    "    }\n",
    "    }\n"
   ]
  },
  {
   "cell_type": "code",
   "execution_count": 70,
   "metadata": {},
   "outputs": [],
   "source": [
    "result_round_3_threeway1=rep(0,dim(train_data)[2])\n",
    "cat_coef_round33=list()\n",
    "cat_coef_names_round33=c()\n",
    "for(i in 1:(dim(train_data)[2])){\n",
    "  if (i==6|| i==9){\n",
    "    result_round_3_threeway1[i]=99999\n",
    "  }\n",
    "  else{\n",
    "      tmp_x<-model.matrix(~train_data[,6]*train_data[,9]*train_data[,i])\n",
    "      tmp_x<-tmp_x[,-1]\n",
    "      tmp_cvfit<-cv.glmnet(x=tmp_x,y=ytrain,family=tweedie(link.power=0,var.power=1.4),alpha=0.5\n",
    "                                 ,offset=log(fitted(round2_fit)),type.measure = 'deviance')\n",
    "      tmp_lambda<- tmp_cvfit$lambda.min\n",
    "      tmp_fit<-glmnet(x=tmp_x,y=ytrain,family=tweedie(link.power=0,var.power=1.4),alpha=0.5\n",
    "                                 ,offset=log(fitted(round2_fit)),lambda=tmp_lambda)\n",
    "      tmp_coef<-as.matrix(coef(tmp_fit))[,1]\n",
    "      if (length(which(tmp_coef!=0))==0){\n",
    "        result_round_3_threeway1[i]=9999}\n",
    "      else{\n",
    "          tmp_x<-model.matrix(~train_data[,6]*train_data[,9]*train_data[,i])\n",
    "          tmp_fitted<-exp(tmp_x%*%tmp_coef+log(fitted(round2_fit)))\n",
    "          result_round_3_threeway1[i]<-mean(tweedie.dev(ytrain,tmp_fitted,1.4))\n",
    "          cat_coef_round33=append(cat_coef_round33,list(as.numeric(tmp_coef)))\n",
    "          cat_coef_names_round33=c(cat_coef_names_round33,paste(as.character(i),sep=''))       \n",
    "            }  \n",
    "      names(cat_coef_round33)=cat_coef_names_round33\n",
    "}\n",
    "    }"
   ]
  },
  {
   "cell_type": "code",
   "execution_count": 72,
   "metadata": {},
   "outputs": [],
   "source": [
    "result_round_3_threeway2=rep(0,dim(train_data)[2])\n",
    "cat_coef_round332=list()\n",
    "cat_coef_names_round332=c()\n",
    "for(i in 1:(dim(train_data)[2])){\n",
    "  if (i==1|| i==10){\n",
    "    result_round_3_threeway2[i]=99999\n",
    "  }\n",
    "  else{\n",
    "      tmp_x<-model.matrix(~train_data[,1]*train_data[,10]*train_data[,i])\n",
    "      tmp_x<-tmp_x[,-1]\n",
    "      tmp_cvfit<-cv.glmnet(x=tmp_x,y=ytrain,family=tweedie(link.power=0,var.power=1.4),alpha=0.5\n",
    "                                 ,offset=log(fitted(round2_fit)),type.measure = 'deviance')\n",
    "      tmp_lambda<- tmp_cvfit$lambda.min\n",
    "      tmp_fit<-glmnet(x=tmp_x,y=ytrain,family=tweedie(link.power=0,var.power=1.4),alpha=0.5\n",
    "                                 ,offset=log(fitted(round2_fit)),lambda=tmp_lambda)\n",
    "      tmp_coef<-as.matrix(coef(tmp_fit))[,1]\n",
    "      if (length(which(tmp_coef!=0))==0){\n",
    "        result_round_3_threeway2[i]=9999}\n",
    "      else{\n",
    "          tmp_x<-model.matrix(~train_data[,1]*train_data[,10]*train_data[,i])\n",
    "          tmp_fitted<-exp(tmp_x%*%tmp_coef+log(fitted(round2_fit)))\n",
    "          result_round_3_threeway2[i]<-mean(tweedie.dev(ytrain,tmp_fitted,1.4))\n",
    "          cat_coef_round332=append(cat_coef_round332,list(as.numeric(tmp_coef)))\n",
    "          cat_coef_names_round332=c(cat_coef_names_round332,paste(as.character(i),sep=''))       \n",
    "            }  \n",
    "      names(cat_coef_round332)=cat_coef_names_round332\n",
    "}\n",
    "    }"
   ]
  },
  {
   "cell_type": "code",
   "execution_count": 73,
   "metadata": {},
   "outputs": [],
   "source": [
    "tmp_x<-model.matrix(~train_data[,1]*train_data[,6]*train_data[,9]*train_data[,10])\n",
    "tmp_x<-tmp_x[,-1]\n",
    "tmp_cvfit<-cv.glmnet(x=tmp_x,y=ytrain,family=tweedie(link.power=0,var.power=1.4),alpha=0.5\n",
    "                                 ,offset=log(fitted(round2_fit)),type.measure = 'deviance')\n",
    "tmp_lambda<- tmp_cvfit$lambda.min\n",
    "tmp_fit<-glmnet(x=tmp_x,y=ytrain,family=tweedie(link.power=0,var.power=1.4),alpha=0.5\n",
    "                                 ,offset=log(fitted(round2_fit)),lambda=tmp_lambda)\n",
    "tmp_coef<-as.matrix(coef(tmp_fit))[,1]\n",
    "tmp_x<-model.matrix(~train_data[,1]*train_data[,6]*train_data[,9]*train_data[,10])\n",
    "tmp_fitted<-exp(tmp_x%*%tmp_coef+log(fitted(round2_fit)))\n",
    "result_round_3_fourway<-mean(tweedie.dev(ytrain,tmp_fitted,1.4))"
   ]
  },
  {
   "cell_type": "code",
   "execution_count": 138,
   "metadata": {},
   "outputs": [],
   "source": [
    "result_round3_final<-cbind(result_round3,result_round_3_threeway1,result_round_3_threeway2)"
   ]
  },
  {
   "cell_type": "code",
   "execution_count": 123,
   "metadata": {},
   "outputs": [
    {
     "data": {
      "text/html": [
       "5.79601828594154"
      ],
      "text/latex": [
       "5.79601828594154"
      ],
      "text/markdown": [
       "5.79601828594154"
      ],
      "text/plain": [
       "[1] 5.796018"
      ]
     },
     "metadata": {},
     "output_type": "display_data"
    },
    {
     "data": {
      "text/html": [
       "5.8080780819459"
      ],
      "text/latex": [
       "5.8080780819459"
      ],
      "text/markdown": [
       "5.8080780819459"
      ],
      "text/plain": [
       "[1] 5.808078"
      ]
     },
     "metadata": {},
     "output_type": "display_data"
    }
   ],
   "source": [
    "min(result_round3_final,na.rm=T)\n",
    "result_round_3_fourway"
   ]
  },
  {
   "cell_type": "code",
   "execution_count": 140,
   "metadata": {},
   "outputs": [
    {
     "data": {
      "text/html": [
       "<table class=\"dataframe\">\n",
       "<caption>A matrix: 1 × 2 of type int</caption>\n",
       "<thead>\n",
       "\t<tr><th scope=col>row</th><th scope=col>col</th></tr>\n",
       "</thead>\n",
       "<tbody>\n",
       "\t<tr><td>1</td><td>4</td></tr>\n",
       "</tbody>\n",
       "</table>\n"
      ],
      "text/latex": [
       "A matrix: 1 × 2 of type int\n",
       "\\begin{tabular}{ll}\n",
       " row & col\\\\\n",
       "\\hline\n",
       "\t 1 & 4\\\\\n",
       "\\end{tabular}\n"
      ],
      "text/markdown": [
       "\n",
       "A matrix: 1 × 2 of type int\n",
       "\n",
       "| row | col |\n",
       "|---|---|\n",
       "| 1 | 4 |\n",
       "\n"
      ],
      "text/plain": [
       "     row col\n",
       "[1,] 1   4  "
      ]
     },
     "metadata": {},
     "output_type": "display_data"
    }
   ],
   "source": [
    "round3_index<-which(result_round3_final == min(result_round3_final,na.rm=T), arr.ind = TRUE)\n",
    "round3_index"
   ]
  },
  {
   "cell_type": "code",
   "execution_count": 172,
   "metadata": {},
   "outputs": [
    {
     "data": {
      "text/html": [
       "'REVOLKED'"
      ],
      "text/latex": [
       "'REVOLKED'"
      ],
      "text/markdown": [
       "'REVOLKED'"
      ],
      "text/plain": [
       "[1] \"REVOLKED\""
      ]
     },
     "metadata": {},
     "output_type": "display_data"
    },
    {
     "data": {
      "text/html": [
       "'KIDSDRIV'"
      ],
      "text/latex": [
       "'KIDSDRIV'"
      ],
      "text/markdown": [
       "'KIDSDRIV'"
      ],
      "text/plain": [
       "[1] \"KIDSDRIV\""
      ]
     },
     "metadata": {},
     "output_type": "display_data"
    },
    {
     "data": {
      "text/html": [
       "12"
      ],
      "text/latex": [
       "12"
      ],
      "text/markdown": [
       "12"
      ],
      "text/plain": [
       "[1] 12"
      ]
     },
     "metadata": {},
     "output_type": "display_data"
    },
    {
     "data": {
      "text/html": [
       "'result_round_3_threeway1'"
      ],
      "text/latex": [
       "'result\\_round\\_3\\_threeway1'"
      ],
      "text/markdown": [
       "'result_round_3_threeway1'"
      ],
      "text/plain": [
       "[1] \"result_round_3_threeway1\""
      ]
     },
     "metadata": {},
     "output_type": "display_data"
    }
   ],
   "source": [
    "colnames(autocross)[1]\n",
    "colnames(autocross)[4]\n",
    "length(colnames(result_round3_final))\n",
    "colnames(result_round3_final)[11]"
   ]
  },
  {
   "cell_type": "code",
   "execution_count": 173,
   "metadata": {},
   "outputs": [],
   "source": [
    "tmp_x3<-model.matrix(~.+BLUEBOOK*INCOME+MVR_PTS+REVOLKED*HOME_VAL+REVOLKED*KIDSDRIV,data=train_data)\n",
    "tmp_x3<-tmp_x3[,-1]"
   ]
  },
  {
   "cell_type": "code",
   "execution_count": 174,
   "metadata": {},
   "outputs": [],
   "source": [
    "tmp_cvfit3<-cv.glmnet(x=tmp_x3,y=ytrain,family=tweedie(link.power=0,var.power=1.4),alpha=0.5\n",
    "                                 ,type.measure = 'deviance')\n",
    "tmp_lambda<- tmp_cvfit3$lambda.min\n",
    "tmp_fit3<-glmnet(x=tmp_x3,y=ytrain,family=tweedie(link.power=0,var.power=1.4),alpha=0.5\n",
    "                                 ,lambda=tmp_lambda)\n",
    "tmp_coef3<-as.matrix(coef(tmp_fit3))[,1]\n",
    "tmp_x3<-model.matrix(~.+BLUEBOOK*INCOME+MVR_PTS+REVOLKED*HOME_VAL+REVOLKED*KIDSDRIV,data=train_data)\n",
    "fitted_fit3_lasso<-exp(tmp_x3%*%tmp_coef3)"
   ]
  },
  {
   "cell_type": "code",
   "execution_count": 205,
   "metadata": {},
   "outputs": [],
   "source": [
    "den<-dtweedie(ytrain,mu=fitted_fit3_lasso,phi=sum(tweedie.dev(ytrain,fitted_fit3_lasso,1.4))/length(ytrain),power=1.4)\n",
    "AIC_fit3_lasso<--2*sum( log(den))+2*(tmp_fit3$df)"
   ]
  },
  {
   "cell_type": "code",
   "execution_count": 30,
   "metadata": {},
   "outputs": [],
   "source": [
    "round3_fit<-glm(y~.+BLUEBOOK*INCOME+MVR_PTS+REVOLKED*HOME_VAL+REVOLKED*KIDSDRIV,data=final_train\n",
    "                   ,family=tweedie(link.power=0,var.power=1.4),control=list(maxit=500))"
   ]
  },
  {
   "cell_type": "code",
   "execution_count": 31,
   "metadata": {},
   "outputs": [
    {
     "data": {
      "text/plain": [
       "\n",
       "Call:\n",
       "glm(formula = y ~ . + BLUEBOOK * INCOME + MVR_PTS + REVOLKED * \n",
       "    HOME_VAL + REVOLKED * KIDSDRIV, family = tweedie(link.power = 0, \n",
       "    var.power = 1.4), data = final_train, control = list(maxit = 500))\n",
       "\n",
       "Deviance Residuals: \n",
       "    Min       1Q   Median       3Q      Max  \n",
       "-5.2913  -2.3450  -1.8590   0.2551  12.7029  \n",
       "\n",
       "Coefficients:\n",
       "                   Estimate Std. Error t value Pr(>|t|)    \n",
       "(Intercept)        -0.06909    0.18155  -0.381   0.7036    \n",
       "REVOLKED2           1.58922    0.13974  11.373  < 2e-16 ***\n",
       "GENDER2            -0.16208    0.11764  -1.378   0.1685    \n",
       "AREA2               0.85877    0.18020   4.766 2.08e-06 ***\n",
       "KIDSDRIV            0.18271    0.11413   1.601   0.1096    \n",
       "TRAVTIME           -0.04368    0.05828  -0.749   0.4537    \n",
       "BLUEBOOK           -0.05900    0.06236  -0.946   0.3442    \n",
       "MVR_PTS             0.18840    0.02288   8.236 4.06e-16 ***\n",
       "AGE                 0.03943    0.06047   0.652   0.5145    \n",
       "INCOME             -0.01283    0.06530  -0.196   0.8443    \n",
       "HOME_VAL           -0.13365    0.07486  -1.785   0.0744 .  \n",
       "BLUEBOOK:INCOME    -0.11192    0.05555  -2.015   0.0441 *  \n",
       "REVOLKED2:HOME_VAL  0.22490    0.12562   1.790   0.0736 .  \n",
       "REVOLKED2:KIDSDRIV -0.41942    0.23069  -1.818   0.0693 .  \n",
       "---\n",
       "Signif. codes:  0 '***' 0.001 '**' 0.01 '*' 0.05 '.' 0.1 ' ' 1\n",
       "\n",
       "(Dispersion parameter for Tweedie family taken to be 10.06955)\n",
       "\n",
       "    Null deviance: 10801.0  on 1405  degrees of freedom\n",
       "Residual deviance:  8132.6  on 1392  degrees of freedom\n",
       "AIC: NA\n",
       "\n",
       "Number of Fisher Scoring iterations: 6\n"
      ]
     },
     "metadata": {},
     "output_type": "display_data"
    }
   ],
   "source": [
    "summary(round3_fit)"
   ]
  },
  {
   "cell_type": "code",
   "execution_count": 206,
   "metadata": {},
   "outputs": [
    {
     "data": {
      "text/html": [
       "5303.06425751449"
      ],
      "text/latex": [
       "5303.06425751449"
      ],
      "text/markdown": [
       "5303.06425751449"
      ],
      "text/plain": [
       "[1] 5303.064"
      ]
     },
     "metadata": {},
     "output_type": "display_data"
    },
    {
     "data": {
      "text/html": [
       "5297.27719362807"
      ],
      "text/latex": [
       "5297.27719362807"
      ],
      "text/markdown": [
       "5297.27719362807"
      ],
      "text/plain": [
       "[1] 5297.277"
      ]
     },
     "metadata": {},
     "output_type": "display_data"
    },
    {
     "data": {
      "text/html": [
       "5299.93246592558"
      ],
      "text/latex": [
       "5299.93246592558"
      ],
      "text/markdown": [
       "5299.93246592558"
      ],
      "text/plain": [
       "[1] 5299.932"
      ]
     },
     "metadata": {},
     "output_type": "display_data"
    },
    {
     "data": {
      "text/html": [
       "5302.09713098147"
      ],
      "text/latex": [
       "5302.09713098147"
      ],
      "text/markdown": [
       "5302.09713098147"
      ],
      "text/plain": [
       "[1] 5302.097"
      ]
     },
     "metadata": {},
     "output_type": "display_data"
    }
   ],
   "source": [
    "AIC_fit3_lasso\n",
    "AICtweedie(round3_fit)\n",
    "AICtweedie(round2_fit)\n",
    "AICtweedie(round1_fit)"
   ]
  },
  {
   "cell_type": "code",
   "execution_count": 32,
   "metadata": {},
   "outputs": [],
   "source": [
    "tmp_x<-model.matrix(~.+BLUEBOOK*INCOME+MVR_PTS+REVOLKED*HOME_VAL+REVOLKED*KIDSDRIV\n",
    "                 ,data=autocross_test)\n",
    "a<-round3_fit$coefficients\n",
    "pred_round3<-exp(tmp_x%*%a)"
   ]
  },
  {
   "cell_type": "code",
   "execution_count": 181,
   "metadata": {},
   "outputs": [],
   "source": [
    "pred_round3_lasso<-exp(tmp_x%*%tmp_coef3)"
   ]
  },
  {
   "cell_type": "code",
   "execution_count": 182,
   "metadata": {},
   "outputs": [
    {
     "data": {
      "text/html": [
       "5.46633290471933"
      ],
      "text/latex": [
       "5.46633290471933"
      ],
      "text/markdown": [
       "5.46633290471933"
      ],
      "text/plain": [
       "[1] 5.466333"
      ]
     },
     "metadata": {},
     "output_type": "display_data"
    },
    {
     "data": {
      "text/html": [
       "5.42509092371934"
      ],
      "text/latex": [
       "5.42509092371934"
      ],
      "text/markdown": [
       "5.42509092371934"
      ],
      "text/plain": [
       "[1] 5.425091"
      ]
     },
     "metadata": {},
     "output_type": "display_data"
    },
    {
     "data": {
      "text/html": [
       "5.40613658615444"
      ],
      "text/latex": [
       "5.40613658615444"
      ],
      "text/markdown": [
       "5.40613658615444"
      ],
      "text/plain": [
       "[1] 5.406137"
      ]
     },
     "metadata": {},
     "output_type": "display_data"
    },
    {
     "data": {
      "text/html": [
       "5.41581614945691"
      ],
      "text/latex": [
       "5.41581614945691"
      ],
      "text/markdown": [
       "5.41581614945691"
      ],
      "text/plain": [
       "[1] 5.415816"
      ]
     },
     "metadata": {},
     "output_type": "display_data"
    },
    {
     "data": {
      "text/html": [
       "5.46794034487262"
      ],
      "text/latex": [
       "5.46794034487262"
      ],
      "text/markdown": [
       "5.46794034487262"
      ],
      "text/plain": [
       "[1] 5.46794"
      ]
     },
     "metadata": {},
     "output_type": "display_data"
    }
   ],
   "source": [
    "mean(tweedie.dev(ytest,pred_fit1,1.4))\n",
    "mean(tweedie.dev(ytest,pred_round1,1.4))\n",
    "mean(tweedie.dev(ytest,pred_round2,1.4))\n",
    "mean(tweedie.dev(ytest,pred_round3,1.4))\n",
    "mean(tweedie.dev(ytest,pred_round3_lasso,1.4))"
   ]
  },
  {
   "cell_type": "code",
   "execution_count": 184,
   "metadata": {},
   "outputs": [
    {
     "data": {
      "text/plain": [
       "\n",
       "Call:\n",
       "gini(loss = \"y\", score = paste(\"P\", 1:3, sep = \"\"), base = \"base\", \n",
       "    data = da)\n",
       "\n",
       "Gini indices:\n",
       "      P1     P2     P3   \n",
       "base  50.56  50.53  49.91\n",
       "\n",
       "Standard errors:\n",
       "      P1     P2     P3   \n",
       "base  2.336  2.407  2.473\n",
       "\n",
       "The selected score is P1."
      ]
     },
     "metadata": {},
     "output_type": "display_data"
    }
   ],
   "source": [
    "da <- data.frame('y'=ytest,\"P1\"=pred_round3,\n",
    "                 'P2'=pred_round3_lasso,\"P3\"=pred_fit1,'base'=rep(1,length(ytest)))\n",
    "gg <- gini(loss = \"y\", score  = paste(\"P\", 1:3, sep = \"\"), base= 'base',\n",
    "           data = da)\n",
    "gg"
   ]
  },
  {
   "cell_type": "code",
   "execution_count": 146,
   "metadata": {},
   "outputs": [],
   "source": [
    "result_round4=matrix(nrow=dim(train_data)[2],ncol=dim(train_data)[2])\n",
    "cat_coef=list()\n",
    "cat_coef_names=c()\n",
    "for(i in 2:(dim(train_data)[2])-1){\n",
    "    for(j in (i+1):(dim(train_data)[2])){\n",
    "        if(i==1 &&j==4||i==1 &&j==10||i==6&&j==9){result_round4[i,j]=999999}\n",
    "        else{\n",
    "            if (is.numeric(train_data[,i])&&is.numeric(train_data[,j])){\n",
    "            tmp_x <- train_data[,i]*train_data[,j]\n",
    "            tmp_fit<-glm(ytrain~tmp_x+offset(log(fitted(round3_fit)))\n",
    "                   ,family=tweedie(link.power=0,var.power=1.4),control=list(maxit=500))\n",
    "            result_round4[i,j]=mean(residuals(tmp_fit)^2)\n",
    "        }\n",
    "            else{\n",
    "                tmp_x<-model.matrix(~train_data[,i]*train_data[,j])\n",
    "                tmp_x<-as.matrix(tmp_x)[,-1]\n",
    "                tmp_cvfit<-cv.glmnet(x=tmp_x,y=ytrain,family=tweedie(link.power=0,var.power=1.4),alpha=0.5 \n",
    "                                     ,offset=log(fitted(round3_fit)),type.measure = 'deviance')\n",
    "                tmp_lambda<- tmp_cvfit$lambda.min\n",
    "                tmp_fit<-glmnet(x=tmp_x,y=ytrain,family=tweedie(link.power=0,var.power=1.4),alpha=0.5\n",
    "                                     ,offset=log(fitted(round3_fit)),lambda=tmp_lambda)\n",
    "                tmp_coef<-as.matrix(coef(tmp_fit))[,1]\n",
    "            if (length(which(tmp_coef!=0))==0){\n",
    "                result_round4[i,j]=9999}\n",
    "            else{\n",
    "                tmp_x<-model.matrix(~train_data[,i]*train_data[,j])\n",
    "                tmp_fitted<-exp(tmp_x%*%tmp_coef+log(fitted(round3_fit)))\n",
    "                result_round4[i,j]<-mean(tweedie.dev(ytrain,tmp_fitted,1.4))\n",
    "                cat_coef=append(cat_coef,list(as.numeric(tmp_coef)))\n",
    "                cat_coef_names=c(cat_coef_names,paste(as.character(i),as.character(j),sep=''))      \n",
    "            }\n",
    "            names(cat_coef)=cat_coef_names\n",
    "    }\n",
    "  }\n",
    "    }\n",
    "    }\n"
   ]
  },
  {
   "cell_type": "code",
   "execution_count": 147,
   "metadata": {},
   "outputs": [],
   "source": [
    "result_round_4_threeway1=rep(0,dim(train_data)[2])\n",
    "cat_coef_round43=list()\n",
    "cat_coef_names_round43=c()\n",
    "for(i in 1:(dim(train_data)[2])){\n",
    "  if (i==6|| i==9){\n",
    "    result_round_4_threeway1[i]=99999\n",
    "  }\n",
    "  else{\n",
    "      tmp_x<-model.matrix(~train_data[,6]*train_data[,9]*train_data[,i])\n",
    "      tmp_x<-tmp_x[,-1]\n",
    "      tmp_cvfit<-cv.glmnet(x=tmp_x,y=ytrain,family=tweedie(link.power=0,var.power=1.4),alpha=0.5\n",
    "                                 ,offset=log(fitted(round3_fit)),type.measure = 'deviance')\n",
    "      tmp_lambda<- tmp_cvfit$lambda.min\n",
    "      tmp_fit<-glmnet(x=tmp_x,y=ytrain,family=tweedie(link.power=0,var.power=1.4),alpha=0.5\n",
    "                                 ,offset=log(fitted(round3_fit)),lambda=tmp_lambda)\n",
    "      tmp_coef<-as.matrix(coef(tmp_fit))[,1]\n",
    "      if (length(which(tmp_coef!=0))==0){\n",
    "        result_round_4_threeway1[i]=9999}\n",
    "      else{\n",
    "          tmp_x<-model.matrix(~train_data[,6]*train_data[,9]*train_data[,i])\n",
    "          tmp_fitted<-exp(tmp_x%*%tmp_coef+log(fitted(round3_fit)))\n",
    "          result_round_4_threeway1[i]<-mean(tweedie.dev(ytrain,tmp_fitted,1.4))\n",
    "          cat_coef_round43=append(cat_coef_round43,list(as.numeric(tmp_coef)))\n",
    "          cat_coef_names_round43=c(cat_coef_names_round43,paste(as.character(i),sep=''))       \n",
    "            }  \n",
    "      names(cat_coef_round43)=cat_coef_names_round43\n",
    "}\n",
    "    }"
   ]
  },
  {
   "cell_type": "code",
   "execution_count": 148,
   "metadata": {},
   "outputs": [],
   "source": [
    "result_round_4_threeway2=rep(0,dim(train_data)[2])\n",
    "cat_coef_round432=list()\n",
    "cat_coef_names_round432=c()\n",
    "for(i in 1:(dim(train_data)[2])){\n",
    "  if (i==1|| i==10){\n",
    "    result_round_4_threeway2[i]=99999\n",
    "  }\n",
    "  else{\n",
    "      tmp_x<-model.matrix(~train_data[,1]*train_data[,10]*train_data[,i])\n",
    "      tmp_x<-tmp_x[,-1]\n",
    "      tmp_cvfit<-cv.glmnet(x=tmp_x,y=ytrain,family=tweedie(link.power=0,var.power=1.4),alpha=0.5\n",
    "                                 ,offset=log(fitted(round3_fit)),type.measure = 'deviance')\n",
    "      tmp_lambda<- tmp_cvfit$lambda.min\n",
    "      tmp_fit<-glmnet(x=tmp_x,y=ytrain,family=tweedie(link.power=0,var.power=1.4),alpha=0.5\n",
    "                                 ,offset=log(fitted(round3_fit)),lambda=tmp_lambda)\n",
    "      tmp_coef<-as.matrix(coef(tmp_fit))[,1]\n",
    "      if (length(which(tmp_coef!=0))==0){\n",
    "        result_round_4_threeway2[i]=9999}\n",
    "      else{\n",
    "          tmp_x<-model.matrix(~train_data[,1]*train_data[,10]*train_data[,i])\n",
    "          tmp_fitted<-exp(tmp_x%*%tmp_coef+log(fitted(round3_fit)))\n",
    "          result_round_4_threeway2[i]<-mean(tweedie.dev(ytrain,tmp_fitted,1.4))\n",
    "          cat_coef_round432=append(cat_coef_round432,list(as.numeric(tmp_coef)))\n",
    "          cat_coef_names_round432=c(cat_coef_names_round432,paste(as.character(i),sep=''))       \n",
    "            }  \n",
    "      names(cat_coef_round432)=cat_coef_names_round432\n",
    "}\n",
    "    }"
   ]
  },
  {
   "cell_type": "code",
   "execution_count": 149,
   "metadata": {},
   "outputs": [],
   "source": [
    "result_round_4_threeway3=rep(0,dim(train_data)[2])\n",
    "cat_coef_round433=list()\n",
    "cat_coef_names_round433=c()\n",
    "for(i in 1:(dim(train_data)[2])){\n",
    "  if (i==1|| i==4){\n",
    "    result_round_4_threeway3[i]=99999\n",
    "  }\n",
    "  else{\n",
    "      tmp_x<-model.matrix(~train_data[,1]*train_data[,4]*train_data[,i])\n",
    "      tmp_x<-tmp_x[,-1]\n",
    "      tmp_cvfit<-cv.glmnet(x=tmp_x,y=ytrain,family=tweedie(link.power=0,var.power=1.4),alpha=0.5\n",
    "                                 ,offset=log(fitted(round3_fit)),type.measure = 'deviance')\n",
    "      tmp_lambda<- tmp_cvfit$lambda.min\n",
    "      tmp_fit<-glmnet(x=tmp_x,y=ytrain,family=tweedie(link.power=0,var.power=1.4),alpha=0.5\n",
    "                                 ,offset=log(fitted(round3_fit)),lambda=tmp_lambda)\n",
    "      tmp_coef<-as.matrix(coef(tmp_fit))[,1]\n",
    "      if (length(which(tmp_coef!=0))==0){\n",
    "        result_round_4_threeway3[i]=9999}\n",
    "      else{\n",
    "          tmp_x<-model.matrix(~train_data[,1]*train_data[,4]*train_data[,i])\n",
    "          tmp_fitted<-exp(tmp_x%*%tmp_coef+log(fitted(round3_fit)))\n",
    "          result_round_4_threeway3[i]<-mean(tweedie.dev(ytrain,tmp_fitted,1.4))\n",
    "          cat_coef_round433=append(cat_coef_round433,list(as.numeric(tmp_coef)))\n",
    "          cat_coef_names_round433=c(cat_coef_names_round433,paste(as.character(i),sep=''))       \n",
    "            }  \n",
    "      names(cat_coef_round433)=cat_coef_names_round433\n",
    "}\n",
    "    }"
   ]
  },
  {
   "cell_type": "code",
   "execution_count": 160,
   "metadata": {},
   "outputs": [],
   "source": [
    "tmp_x<-model.matrix(~train_data[,1]*train_data[,6]*train_data[,9]*train_data[,10])\n",
    "tmp_x<-tmp_x[,-1]\n",
    "tmp_cvfit<-cv.glmnet(x=tmp_x,y=ytrain,family=tweedie(link.power=0,var.power=1.4),alpha=0.5\n",
    "                                 ,offset=log(fitted(round3_fit)),type.measure = 'deviance')\n",
    "tmp_lambda<- tmp_cvfit$lambda.min\n",
    "tmp_fit<-glmnet(x=tmp_x,y=ytrain,family=tweedie(link.power=0,var.power=1.4),alpha=0.5\n",
    "                                 ,offset=log(fitted(round3_fit)),lambda=tmp_lambda)\n",
    "tmp_coef<-as.matrix(coef(tmp_fit))[,1]\n",
    "tmp_x<-model.matrix(~train_data[,1]*train_data[,6]*train_data[,9]*train_data[,10])\n",
    "tmp_fitted<-exp(tmp_x%*%tmp_coef+log(fitted(round3_fit)))\n",
    "result_round_4_fourway1<-mean(tweedie.dev(ytrain,tmp_fitted,1.4))\n"
   ]
  },
  {
   "cell_type": "code",
   "execution_count": 162,
   "metadata": {},
   "outputs": [],
   "source": [
    "tmp_x<-model.matrix(~train_data[,1]*train_data[,4]*train_data[,6]*train_data[,9])\n",
    "tmp_x<-tmp_x[,-1]\n",
    "tmp_cvfit<-cv.glmnet(x=tmp_x,y=ytrain,family=tweedie(link.power=0,var.power=1.4),alpha=0.5\n",
    "                                 ,offset=log(fitted(round3_fit)),type.measure = 'deviance')\n",
    "tmp_lambda<- tmp_cvfit$lambda.min\n",
    "tmp_fit<-glmnet(x=tmp_x,y=ytrain,family=tweedie(link.power=0,var.power=1.4),alpha=0.5\n",
    "                                 ,offset=log(fitted(round3_fit)),lambda=tmp_lambda)\n",
    "tmp_coef<-as.matrix(coef(tmp_fit))[,1]\n",
    "tmp_x<-model.matrix(~train_data[,1]*train_data[,4]*train_data[,6]*train_data[,9])\n",
    "tmp_fitted<-exp(tmp_x%*%tmp_coef+log(fitted(round3_fit)))\n",
    "result_round_4_fourway2<-mean(tweedie.dev(ytrain,tmp_fitted,1.4))"
   ]
  },
  {
   "cell_type": "code",
   "execution_count": 164,
   "metadata": {},
   "outputs": [],
   "source": [
    "tmp_x<-model.matrix(~train_data[,1]*train_data[,4]*train_data[,6]*train_data[,9]*train_data[,10])\n",
    "tmp_x<-tmp_x[,-1]\n",
    "tmp_cvfit<-cv.glmnet(x=tmp_x,y=ytrain,family=tweedie(link.power=0,var.power=1.4),alpha=0.5\n",
    "                                 ,offset=log(fitted(round3_fit)),type.measure = 'deviance')\n",
    "tmp_lambda<- tmp_cvfit$lambda.min\n",
    "tmp_fit<-glmnet(x=tmp_x,y=ytrain,family=tweedie(link.power=0,var.power=1.4),alpha=0.5\n",
    "                                 ,offset=log(fitted(round3_fit)),lambda=tmp_lambda)\n",
    "tmp_coef<-as.matrix(coef(tmp_fit))[,1]\n",
    "tmp_x<-model.matrix(~train_data[,1]*train_data[,4]*train_data[,6]*train_data[,9]*train_data[,10])\n",
    "tmp_fitted<-exp(tmp_x%*%tmp_coef+log(fitted(round3_fit)))\n",
    "result_round_4_fiveway<-mean(tweedie.dev(ytrain,tmp_fitted,1.4))"
   ]
  },
  {
   "cell_type": "code",
   "execution_count": 153,
   "metadata": {},
   "outputs": [],
   "source": [
    "result_round4_final<-cbind(result_round4,result_round_4_threeway1,result_round_4_threeway2,result_round_4_threeway3)"
   ]
  },
  {
   "cell_type": "code",
   "execution_count": 159,
   "metadata": {},
   "outputs": [
    {
     "data": {
      "text/html": [
       "5.78975122419072"
      ],
      "text/latex": [
       "5.78975122419072"
      ],
      "text/markdown": [
       "5.78975122419072"
      ],
      "text/plain": [
       "[1] 5.789751"
      ]
     },
     "metadata": {},
     "output_type": "display_data"
    },
    {
     "data": {
      "text/html": [
       "5.80801796475806"
      ],
      "text/latex": [
       "5.80801796475806"
      ],
      "text/markdown": [
       "5.80801796475806"
      ],
      "text/plain": [
       "[1] 5.808018"
      ]
     },
     "metadata": {},
     "output_type": "display_data"
    },
    {
     "data": {
      "text/html": [
       "5.80801796475806"
      ],
      "text/latex": [
       "5.80801796475806"
      ],
      "text/markdown": [
       "5.80801796475806"
      ],
      "text/plain": [
       "[1] 5.808018"
      ]
     },
     "metadata": {},
     "output_type": "display_data"
    },
    {
     "data": {
      "text/html": [
       "5.80801796475806"
      ],
      "text/latex": [
       "5.80801796475806"
      ],
      "text/markdown": [
       "5.80801796475806"
      ],
      "text/plain": [
       "[1] 5.808018"
      ]
     },
     "metadata": {},
     "output_type": "display_data"
    }
   ],
   "source": [
    "min(result_round4_final,na.rm=T)\n",
    "result_round_4_fourway1\n",
    "result_round_4_fourway2\n",
    "result_round_4_fiveway"
   ]
  },
  {
   "cell_type": "code",
   "execution_count": 166,
   "metadata": {},
   "outputs": [
    {
     "data": {
      "text/html": [
       "<table class=\"dataframe\">\n",
       "<caption>A matrix: 1 × 2 of type int</caption>\n",
       "<thead>\n",
       "\t<tr><th scope=col>row</th><th scope=col>col</th></tr>\n",
       "</thead>\n",
       "<tbody>\n",
       "\t<tr><td>4</td><td>12</td></tr>\n",
       "</tbody>\n",
       "</table>\n"
      ],
      "text/latex": [
       "A matrix: 1 × 2 of type int\n",
       "\\begin{tabular}{ll}\n",
       " row & col\\\\\n",
       "\\hline\n",
       "\t 4 & 12\\\\\n",
       "\\end{tabular}\n"
      ],
      "text/markdown": [
       "\n",
       "A matrix: 1 × 2 of type int\n",
       "\n",
       "| row | col |\n",
       "|---|---|\n",
       "| 4 | 12 |\n",
       "\n"
      ],
      "text/plain": [
       "     row col\n",
       "[1,] 4   12 "
      ]
     },
     "metadata": {},
     "output_type": "display_data"
    }
   ],
   "source": [
    "round4_index<-which(result_round4_final == min(result_round4_final,na.rm=T), arr.ind = TRUE)\n",
    "round4_index"
   ]
  },
  {
   "cell_type": "code",
   "execution_count": 168,
   "metadata": {},
   "outputs": [
    {
     "data": {
      "text/html": [
       "'KIDSDRIV'"
      ],
      "text/latex": [
       "'KIDSDRIV'"
      ],
      "text/markdown": [
       "'KIDSDRIV'"
      ],
      "text/plain": [
       "[1] \"KIDSDRIV\""
      ]
     },
     "metadata": {},
     "output_type": "display_data"
    },
    {
     "data": {
      "text/html": [
       "13"
      ],
      "text/latex": [
       "13"
      ],
      "text/markdown": [
       "13"
      ],
      "text/plain": [
       "[1] 13"
      ]
     },
     "metadata": {},
     "output_type": "display_data"
    },
    {
     "data": {
      "text/html": [
       "'result_round_4_threeway2'"
      ],
      "text/latex": [
       "'result\\_round\\_4\\_threeway2'"
      ],
      "text/markdown": [
       "'result_round_4_threeway2'"
      ],
      "text/plain": [
       "[1] \"result_round_4_threeway2\""
      ]
     },
     "metadata": {},
     "output_type": "display_data"
    }
   ],
   "source": [
    "colnames(autocross)[4]\n",
    "length(colnames(result_round4_final))\n",
    "colnames(result_round4_final)[12]"
   ]
  },
  {
   "cell_type": "code",
   "execution_count": 33,
   "metadata": {},
   "outputs": [],
   "source": [
    "round4_fit<-glm(y~.+BLUEBOOK*INCOME+REVOLKED*HOME_VAL*KIDSDRIV+REVOLKED*KIDSDRIV,data=final_train\n",
    "                   ,family=tweedie(link.power=0,var.power=1.4),control=list(maxit=500))\n"
   ]
  },
  {
   "cell_type": "code",
   "execution_count": 34,
   "metadata": {},
   "outputs": [
    {
     "data": {
      "text/html": [
       "5298.72494543385"
      ],
      "text/latex": [
       "5298.72494543385"
      ],
      "text/markdown": [
       "5298.72494543385"
      ],
      "text/plain": [
       "[1] 5298.725"
      ]
     },
     "metadata": {},
     "output_type": "display_data"
    }
   ],
   "source": [
    "AICtweedie(round4_fit)"
   ]
  },
  {
   "cell_type": "code",
   "execution_count": 50,
   "metadata": {},
   "outputs": [],
   "source": [
    "tmp_x4<-model.matrix(~.+BLUEBOOK*INCOME+REVOLKED*HOME_VAL*KIDSDRIV,data=train_data)\n",
    "tmp_x4<-tmp_x4[,-1]"
   ]
  },
  {
   "cell_type": "code",
   "execution_count": 52,
   "metadata": {},
   "outputs": [],
   "source": [
    "tmp_cvfit4<-cv.glmnet(x=tmp_x4,y=ytrain,family=tweedie(link.power=0,var.power=1.4),alpha=0.5\n",
    "                                 ,type.measure = 'deviance')\n",
    "tmp_lambda<- tmp_cvfit4$lambda.min\n",
    "tmp_fit4<-glmnet(x=tmp_x4,y=ytrain,family=tweedie(link.power=0,var.power=1.4),alpha=0.5\n",
    "                                 ,lambda=tmp_lambda)\n",
    "tmp_coef4<-as.matrix(coef(tmp_fit4))[,1]"
   ]
  },
  {
   "cell_type": "code",
   "execution_count": 53,
   "metadata": {},
   "outputs": [],
   "source": [
    "tmp_x4<-model.matrix(~.+BLUEBOOK*INCOME+REVOLKED*HOME_VAL*KIDSDRIV+REVOLKED*KIDSDRIV,data=train_data)\n",
    "fitted_fit4_en<-exp(tmp_x4%*%tmp_coef4)"
   ]
  },
  {
   "cell_type": "code",
   "execution_count": 54,
   "metadata": {},
   "outputs": [],
   "source": [
    "den<-dtweedie(ytrain,mu=fitted_fit4_en,phi=sum(tweedie.dev(ytrain,fitted_fit4_en,1.4))/length(ytrain),power=1.4)\n",
    "AIC_fit4_en<--2*sum( log(den))+2*(tmp_fit4$df)"
   ]
  },
  {
   "cell_type": "code",
   "execution_count": 55,
   "metadata": {},
   "outputs": [
    {
     "data": {
      "text/html": [
       "5293.89446547799"
      ],
      "text/latex": [
       "5293.89446547799"
      ],
      "text/markdown": [
       "5293.89446547799"
      ],
      "text/plain": [
       "[1] 5293.894"
      ]
     },
     "metadata": {},
     "output_type": "display_data"
    },
    {
     "data": {
      "text/html": [
       "5298.72494543385"
      ],
      "text/latex": [
       "5298.72494543385"
      ],
      "text/markdown": [
       "5298.72494543385"
      ],
      "text/plain": [
       "[1] 5298.725"
      ]
     },
     "metadata": {},
     "output_type": "display_data"
    }
   ],
   "source": [
    "AIC_fit4_en\n",
    "AICtweedie(round4_fit)"
   ]
  },
  {
   "cell_type": "code",
   "execution_count": 248,
   "metadata": {},
   "outputs": [
    {
     "data": {
      "text/html": [
       "5293.40610929824"
      ],
      "text/latex": [
       "5293.40610929824"
      ],
      "text/markdown": [
       "5293.40610929824"
      ],
      "text/plain": [
       "[1] 5293.406"
      ]
     },
     "metadata": {},
     "output_type": "display_data"
    },
    {
     "data": {
      "text/html": [
       "5295.04575576334"
      ],
      "text/latex": [
       "5295.04575576334"
      ],
      "text/markdown": [
       "5295.04575576334"
      ],
      "text/plain": [
       "[1] 5295.046"
      ]
     },
     "metadata": {},
     "output_type": "display_data"
    },
    {
     "data": {
      "text/html": [
       "5297.27719362807"
      ],
      "text/latex": [
       "5297.27719362807"
      ],
      "text/markdown": [
       "5297.27719362807"
      ],
      "text/plain": [
       "[1] 5297.277"
      ]
     },
     "metadata": {},
     "output_type": "display_data"
    },
    {
     "data": {
      "text/html": [
       "5299.93246592558"
      ],
      "text/latex": [
       "5299.93246592558"
      ],
      "text/markdown": [
       "5299.93246592558"
      ],
      "text/plain": [
       "[1] 5299.932"
      ]
     },
     "metadata": {},
     "output_type": "display_data"
    },
    {
     "data": {
      "text/html": [
       "5302.09713098147"
      ],
      "text/latex": [
       "5302.09713098147"
      ],
      "text/markdown": [
       "5302.09713098147"
      ],
      "text/plain": [
       "[1] 5302.097"
      ]
     },
     "metadata": {},
     "output_type": "display_data"
    }
   ],
   "source": [
    "AIC_fit4_en\n",
    "AICtweedie(round4_fit)\n",
    "AICtweedie(round3_fit)\n",
    "AICtweedie(round2_fit)\n",
    "AICtweedie(round1_fit)"
   ]
  },
  {
   "cell_type": "code",
   "execution_count": 56,
   "metadata": {},
   "outputs": [],
   "source": [
    "tmp_x<-model.matrix(~.+BLUEBOOK*INCOME+REVOLKED*HOME_VAL*KIDSDRIV+REVOLKED*KIDSDRIV\n",
    "                 ,data=autocross_test)\n",
    "a<-round4_fit$coefficients\n",
    "pred_round4<-exp(tmp_x%*%a)\n",
    "pred_round4_en<-exp(tmp_x%*%tmp_coef4)"
   ]
  },
  {
   "cell_type": "code",
   "execution_count": null,
   "metadata": {},
   "outputs": [],
   "source": [
    "mean(tweedie.dev(ytest,pred_fit1,1.4))\n",
    "mean(tweedie.dev(ytest,pred_round1,1.4))\n",
    "mean(tweedie.dev(ytest,pred_round2,1.4))\n",
    "mean(tweedie.dev(ytest,pred_round3,1.4))\n",
    "mean(tweedie.dev(ytest,pred_round4,1.4))\n",
    "mean(tweedie.dev(ytest,pred_round4_en,1.4))"
   ]
  },
  {
   "cell_type": "code",
   "execution_count": 256,
   "metadata": {},
   "outputs": [
    {
     "data": {
      "text/plain": [
       "\n",
       "Call:\n",
       "gini(loss = \"y\", score = paste(\"P\", 1:6, sep = \"\"), base = \"base\", \n",
       "    data = da)\n",
       "\n",
       "Gini indices:\n",
       "      P1     P2     P3     P4     P5     P6   \n",
       "base  50.32  50.62  50.56  50.78  50.46  49.91\n",
       "\n",
       "Standard errors:\n",
       "      P1     P2     P3     P4     P5     P6   \n",
       "base  2.334  2.351  2.336  2.334  2.344  2.473\n",
       "\n",
       "The selected score is P4."
      ]
     },
     "metadata": {},
     "output_type": "display_data"
    }
   ],
   "source": [
    "da <- data.frame('y'=ytest,\"P1\"=pred_round4,\n",
    "                 'P2'=pred_round4_en,'P3'=pred_round3,'P4'=pred_round2,'P5'=pred_round1,\"P6\"=pred_fit1,'base'=rep(1,length(ytest)))\n",
    "gg <- gini(loss = \"y\", score  = paste(\"P\", 1:6,sep = \"\"), base= 'base',\n",
    "           data = da)\n",
    "gg"
   ]
  },
  {
   "cell_type": "code",
   "execution_count": 72,
   "metadata": {},
   "outputs": [
    {
     "data": {
      "text/plain": [
       "\n",
       "Call:\n",
       "gini(loss = \"y\", score = paste(\"P\", 1:3, sep = \"\"), base = \"base\", \n",
       "    data = da)\n",
       "\n",
       "Gini indices:\n",
       "      P1     P2     P3   \n",
       "base  50.64  49.91  50.19\n",
       "\n",
       "Standard errors:\n",
       "      P1     P2     P3   \n",
       "base  2.354  2.473  2.352\n",
       "\n",
       "The selected score is P1."
      ]
     },
     "metadata": {},
     "output_type": "display_data"
    }
   ],
   "source": [
    "da <- data.frame('y'=ytest,\"P1\"=pred_round4_en,\n",
    "                 'P2'=pred_fit1,'P3'=pred_basefit,'base'=rep(1,length(ytest)))\n",
    "gg <- gini(loss = \"y\", score  = paste(\"P\", 1:3,sep = \"\"), base= 'base',\n",
    "           data = da)\n",
    "gg"
   ]
  },
  {
   "cell_type": "code",
   "execution_count": 257,
   "metadata": {},
   "outputs": [],
   "source": [
    "result_round5=matrix(nrow=dim(train_data)[2],ncol=dim(train_data)[2])\n",
    "cat_coef=list()\n",
    "cat_coef_names=c()\n",
    "for(i in 2:(dim(train_data)[2])-1){\n",
    "    for(j in (i+1):(dim(train_data)[2])){\n",
    "        if(i==1 &&j==4||i==1 &&j==10||i==6&&j==9){result_round4[i,j]=999999}\n",
    "        else{\n",
    "            if (is.numeric(train_data[,i])&&is.numeric(train_data[,j])){\n",
    "            tmp_x <- train_data[,i]*train_data[,j]\n",
    "            tmp_fit<-glm(ytrain~tmp_x+offset(log(fitted_fit4_en))\n",
    "                   ,family=tweedie(link.power=0,var.power=1.4),control=list(maxit=500))\n",
    "            result_round5[i,j]=mean(residuals(tmp_fit)^2)\n",
    "        }\n",
    "            else{\n",
    "                tmp_x<-model.matrix(~train_data[,i]*train_data[,j])\n",
    "                tmp_x<-as.matrix(tmp_x)[,-1]\n",
    "                tmp_cvfit<-cv.glmnet(x=tmp_x,y=ytrain,family=tweedie(link.power=0,var.power=1.4),alpha=0.5 \n",
    "                                     ,offset=log(fitted_fit4_en),type.measure = 'deviance')\n",
    "                tmp_lambda<- tmp_cvfit$lambda.min\n",
    "                tmp_fit<-glmnet(x=tmp_x,y=ytrain,family=tweedie(link.power=0,var.power=1.4),alpha=0.5\n",
    "                                     ,offset=log(fitted_fit4_en),lambda=tmp_lambda)\n",
    "                tmp_coef<-as.matrix(coef(tmp_fit))[,1]\n",
    "            if (length(which(tmp_coef!=0))==0){\n",
    "                result_round5[i,j]=9999}\n",
    "            else{\n",
    "                tmp_x<-model.matrix(~train_data[,i]*train_data[,j])\n",
    "                tmp_fitted<-exp(tmp_x%*%tmp_coef+log(fitted_fit4_en))\n",
    "                result_round5[i,j]<-mean(tweedie.dev(ytrain,tmp_fitted,1.4))\n",
    "                cat_coef=append(cat_coef,list(as.numeric(tmp_coef)))\n",
    "                cat_coef_names=c(cat_coef_names,paste(as.character(i),as.character(j),sep=''))      \n",
    "            }\n",
    "            names(cat_coef)=cat_coef_names\n",
    "    }\n",
    "  }\n",
    "    }\n",
    "    }"
   ]
  },
  {
   "cell_type": "code",
   "execution_count": 219,
   "metadata": {},
   "outputs": [],
   "source": [
    "result_round_5_threeway1=rep(0,dim(train_data)[2])\n",
    "cat_coef_round43=list()\n",
    "cat_coef_names_round43=c()\n",
    "for(i in 1:(dim(train_data)[2])){\n",
    "  if (i==6|| i==9){\n",
    "    result_round_5_threeway1[i]=99999\n",
    "  }\n",
    "  else{\n",
    "      tmp_x<-model.matrix(~train_data[,6]*train_data[,9]*train_data[,i])\n",
    "      tmp_x<-tmp_x[,-1]\n",
    "      tmp_cvfit<-cv.glmnet(x=tmp_x,y=ytrain,family=tweedie(link.power=0,var.power=1.4),alpha=0.5\n",
    "                                 ,offset=log(fitted_fit4_en),type.measure = 'deviance')\n",
    "      tmp_lambda<- tmp_cvfit$lambda.min\n",
    "      tmp_fit<-glmnet(x=tmp_x,y=ytrain,family=tweedie(link.power=0,var.power=1.4),alpha=0.5\n",
    "                                 ,offset=log(fitted_fit4_en),lambda=tmp_lambda)\n",
    "      tmp_coef<-as.matrix(coef(tmp_fit))[,1]\n",
    "      if (length(which(tmp_coef!=0))==0){\n",
    "        result_round_5_threeway1[i]=9999}\n",
    "      else{\n",
    "          tmp_x<-model.matrix(~train_data[,6]*train_data[,9]*train_data[,i])\n",
    "          tmp_fitted<-exp(tmp_x%*%tmp_coef+log(fitted_fit4_en))\n",
    "          result_round_5_threeway1[i]<-mean(tweedie.dev(ytrain,tmp_fitted,1.4))\n",
    "          cat_coef_round43=append(cat_coef_round43,list(as.numeric(tmp_coef)))\n",
    "          cat_coef_names_round43=c(cat_coef_names_round43,paste(as.character(i),sep=''))       \n",
    "            }  \n",
    "      names(cat_coef_round43)=cat_coef_names_round43\n",
    "}\n",
    "    }"
   ]
  },
  {
   "cell_type": "code",
   "execution_count": 220,
   "metadata": {},
   "outputs": [],
   "source": [
    "result_round_5_threeway2=rep(0,dim(train_data)[2])\n",
    "cat_coef_round432=list()\n",
    "cat_coef_names_round432=c()\n",
    "for(i in 1:(dim(train_data)[2])){\n",
    "  if (i==1|| i==10){\n",
    "    result_round_5_threeway2[i]=99999\n",
    "  }\n",
    "  else{\n",
    "      tmp_x<-model.matrix(~train_data[,1]*train_data[,10]*train_data[,i])\n",
    "      tmp_x<-tmp_x[,-1]\n",
    "      tmp_cvfit<-cv.glmnet(x=tmp_x,y=ytrain,family=tweedie(link.power=0,var.power=1.4),alpha=0.5\n",
    "                                 ,offset=log(fitted_fit4_en),type.measure = 'deviance')\n",
    "      tmp_lambda<- tmp_cvfit$lambda.min\n",
    "      tmp_fit<-glmnet(x=tmp_x,y=ytrain,family=tweedie(link.power=0,var.power=1.4),alpha=0.5\n",
    "                                 ,offset=log(fitted_fit4_en),lambda=tmp_lambda)\n",
    "      tmp_coef<-as.matrix(coef(tmp_fit))[,1]\n",
    "      if (length(which(tmp_coef!=0))==0){\n",
    "        result_round_5_threeway2[i]=9999}\n",
    "      else{\n",
    "          tmp_x<-model.matrix(~train_data[,1]*train_data[,10]*train_data[,i])\n",
    "          tmp_fitted<-exp(tmp_x%*%tmp_coef+log(fitted_fit4_en))\n",
    "          result_round_5_threeway2[i]<-mean(tweedie.dev(ytrain,tmp_fitted,1.4))\n",
    "          cat_coef_round432=append(cat_coef_round432,list(as.numeric(tmp_coef)))\n",
    "          cat_coef_names_round432=c(cat_coef_names_round432,paste(as.character(i),sep=''))       \n",
    "            }  \n",
    "      names(cat_coef_round432)=cat_coef_names_round432\n",
    "}\n",
    "    }"
   ]
  },
  {
   "cell_type": "code",
   "execution_count": 221,
   "metadata": {},
   "outputs": [],
   "source": [
    "result_round_5_threeway3=rep(0,dim(train_data)[2])\n",
    "cat_coef_round433=list()\n",
    "cat_coef_names_round433=c()\n",
    "for(i in 1:(dim(train_data)[2])){\n",
    "  if (i==1|| i==4){\n",
    "    result_round_5_threeway3[i]=99999\n",
    "  }\n",
    "  else{\n",
    "      tmp_x<-model.matrix(~train_data[,1]*train_data[,4]*train_data[,i])\n",
    "      tmp_x<-tmp_x[,-1]\n",
    "      tmp_cvfit<-cv.glmnet(x=tmp_x,y=ytrain,family=tweedie(link.power=0,var.power=1.4),alpha=0.5\n",
    "                                 ,offset=log(fitted_fit4_en),type.measure = 'deviance')\n",
    "      tmp_lambda<- tmp_cvfit$lambda.min\n",
    "      tmp_fit<-glmnet(x=tmp_x,y=ytrain,family=tweedie(link.power=0,var.power=1.4),alpha=0.5\n",
    "                                 ,offset=log(fitted_fit4_en),lambda=tmp_lambda)\n",
    "      tmp_coef<-as.matrix(coef(tmp_fit))[,1]\n",
    "      if (length(which(tmp_coef!=0))==0){\n",
    "        result_round_5_threeway3[i]=9999}\n",
    "      else{\n",
    "          tmp_x<-model.matrix(~train_data[,1]*train_data[,4]*train_data[,i])\n",
    "          tmp_fitted<-exp(tmp_x%*%tmp_coef+log(fitted_fit4_en))\n",
    "          result_round_5_threeway3[i]<-mean(tweedie.dev(ytrain,tmp_fitted,1.4))\n",
    "          cat_coef_round433=append(cat_coef_round433,list(as.numeric(tmp_coef)))\n",
    "          cat_coef_names_round433=c(cat_coef_names_round433,paste(as.character(i),sep=''))       \n",
    "            }  \n",
    "      names(cat_coef_round433)=cat_coef_names_round433\n",
    "}\n",
    "    }"
   ]
  },
  {
   "cell_type": "code",
   "execution_count": 223,
   "metadata": {},
   "outputs": [],
   "source": [
    "result_round_5_fourway1=rep(0,dim(train_data)[2])\n",
    "cat_coef_round43=list()\n",
    "cat_coef_names_round43=c()\n",
    "for(i in 1:(dim(train_data)[2])){\n",
    "  if (i==1|| i==4||i==10){\n",
    "    result_round_5_fourway1[i]=99999\n",
    "  }\n",
    "  else{\n",
    "      tmp_x<-model.matrix(~train_data[,1]*train_data[,4]*train_data[,10]*train_data[,i])\n",
    "      tmp_x<-tmp_x[,-1]\n",
    "      tmp_cvfit<-cv.glmnet(x=tmp_x,y=ytrain,family=tweedie(link.power=0,var.power=1.4),alpha=0.5\n",
    "                                 ,offset=log(fitted_fit4_en),type.measure = 'deviance')\n",
    "      tmp_lambda<- tmp_cvfit$lambda.min\n",
    "      tmp_fit<-glmnet(x=tmp_x,y=ytrain,family=tweedie(link.power=0,var.power=1.4),alpha=0.5\n",
    "                                 ,offset=log(fitted_fit4_en),lambda=tmp_lambda)\n",
    "      tmp_coef<-as.matrix(coef(tmp_fit))[,1]\n",
    "      if (length(which(tmp_coef!=0))==0){\n",
    "        result_round_5_fourway1[i]=9999}\n",
    "      else{\n",
    "          tmp_x<-model.matrix(~train_data[,1]*train_data[,4]*train_data[,10]*train_data[,i])\n",
    "          tmp_fitted<-exp(tmp_x%*%tmp_coef+log(fitted_fit4_en))\n",
    "          result_round_5_fourway1[i]<-mean(tweedie.dev(ytrain,tmp_fitted,1.4))\n",
    "          cat_coef_round43=append(cat_coef_round43,list(as.numeric(tmp_coef)))\n",
    "          cat_coef_names_round43=c(cat_coef_names_round43,paste(as.character(i),sep=''))       \n",
    "            }  \n",
    "      names(cat_coef_round43)=cat_coef_names_round43\n",
    "}\n",
    "    }"
   ]
  },
  {
   "cell_type": "code",
   "execution_count": 224,
   "metadata": {},
   "outputs": [],
   "source": [
    "tmp_x<-model.matrix(~train_data[,1]*train_data[,6]*train_data[,9]*train_data[,10])\n",
    "tmp_x<-tmp_x[,-1]\n",
    "tmp_cvfit<-cv.glmnet(x=tmp_x,y=ytrain,family=tweedie(link.power=0,var.power=1.4),alpha=0.5\n",
    "                                 ,offset=log(fitted_fit4_en),type.measure = 'deviance')\n",
    "tmp_lambda<- tmp_cvfit$lambda.min\n",
    "tmp_fit<-glmnet(x=tmp_x,y=ytrain,family=tweedie(link.power=0,var.power=1.4),alpha=0.5\n",
    "                                 ,offset=log(fitted_fit4_en),lambda=tmp_lambda)\n",
    "tmp_coef<-as.matrix(coef(tmp_fit))[,1]\n",
    "tmp_x<-model.matrix(~train_data[,1]*train_data[,6]*train_data[,9]*train_data[,10])\n",
    "tmp_fitted<-exp(tmp_x%*%tmp_coef+log(fitted_fit4_en))\n",
    "result_round_5_fourway2<-mean(tweedie.dev(ytrain,tmp_fitted,1.4))\n"
   ]
  },
  {
   "cell_type": "code",
   "execution_count": 225,
   "metadata": {},
   "outputs": [],
   "source": [
    "tmp_x<-model.matrix(~train_data[,1]*train_data[,4]*train_data[,6]*train_data[,9])\n",
    "tmp_x<-tmp_x[,-1]\n",
    "tmp_cvfit<-cv.glmnet(x=tmp_x,y=ytrain,family=tweedie(link.power=0,var.power=1.4),alpha=0.5\n",
    "                                 ,offset=log(fitted_fit4_en),type.measure = 'deviance')\n",
    "tmp_lambda<- tmp_cvfit$lambda.min\n",
    "tmp_fit<-glmnet(x=tmp_x,y=ytrain,family=tweedie(link.power=0,var.power=1.4),alpha=0.5\n",
    "                                 ,offset=log(fitted_fit4_en),lambda=tmp_lambda)\n",
    "tmp_coef<-as.matrix(coef(tmp_fit))[,1]\n",
    "tmp_x<-model.matrix(~train_data[,1]*train_data[,4]*train_data[,6]*train_data[,9])\n",
    "tmp_fitted<-exp(tmp_x%*%tmp_coef+log(fitted_fit4_en))\n",
    "result_round_5_fourway3<-mean(tweedie.dev(ytrain,tmp_fitted,1.4))"
   ]
  },
  {
   "cell_type": "code",
   "execution_count": 226,
   "metadata": {},
   "outputs": [],
   "source": [
    "tmp_x<-model.matrix(~train_data[,1]*train_data[,4]*train_data[,6]*train_data[,9]*train_data[,10])\n",
    "tmp_x<-tmp_x[,-1]\n",
    "tmp_cvfit<-cv.glmnet(x=tmp_x,y=ytrain,family=tweedie(link.power=0,var.power=1.4),alpha=0.5\n",
    "                                 ,offset=log(fitted_fit4_en),type.measure = 'deviance')\n",
    "tmp_lambda<- tmp_cvfit$lambda.min\n",
    "tmp_fit<-glmnet(x=tmp_x,y=ytrain,family=tweedie(link.power=0,var.power=1.4),alpha=0.5\n",
    "                                 ,offset=log(fitted_fit4_en),lambda=tmp_lambda)\n",
    "tmp_coef<-as.matrix(coef(tmp_fit))[,1]\n",
    "tmp_x<-model.matrix(~train_data[,1]*train_data[,4]*train_data[,6]*train_data[,9]*train_data[,10])\n",
    "tmp_fitted<-exp(tmp_x%*%tmp_coef+log(fitted_fit4_en))\n",
    "result_round_5_fiveway<-mean(tweedie.dev(ytrain,tmp_fitted,1.4))"
   ]
  },
  {
   "cell_type": "code",
   "execution_count": 227,
   "metadata": {},
   "outputs": [],
   "source": [
    "result_round5_final<-cbind(result_round5,result_round_5_threeway1,result_round_5_threeway2,result_round_5_threeway3,result_round_5_fourway1)"
   ]
  },
  {
   "cell_type": "code",
   "execution_count": 228,
   "metadata": {},
   "outputs": [
    {
     "data": {
      "text/html": [
       "5.75304448475027"
      ],
      "text/latex": [
       "5.75304448475027"
      ],
      "text/markdown": [
       "5.75304448475027"
      ],
      "text/plain": [
       "[1] 5.753044"
      ]
     },
     "metadata": {},
     "output_type": "display_data"
    },
    {
     "data": {
      "text/html": [
       "5.78489799637252"
      ],
      "text/latex": [
       "5.78489799637252"
      ],
      "text/markdown": [
       "5.78489799637252"
      ],
      "text/plain": [
       "[1] 5.784898"
      ]
     },
     "metadata": {},
     "output_type": "display_data"
    },
    {
     "data": {
      "text/html": [
       "5.78085232625091"
      ],
      "text/latex": [
       "5.78085232625091"
      ],
      "text/markdown": [
       "5.78085232625091"
      ],
      "text/plain": [
       "[1] 5.780852"
      ]
     },
     "metadata": {},
     "output_type": "display_data"
    },
    {
     "data": {
      "text/html": [
       "5.78489799637252"
      ],
      "text/latex": [
       "5.78489799637252"
      ],
      "text/markdown": [
       "5.78489799637252"
      ],
      "text/plain": [
       "[1] 5.784898"
      ]
     },
     "metadata": {},
     "output_type": "display_data"
    }
   ],
   "source": [
    "min(result_round5_final,na.rm=T)\n",
    "result_round_5_fourway2\n",
    "result_round_5_fourway3\n",
    "result_round_5_fiveway"
   ]
  },
  {
   "cell_type": "code",
   "execution_count": 229,
   "metadata": {},
   "outputs": [
    {
     "data": {
      "text/html": [
       "<table class=\"dataframe\">\n",
       "<caption>A matrix: 1 × 2 of type int</caption>\n",
       "<thead>\n",
       "\t<tr><th scope=col>row</th><th scope=col>col</th></tr>\n",
       "</thead>\n",
       "<tbody>\n",
       "\t<tr><td>3</td><td>10</td></tr>\n",
       "</tbody>\n",
       "</table>\n"
      ],
      "text/latex": [
       "A matrix: 1 × 2 of type int\n",
       "\\begin{tabular}{ll}\n",
       " row & col\\\\\n",
       "\\hline\n",
       "\t 3 & 10\\\\\n",
       "\\end{tabular}\n"
      ],
      "text/markdown": [
       "\n",
       "A matrix: 1 × 2 of type int\n",
       "\n",
       "| row | col |\n",
       "|---|---|\n",
       "| 3 | 10 |\n",
       "\n"
      ],
      "text/plain": [
       "     row col\n",
       "[1,] 3   10 "
      ]
     },
     "metadata": {},
     "output_type": "display_data"
    }
   ],
   "source": [
    "round5_index<-which(result_round5_final == min(result_round5_final,na.rm=T), arr.ind = TRUE)\n",
    "round5_index"
   ]
  },
  {
   "cell_type": "code",
   "execution_count": 231,
   "metadata": {},
   "outputs": [
    {
     "data": {
      "text/html": [
       "'AREA'"
      ],
      "text/latex": [
       "'AREA'"
      ],
      "text/markdown": [
       "'AREA'"
      ],
      "text/plain": [
       "[1] \"AREA\""
      ]
     },
     "metadata": {},
     "output_type": "display_data"
    },
    {
     "data": {
      "text/html": [
       "'HOME_VAL'"
      ],
      "text/latex": [
       "'HOME\\_VAL'"
      ],
      "text/markdown": [
       "'HOME_VAL'"
      ],
      "text/plain": [
       "[1] \"HOME_VAL\""
      ]
     },
     "metadata": {},
     "output_type": "display_data"
    }
   ],
   "source": [
    "colnames(autocross)[3]\n",
    "colnames(autocross)[10]"
   ]
  },
  {
   "cell_type": "code",
   "execution_count": 37,
   "metadata": {},
   "outputs": [],
   "source": [
    "round5_fit<-glm(y~.+BLUEBOOK*INCOME+MVR_PTS+REVOLKED*HOME_VAL*KIDSDRIV+REVOLKED*KIDSDRIV+AREA*HOME_VAL,data=final_train\n",
    "                   ,family=tweedie(link.power=0,var.power=1.4),control=list(maxit=500))"
   ]
  },
  {
   "cell_type": "code",
   "execution_count": 38,
   "metadata": {},
   "outputs": [
    {
     "data": {
      "text/html": [
       "5295.04575576334"
      ],
      "text/latex": [
       "5295.04575576334"
      ],
      "text/markdown": [
       "5295.04575576334"
      ],
      "text/plain": [
       "[1] 5295.046"
      ]
     },
     "metadata": {},
     "output_type": "display_data"
    }
   ],
   "source": [
    "AICtweedie(round5_fit)"
   ]
  },
  {
   "cell_type": "code",
   "execution_count": 236,
   "metadata": {},
   "outputs": [],
   "source": [
    "tmp_x5<-model.matrix(~.+BLUEBOOK*INCOME+MVR_PTS+REVOLKED*HOME_VAL*KIDSDRIV+REVOLKED*KIDSDRIV+AREA*HOME_VAL,data=train_data)\n",
    "tmp_x5<-tmp_x5[,-1]"
   ]
  },
  {
   "cell_type": "code",
   "execution_count": 237,
   "metadata": {},
   "outputs": [],
   "source": [
    "tmp_cvfit5<-cv.glmnet(x=tmp_x5,y=ytrain,family=tweedie(link.power=0,var.power=1.4),alpha=0.5\n",
    "                                 ,type.measure = 'deviance')\n",
    "tmp_lambda<- tmp_cvfit5$lambda.min\n",
    "tmp_fit5<-glmnet(x=tmp_x5,y=ytrain,family=tweedie(link.power=0,var.power=1.4),alpha=0.5\n",
    "                                 ,lambda=tmp_lambda)\n",
    "tmp_coef5<-as.matrix(coef(tmp_fit5))[,1]"
   ]
  },
  {
   "cell_type": "code",
   "execution_count": 238,
   "metadata": {},
   "outputs": [
    {
     "data": {
      "text/html": [
       "<style>\n",
       ".dl-inline {width: auto; margin:0; padding: 0}\n",
       ".dl-inline>dt, .dl-inline>dd {float: none; width: auto; display: inline-block}\n",
       ".dl-inline>dt::after {content: \":\\0020\"; padding-right: .5ex}\n",
       ".dl-inline>dt:not(:first-of-type) {padding-left: .5ex}\n",
       "</style><dl class=dl-inline><dt>(Intercept)</dt><dd>0.1238061938146</dd><dt>REVOLKED2</dt><dd>1.4598961581036</dd><dt>GENDER2</dt><dd>-0.0924340965109613</dd><dt>AREA2</dt><dd>0.697650222387507</dd><dt>KIDSDRIV</dt><dd>0.0465593492361348</dd><dt>TRAVTIME</dt><dd>-0.00700188310958927</dd><dt>BLUEBOOK</dt><dd>-0.0266453957940504</dd><dt>MVR_PTS</dt><dd>0.174252180656934</dd><dt>AGE</dt><dd>0</dd><dt>INCOME</dt><dd>0</dd><dt>HOME_VAL</dt><dd>-0.0575309405588501</dd><dt>BLUEBOOK:INCOME</dt><dd>-0.0657627473241767</dd><dt>REVOLKED2:HOME_VAL</dt><dd>0.0671579852719662</dd><dt>REVOLKED2:KIDSDRIV</dt><dd>-0.180990377557188</dd><dt>KIDSDRIV:HOME_VAL</dt><dd>0</dd><dt>AREA2:HOME_VAL</dt><dd>0</dd><dt>REVOLKED2:KIDSDRIV:HOME_VAL</dt><dd>0.119475518303417</dd></dl>\n"
      ],
      "text/latex": [
       "\\begin{description*}\n",
       "\\item[(Intercept)] 0.1238061938146\n",
       "\\item[REVOLKED2] 1.4598961581036\n",
       "\\item[GENDER2] -0.0924340965109613\n",
       "\\item[AREA2] 0.697650222387507\n",
       "\\item[KIDSDRIV] 0.0465593492361348\n",
       "\\item[TRAVTIME] -0.00700188310958927\n",
       "\\item[BLUEBOOK] -0.0266453957940504\n",
       "\\item[MVR\\textbackslash{}\\_PTS] 0.174252180656934\n",
       "\\item[AGE] 0\n",
       "\\item[INCOME] 0\n",
       "\\item[HOME\\textbackslash{}\\_VAL] -0.0575309405588501\n",
       "\\item[BLUEBOOK:INCOME] -0.0657627473241767\n",
       "\\item[REVOLKED2:HOME\\textbackslash{}\\_VAL] 0.0671579852719662\n",
       "\\item[REVOLKED2:KIDSDRIV] -0.180990377557188\n",
       "\\item[KIDSDRIV:HOME\\textbackslash{}\\_VAL] 0\n",
       "\\item[AREA2:HOME\\textbackslash{}\\_VAL] 0\n",
       "\\item[REVOLKED2:KIDSDRIV:HOME\\textbackslash{}\\_VAL] 0.119475518303417\n",
       "\\end{description*}\n"
      ],
      "text/markdown": [
       "(Intercept)\n",
       ":   0.1238061938146REVOLKED2\n",
       ":   1.4598961581036GENDER2\n",
       ":   -0.0924340965109613AREA2\n",
       ":   0.697650222387507KIDSDRIV\n",
       ":   0.0465593492361348TRAVTIME\n",
       ":   -0.00700188310958927BLUEBOOK\n",
       ":   -0.0266453957940504MVR_PTS\n",
       ":   0.174252180656934AGE\n",
       ":   0INCOME\n",
       ":   0HOME_VAL\n",
       ":   -0.0575309405588501BLUEBOOK:INCOME\n",
       ":   -0.0657627473241767REVOLKED2:HOME_VAL\n",
       ":   0.0671579852719662REVOLKED2:KIDSDRIV\n",
       ":   -0.180990377557188KIDSDRIV:HOME_VAL\n",
       ":   0AREA2:HOME_VAL\n",
       ":   0REVOLKED2:KIDSDRIV:HOME_VAL\n",
       ":   0.119475518303417\n",
       "\n"
      ],
      "text/plain": [
       "                (Intercept)                   REVOLKED2 \n",
       "                0.123806194                 1.459896158 \n",
       "                    GENDER2                       AREA2 \n",
       "               -0.092434097                 0.697650222 \n",
       "                   KIDSDRIV                    TRAVTIME \n",
       "                0.046559349                -0.007001883 \n",
       "                   BLUEBOOK                     MVR_PTS \n",
       "               -0.026645396                 0.174252181 \n",
       "                        AGE                      INCOME \n",
       "                0.000000000                 0.000000000 \n",
       "                   HOME_VAL             BLUEBOOK:INCOME \n",
       "               -0.057530941                -0.065762747 \n",
       "         REVOLKED2:HOME_VAL          REVOLKED2:KIDSDRIV \n",
       "                0.067157985                -0.180990378 \n",
       "          KIDSDRIV:HOME_VAL              AREA2:HOME_VAL \n",
       "                0.000000000                 0.000000000 \n",
       "REVOLKED2:KIDSDRIV:HOME_VAL \n",
       "                0.119475518 "
      ]
     },
     "metadata": {},
     "output_type": "display_data"
    }
   ],
   "source": [
    "tmp_coef5"
   ]
  },
  {
   "cell_type": "code",
   "execution_count": 239,
   "metadata": {},
   "outputs": [],
   "source": [
    "tmp_x5<-model.matrix(~.+BLUEBOOK*INCOME+MVR_PTS+REVOLKED*HOME_VAL*KIDSDRIV+REVOLKED*KIDSDRIV+AREA*HOME_VAL,data=train_data)\n",
    "fitted_fit5_en<-exp(tmp_x5%*%tmp_coef5)"
   ]
  },
  {
   "cell_type": "code",
   "execution_count": 244,
   "metadata": {},
   "outputs": [],
   "source": [
    "den<-dtweedie(ytrain,mu=fitted_fit5_en,phi=sum(tweedie.dev(ytrain,fitted_fit5_en,1.4))/length(ytrain),power=1.4)\n",
    "AIC_fit5_en<--2*sum( log(den))+2*(tmp_fit5$df)"
   ]
  },
  {
   "cell_type": "code",
   "execution_count": 245,
   "metadata": {},
   "outputs": [
    {
     "data": {
      "text/html": [
       "5299.14625336672"
      ],
      "text/latex": [
       "5299.14625336672"
      ],
      "text/markdown": [
       "5299.14625336672"
      ],
      "text/plain": [
       "[1] 5299.146"
      ]
     },
     "metadata": {},
     "output_type": "display_data"
    },
    {
     "data": {
      "text/html": [
       "5295.04575576334"
      ],
      "text/latex": [
       "5295.04575576334"
      ],
      "text/markdown": [
       "5295.04575576334"
      ],
      "text/plain": [
       "[1] 5295.046"
      ]
     },
     "metadata": {},
     "output_type": "display_data"
    },
    {
     "data": {
      "text/html": [
       "5293.40610929824"
      ],
      "text/latex": [
       "5293.40610929824"
      ],
      "text/markdown": [
       "5293.40610929824"
      ],
      "text/plain": [
       "[1] 5293.406"
      ]
     },
     "metadata": {},
     "output_type": "display_data"
    },
    {
     "data": {
      "text/html": [
       "5297.27719362807"
      ],
      "text/latex": [
       "5297.27719362807"
      ],
      "text/markdown": [
       "5297.27719362807"
      ],
      "text/plain": [
       "[1] 5297.277"
      ]
     },
     "metadata": {},
     "output_type": "display_data"
    },
    {
     "data": {
      "text/html": [
       "5299.93246592558"
      ],
      "text/latex": [
       "5299.93246592558"
      ],
      "text/markdown": [
       "5299.93246592558"
      ],
      "text/plain": [
       "[1] 5299.932"
      ]
     },
     "metadata": {},
     "output_type": "display_data"
    },
    {
     "data": {
      "text/html": [
       "5302.09713098147"
      ],
      "text/latex": [
       "5302.09713098147"
      ],
      "text/markdown": [
       "5302.09713098147"
      ],
      "text/plain": [
       "[1] 5302.097"
      ]
     },
     "metadata": {},
     "output_type": "display_data"
    }
   ],
   "source": [
    "AIC_fit5_en\n",
    "AICtweedie(round5_fit)\n",
    "AIC_fit4_en\n",
    "AICtweedie(round3_fit)\n",
    "AICtweedie(round2_fit)\n",
    "AICtweedie(round1_fit)"
   ]
  },
  {
   "cell_type": "markdown",
   "metadata": {},
   "source": [
    "Thus, the algorithm stopped and we use the results from round 4 as our final model."
   ]
  },
  {
   "cell_type": "code",
   "execution_count": 81,
   "metadata": {},
   "outputs": [
    {
     "data": {
      "text/html": [
       "5.56598126543891"
      ],
      "text/latex": [
       "5.56598126543891"
      ],
      "text/markdown": [
       "5.56598126543891"
      ],
      "text/plain": [
       "[1] 5.565981"
      ]
     },
     "metadata": {},
     "output_type": "display_data"
    },
    {
     "data": {
      "image/png": "[encoded data removed]",
      "text/plain": [
       "plot without title"
      ]
     },
     "metadata": {
      "image/png": {
       "height": 420,
       "width": 420
      }
     },
     "output_type": "display_data"
    }
   ],
   "source": [
    "library(TDboost)\n",
    "TDboost1 <-TDboost(y~REVOLKED+GENDER+AREA+KIDSDRIV+TRAVTIME+BLUEBOOK+MVR_PTS+AGE+INCOME+HOME_VAL,data=final_train,\n",
    "                   var.monotone=c(0,0,0,0,0,0,0,0,0,0), distribution=list(name=\"EDM\",alpha=1.4)\n",
    "                   , n.trees=3000, shrinkage=0.005, interaction.depth=5, bag.fraction = 0.5, \n",
    "                   train.fraction = 0.75, n.minobsinnode = 10, cv.folds = 5, keep.data=TRUE, verbose=FALSE)\n",
    "best.iter <-TDboost.perf(TDboost1,method=\"cv\")\n",
    "fit_td<-predict(TDboost1,final_train,n.trees=best.iter,type='response')\n",
    "mean(tweedie.dev(ytrain,fit_td,1.4))"
   ]
  },
  {
   "cell_type": "code",
   "execution_count": 82,
   "metadata": {},
   "outputs": [
    {
     "data": {
      "text/html": [
       "5.66006649531638"
      ],
      "text/latex": [
       "5.66006649531638"
      ],
      "text/markdown": [
       "5.66006649531638"
      ],
      "text/plain": [
       "[1] 5.660066"
      ]
     },
     "metadata": {},
     "output_type": "display_data"
    }
   ],
   "source": [
    "predict_td<-predict(TDboost1,autocross_test,n.trees=best.iter,type='response')\n",
    "mean(tweedie.dev(ytest,predict_td,1.4))"
   ]
  },
  {
   "cell_type": "code",
   "execution_count": 83,
   "metadata": {},
   "outputs": [
    {
     "data": {
      "text/plain": [
       "\n",
       "Call:\n",
       "gini(loss = \"y\", score = paste(\"P\", 1:4, sep = \"\"), base = \"base\", \n",
       "    data = da)\n",
       "\n",
       "Gini indices:\n",
       "      P1     P2     P3     P4   \n",
       "base  50.32  50.57  47.83  49.91\n",
       "\n",
       "Standard errors:\n",
       "      P1     P2     P3     P4   \n",
       "base  2.334  2.348  2.378  2.473\n",
       "\n",
       "The selected score is P2."
      ]
     },
     "metadata": {},
     "output_type": "display_data"
    }
   ],
   "source": [
    "da <- data.frame('y'=ytest,\"P1\"=pred_round4,\n",
    "                 'P2'=pred_round4_en,'P3'=predict_td,\"P4\"=pred_fit1,'base'=rep(1,length(ytest)))\n",
    "gg <- gini(loss = \"y\", score  = paste(\"P\", 1:4,sep = \"\"), base= 'base',\n",
    "           data = da)\n",
    "gg"
   ]
  },
  {
   "cell_type": "code",
   "execution_count": 95,
   "metadata": {},
   "outputs": [
    {
     "name": "stderr",
     "output_type": "stream",
     "text": [
      "1 \n",
      "2 \n",
      "3 \n",
      "4 \n",
      "5 \n",
      "6 \n",
      "7 \n",
      "8 \n",
      "9 \n",
      "\n",
      "\n"
     ]
    },
    {
     "data": {
      "text/html": [
       "<dl>\n",
       "\t<dt>$rank.list</dt>\n",
       "\t\t<dd><table class=\"dataframe\">\n",
       "<caption>A data.frame: 5 × 5</caption>\n",
       "<thead>\n",
       "\t<tr><th scope=col>var1.index</th><th scope=col>var1.names</th><th scope=col>var2.index</th><th scope=col>var2.names</th><th scope=col>int.size</th></tr>\n",
       "\t<tr><th scope=col>&lt;dbl&gt;</th><th scope=col>&lt;chr&gt;</th><th scope=col>&lt;dbl&gt;</th><th scope=col>&lt;chr&gt;</th><th scope=col>&lt;dbl&gt;</th></tr>\n",
       "</thead>\n",
       "<tbody>\n",
       "\t<tr><td>5</td><td>TRAVTIME</td><td>1</td><td>REVOLKED</td><td>33.44</td></tr>\n",
       "\t<tr><td>3</td><td>AREA    </td><td>1</td><td>REVOLKED</td><td>25.34</td></tr>\n",
       "\t<tr><td>6</td><td>BLUEBOOK</td><td>1</td><td>REVOLKED</td><td>11.99</td></tr>\n",
       "\t<tr><td>7</td><td>MVR_PTS </td><td>3</td><td>AREA    </td><td> 6.10</td></tr>\n",
       "\t<tr><td>8</td><td>AGE     </td><td>1</td><td>REVOLKED</td><td> 5.96</td></tr>\n",
       "</tbody>\n",
       "</table>\n",
       "</dd>\n",
       "\t<dt>$interactions</dt>\n",
       "\t\t<dd><table class=\"dataframe\">\n",
       "<caption>A matrix: 10 × 10 of type dbl</caption>\n",
       "<thead>\n",
       "\t<tr><th></th><th scope=col>REVOLKED</th><th scope=col>GENDER</th><th scope=col>AREA</th><th scope=col>KIDSDRIV</th><th scope=col>TRAVTIME</th><th scope=col>BLUEBOOK</th><th scope=col>MVR_PTS</th><th scope=col>AGE</th><th scope=col>INCOME</th><th scope=col>HOME_VAL</th></tr>\n",
       "</thead>\n",
       "<tbody>\n",
       "\t<tr><th scope=row>REVOLKED</th><td>0</td><td>0.05</td><td>25.34</td><td>0.14</td><td>33.44</td><td>11.99</td><td>5.70</td><td>5.96</td><td>1.27</td><td>2.07</td></tr>\n",
       "\t<tr><th scope=row>GENDER</th><td>0</td><td>0.00</td><td> 0.00</td><td>0.00</td><td> 0.00</td><td> 0.00</td><td>0.00</td><td>0.00</td><td>0.00</td><td>0.00</td></tr>\n",
       "\t<tr><th scope=row>AREA</th><td>0</td><td>0.00</td><td> 0.00</td><td>0.01</td><td> 0.08</td><td> 0.00</td><td>6.10</td><td>0.00</td><td>0.06</td><td>0.04</td></tr>\n",
       "\t<tr><th scope=row>KIDSDRIV</th><td>0</td><td>0.00</td><td> 0.00</td><td>0.00</td><td> 0.01</td><td> 0.00</td><td>0.01</td><td>0.00</td><td>0.00</td><td>0.00</td></tr>\n",
       "\t<tr><th scope=row>TRAVTIME</th><td>0</td><td>0.00</td><td> 0.00</td><td>0.00</td><td> 0.00</td><td> 0.06</td><td>0.19</td><td>0.03</td><td>0.07</td><td>0.03</td></tr>\n",
       "\t<tr><th scope=row>BLUEBOOK</th><td>0</td><td>0.00</td><td> 0.00</td><td>0.00</td><td> 0.00</td><td> 0.00</td><td>0.04</td><td>0.00</td><td>0.04</td><td>0.30</td></tr>\n",
       "\t<tr><th scope=row>MVR_PTS</th><td>0</td><td>0.00</td><td> 0.00</td><td>0.00</td><td> 0.00</td><td> 0.00</td><td>0.00</td><td>0.00</td><td>0.82</td><td>0.35</td></tr>\n",
       "\t<tr><th scope=row>AGE</th><td>0</td><td>0.00</td><td> 0.00</td><td>0.00</td><td> 0.00</td><td> 0.00</td><td>0.00</td><td>0.00</td><td>0.00</td><td>0.00</td></tr>\n",
       "\t<tr><th scope=row>INCOME</th><td>0</td><td>0.00</td><td> 0.00</td><td>0.00</td><td> 0.00</td><td> 0.00</td><td>0.00</td><td>0.00</td><td>0.00</td><td>0.00</td></tr>\n",
       "\t<tr><th scope=row>HOME_VAL</th><td>0</td><td>0.00</td><td> 0.00</td><td>0.00</td><td> 0.00</td><td> 0.00</td><td>0.00</td><td>0.00</td><td>0.00</td><td>0.00</td></tr>\n",
       "</tbody>\n",
       "</table>\n",
       "</dd>\n",
       "</dl>\n"
      ],
      "text/latex": [
       "\\begin{description}\n",
       "\\item[\\$rank.list] A data.frame: 5 × 5\n",
       "\\begin{tabular}{lllll}\n",
       " var1.index & var1.names & var2.index & var2.names & int.size\\\\\n",
       " <dbl> & <chr> & <dbl> & <chr> & <dbl>\\\\\n",
       "\\hline\n",
       "\t 5 & TRAVTIME & 1 & REVOLKED & 33.44\\\\\n",
       "\t 3 & AREA     & 1 & REVOLKED & 25.34\\\\\n",
       "\t 6 & BLUEBOOK & 1 & REVOLKED & 11.99\\\\\n",
       "\t 7 & MVR\\_PTS  & 3 & AREA     &  6.10\\\\\n",
       "\t 8 & AGE      & 1 & REVOLKED &  5.96\\\\\n",
       "\\end{tabular}\n",
       "\n",
       "\\item[\\$interactions] A matrix: 10 × 10 of type dbl\n",
       "\\begin{tabular}{r|llllllllll}\n",
       "  & REVOLKED & GENDER & AREA & KIDSDRIV & TRAVTIME & BLUEBOOK & MVR\\_PTS & AGE & INCOME & HOME\\_VAL\\\\\n",
       "\\hline\n",
       "\tREVOLKED & 0 & 0.05 & 25.34 & 0.14 & 33.44 & 11.99 & 5.70 & 5.96 & 1.27 & 2.07\\\\\n",
       "\tGENDER & 0 & 0.00 &  0.00 & 0.00 &  0.00 &  0.00 & 0.00 & 0.00 & 0.00 & 0.00\\\\\n",
       "\tAREA & 0 & 0.00 &  0.00 & 0.01 &  0.08 &  0.00 & 6.10 & 0.00 & 0.06 & 0.04\\\\\n",
       "\tKIDSDRIV & 0 & 0.00 &  0.00 & 0.00 &  0.01 &  0.00 & 0.01 & 0.00 & 0.00 & 0.00\\\\\n",
       "\tTRAVTIME & 0 & 0.00 &  0.00 & 0.00 &  0.00 &  0.06 & 0.19 & 0.03 & 0.07 & 0.03\\\\\n",
       "\tBLUEBOOK & 0 & 0.00 &  0.00 & 0.00 &  0.00 &  0.00 & 0.04 & 0.00 & 0.04 & 0.30\\\\\n",
       "\tMVR\\_PTS & 0 & 0.00 &  0.00 & 0.00 &  0.00 &  0.00 & 0.00 & 0.00 & 0.82 & 0.35\\\\\n",
       "\tAGE & 0 & 0.00 &  0.00 & 0.00 &  0.00 &  0.00 & 0.00 & 0.00 & 0.00 & 0.00\\\\\n",
       "\tINCOME & 0 & 0.00 &  0.00 & 0.00 &  0.00 &  0.00 & 0.00 & 0.00 & 0.00 & 0.00\\\\\n",
       "\tHOME\\_VAL & 0 & 0.00 &  0.00 & 0.00 &  0.00 &  0.00 & 0.00 & 0.00 & 0.00 & 0.00\\\\\n",
       "\\end{tabular}\n",
       "\n",
       "\\end{description}\n"
      ],
      "text/markdown": [
       "$rank.list\n",
       ":   \n",
       "A data.frame: 5 × 5\n",
       "\n",
       "| var1.index &lt;dbl&gt; | var1.names &lt;chr&gt; | var2.index &lt;dbl&gt; | var2.names &lt;chr&gt; | int.size &lt;dbl&gt; |\n",
       "|---|---|---|---|---|\n",
       "| 5 | TRAVTIME | 1 | REVOLKED | 33.44 |\n",
       "| 3 | AREA     | 1 | REVOLKED | 25.34 |\n",
       "| 6 | BLUEBOOK | 1 | REVOLKED | 11.99 |\n",
       "| 7 | MVR_PTS  | 3 | AREA     |  6.10 |\n",
       "| 8 | AGE      | 1 | REVOLKED |  5.96 |\n",
       "\n",
       "\n",
       "$interactions\n",
       ":   \n",
       "A matrix: 10 × 10 of type dbl\n",
       "\n",
       "| <!--/--> | REVOLKED | GENDER | AREA | KIDSDRIV | TRAVTIME | BLUEBOOK | MVR_PTS | AGE | INCOME | HOME_VAL |\n",
       "|---|---|---|---|---|---|---|---|---|---|---|\n",
       "| REVOLKED | 0 | 0.05 | 25.34 | 0.14 | 33.44 | 11.99 | 5.70 | 5.96 | 1.27 | 2.07 |\n",
       "| GENDER | 0 | 0.00 |  0.00 | 0.00 |  0.00 |  0.00 | 0.00 | 0.00 | 0.00 | 0.00 |\n",
       "| AREA | 0 | 0.00 |  0.00 | 0.01 |  0.08 |  0.00 | 6.10 | 0.00 | 0.06 | 0.04 |\n",
       "| KIDSDRIV | 0 | 0.00 |  0.00 | 0.00 |  0.01 |  0.00 | 0.01 | 0.00 | 0.00 | 0.00 |\n",
       "| TRAVTIME | 0 | 0.00 |  0.00 | 0.00 |  0.00 |  0.06 | 0.19 | 0.03 | 0.07 | 0.03 |\n",
       "| BLUEBOOK | 0 | 0.00 |  0.00 | 0.00 |  0.00 |  0.00 | 0.04 | 0.00 | 0.04 | 0.30 |\n",
       "| MVR_PTS | 0 | 0.00 |  0.00 | 0.00 |  0.00 |  0.00 | 0.00 | 0.00 | 0.82 | 0.35 |\n",
       "| AGE | 0 | 0.00 |  0.00 | 0.00 |  0.00 |  0.00 | 0.00 | 0.00 | 0.00 | 0.00 |\n",
       "| INCOME | 0 | 0.00 |  0.00 | 0.00 |  0.00 |  0.00 | 0.00 | 0.00 | 0.00 | 0.00 |\n",
       "| HOME_VAL | 0 | 0.00 |  0.00 | 0.00 |  0.00 |  0.00 | 0.00 | 0.00 | 0.00 | 0.00 |\n",
       "\n",
       "\n",
       "\n",
       "\n"
      ],
      "text/plain": [
       "$rank.list\n",
       "  var1.index var1.names var2.index var2.names int.size\n",
       "1          5   TRAVTIME          1   REVOLKED    33.44\n",
       "2          3       AREA          1   REVOLKED    25.34\n",
       "3          6   BLUEBOOK          1   REVOLKED    11.99\n",
       "4          7    MVR_PTS          3       AREA     6.10\n",
       "5          8        AGE          1   REVOLKED     5.96\n",
       "\n",
       "$interactions\n",
       "         REVOLKED GENDER  AREA KIDSDRIV TRAVTIME BLUEBOOK MVR_PTS  AGE INCOME\n",
       "REVOLKED        0   0.05 25.34     0.14    33.44    11.99    5.70 5.96   1.27\n",
       "GENDER          0   0.00  0.00     0.00     0.00     0.00    0.00 0.00   0.00\n",
       "AREA            0   0.00  0.00     0.01     0.08     0.00    6.10 0.00   0.06\n",
       "KIDSDRIV        0   0.00  0.00     0.00     0.01     0.00    0.01 0.00   0.00\n",
       "TRAVTIME        0   0.00  0.00     0.00     0.00     0.06    0.19 0.03   0.07\n",
       "BLUEBOOK        0   0.00  0.00     0.00     0.00     0.00    0.04 0.00   0.04\n",
       "MVR_PTS         0   0.00  0.00     0.00     0.00     0.00    0.00 0.00   0.82\n",
       "AGE             0   0.00  0.00     0.00     0.00     0.00    0.00 0.00   0.00\n",
       "INCOME          0   0.00  0.00     0.00     0.00     0.00    0.00 0.00   0.00\n",
       "HOME_VAL        0   0.00  0.00     0.00     0.00     0.00    0.00 0.00   0.00\n",
       "         HOME_VAL\n",
       "REVOLKED     2.07\n",
       "GENDER       0.00\n",
       "AREA         0.04\n",
       "KIDSDRIV     0.00\n",
       "TRAVTIME     0.03\n",
       "BLUEBOOK     0.30\n",
       "MVR_PTS      0.35\n",
       "AGE          0.00\n",
       "INCOME       0.00\n",
       "HOME_VAL     0.00\n"
      ]
     },
     "metadata": {},
     "output_type": "display_data"
    },
    {
     "data": {
      "image/png": "[encoded data removed]",
      "text/plain": [
       "plot without title"
      ]
     },
     "metadata": {
      "image/png": {
       "height": 420,
       "width": 420
      }
     },
     "output_type": "display_data"
    }
   ],
   "source": [
    "source(\"td-glm-interaction.R\")\n",
    "tdglm.interaction(TDboost1,data=final_train,p.parameter=1.4)"
   ]
  },
  {
   "cell_type": "code",
   "execution_count": 42,
   "metadata": {},
   "outputs": [
    {
     "data": {
      "text/plain": [
       "\n",
       "Call:\n",
       "glm(formula = y ~ . + REVOLKED * TRAVTIME + REVOLKED * BLUEBOOK, \n",
       "    family = tweedie(link.power = 0, var.power = 1.4), data = final_train, \n",
       "    control = list(maxit = 500))\n",
       "\n",
       "Deviance Residuals: \n",
       "    Min       1Q   Median       3Q      Max  \n",
       "-5.1562  -2.3477  -1.8687   0.2697  12.6565  \n",
       "\n",
       "Coefficients:\n",
       "                   Estimate Std. Error t value Pr(>|t|)    \n",
       "(Intercept)        -0.03262    0.18066  -0.181    0.857    \n",
       "REVOLKED2           1.48810    0.13077  11.379  < 2e-16 ***\n",
       "GENDER2            -0.15747    0.11859  -1.328    0.184    \n",
       "AREA2               0.82575    0.18103   4.561 5.53e-06 ***\n",
       "KIDSDRIV            0.06486    0.09983   0.650    0.516    \n",
       "TRAVTIME           -0.04513    0.06902  -0.654    0.513    \n",
       "BLUEBOOK           -0.06567    0.06991  -0.939    0.348    \n",
       "MVR_PTS             0.18698    0.02319   8.064 1.58e-15 ***\n",
       "AGE                 0.04765    0.06056   0.787    0.432    \n",
       "INCOME              0.03806    0.06321   0.602    0.547    \n",
       "HOME_VAL           -0.07821    0.06348  -1.232    0.218    \n",
       "REVOLKED2:TRAVTIME  0.02633    0.13064   0.202    0.840    \n",
       "REVOLKED2:BLUEBOOK  0.04506    0.13682   0.329    0.742    \n",
       "---\n",
       "Signif. codes:  0 '***' 0.001 '**' 0.01 '*' 0.05 '.' 0.1 ' ' 1\n",
       "\n",
       "(Dispersion parameter for Tweedie family taken to be 10.18707)\n",
       "\n",
       "    Null deviance: 10801.0  on 1405  degrees of freedom\n",
       "Residual deviance:  8240.8  on 1393  degrees of freedom\n",
       "AIC: NA\n",
       "\n",
       "Number of Fisher Scoring iterations: 6\n"
      ]
     },
     "metadata": {},
     "output_type": "display_data"
    }
   ],
   "source": [
    "round6_fit<-glm(y~.+REVOLKED*TRAVTIME+REVOLKED*BLUEBOOK,data=final_train\n",
    "                   ,family=tweedie(link.power=0,var.power=1.4),control=list(maxit=500))\n",
    "summary(round6_fit)"
   ]
  },
  {
   "cell_type": "code",
   "execution_count": 38,
   "metadata": {},
   "outputs": [
    {
     "data": {
      "text/html": [
       "5310.26566965643"
      ],
      "text/latex": [
       "5310.26566965643"
      ],
      "text/markdown": [
       "5310.26566965643"
      ],
      "text/plain": [
       "[1] 5310.266"
      ]
     },
     "metadata": {},
     "output_type": "display_data"
    }
   ],
   "source": [
    "AICtweedie(round6_fit)"
   ]
  },
  {
   "cell_type": "code",
   "execution_count": 39,
   "metadata": {},
   "outputs": [],
   "source": [
    "tmp_x6<-model.matrix(~.+REVOLKED*TRAVTIME+REVOLKED*BLUEBOOK,data=autocross_test)\n",
    "pred_fit6<-exp(tmp_x6%*%round6_fit$coefficients)"
   ]
  },
  {
   "cell_type": "code",
   "execution_count": 41,
   "metadata": {},
   "outputs": [
    {
     "data": {
      "text/plain": [
       "\n",
       "Call:\n",
       "gini(loss = \"y\", score = paste(\"P\", 1:2, sep = \"\"), base = \"base\", \n",
       "    data = da)\n",
       "\n",
       "Gini indices:\n",
       "      P1     P2   \n",
       "base  49.91  49.92\n",
       "\n",
       "Standard errors:\n",
       "      P1     P2   \n",
       "base  2.473  2.481\n",
       "\n",
       "The selected score is P2."
      ]
     },
     "metadata": {},
     "output_type": "display_data"
    }
   ],
   "source": [
    "da <- data.frame('y'=ytest,\"P1\"=pred_fit1,\n",
    "                 'P2'=pred_fit6,'base'=rep(1,length(ytest)))\n",
    "gg <- gini(loss = \"y\", score  = paste(\"P\", 1:2,sep = \"\"), base= 'base',\n",
    "           data = da)\n",
    "gg"
   ]
  }
 ],
 "metadata": {
  "kernelspec": {
   "display_name": "R",
   "language": "R",
   "name": "ir"
  },
  "language_info": {
   "codemirror_mode": "r",
   "file_extension": ".r",
   "mimetype": "text/x-r-source",
   "name": "R",
   "pygments_lexer": "r",
   "version": "4.1.1"
  }
 },
 "nbformat": 4,
 "nbformat_minor": 4
}
