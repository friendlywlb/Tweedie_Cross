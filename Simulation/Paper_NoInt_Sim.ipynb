{
 "cells": [
  {
   "cell_type": "code",
   "execution_count": 1,
   "metadata": {},
   "outputs": [
    {
     "name": "stderr",
     "output_type": "stream",
     "text": [
      "Loading required package: coda\n",
      "\n",
      "Loading required package: Matrix\n",
      "\n",
      "Loading required package: splines\n",
      "\n",
      "Loading required package: lattice\n",
      "\n",
      "Loaded TDboost 1.2\n",
      "\n",
      "\n",
      "Loading required package: nlme\n",
      "\n",
      "\n",
      "Attaching package: 'nlme'\n",
      "\n",
      "\n",
      "The following objects are masked from 'package:cplm':\n",
      "\n",
      "    fixef, ranef, VarCorr\n",
      "\n",
      "\n",
      "This is mgcv 1.8-38. For overview type 'help(\"mgcv-package\")'.\n",
      "\n"
     ]
    }
   ],
   "source": [
    "library(fastDummies)\n",
    "library(cplm)\n",
    "library(tweedie)\n",
    "library(statmod)\n",
    "library(HDtweedie)\n",
    "library(TDboost)\n",
    "library(mgcv)\n",
    "library(MASS)"
   ]
  },
  {
   "cell_type": "code",
   "execution_count": 2,
   "metadata": {},
   "outputs": [],
   "source": [
    "x1 <-  as.factor(sample(c(1,2),size=5000,prob=c(0.4,0.6),replace=T))\n",
    "sigma_matrix<- matrix(c(1,0.1,0.15,0.1,1,0.3,0.15,0.3,1),nrow=3,byrow=T)\n",
    "X<- mvrnorm(n = 5000, mu=c(0,-1,1), Sigma=sigma_matrix, tol = 1e-6, empirical = FALSE, EISPACK = FALSE)\n",
    "design_x_train <- as.data.frame(cbind(x1,X))\n",
    "design_x_train[,1]<-as.factor(design_x_train[,1])\n",
    "design_x <- model.matrix(~.,data=design_x_train)\n",
    "beta_num<- rep(0.5,5)\n",
    "mu<-exp(design_x%*%beta_num)\n",
    "y_sim_train<- rTweedie(mu,p=1.7,phi=9)"
   ]
  },
  {
   "cell_type": "code",
   "execution_count": 3,
   "metadata": {},
   "outputs": [
    {
     "data": {
      "text/html": [
       "3061"
      ],
      "text/latex": [
       "3061"
      ],
      "text/markdown": [
       "3061"
      ],
      "text/plain": [
       "[1] 3061"
      ]
     },
     "metadata": {},
     "output_type": "display_data"
    }
   ],
   "source": [
    "length(which(y_sim_train==0))"
   ]
  },
  {
   "cell_type": "code",
   "execution_count": 4,
   "metadata": {},
   "outputs": [
    {
     "data": {
      "text/plain": [
       "   Min. 1st Qu.  Median    Mean 3rd Qu.    Max. \n",
       "  0.000   0.000   0.000   4.067   1.336 450.295 "
      ]
     },
     "metadata": {},
     "output_type": "display_data"
    }
   ],
   "source": [
    "summary(y_sim_train)"
   ]
  },
  {
   "cell_type": "code",
   "execution_count": 5,
   "metadata": {},
   "outputs": [],
   "source": [
    "sim_full_train<-cbind(design_x_train,y_sim_train)"
   ]
  },
  {
   "cell_type": "code",
   "execution_count": 6,
   "metadata": {},
   "outputs": [],
   "source": [
    "sam <- sample(rep(1:2,len=5000))"
   ]
  },
  {
   "cell_type": "code",
   "execution_count": 7,
   "metadata": {},
   "outputs": [],
   "source": [
    "sim_train<-sim_full_train[sam==1,]\n",
    "sim_test<-sim_full_train[sam==2,]"
   ]
  },
  {
   "cell_type": "code",
   "execution_count": 8,
   "metadata": {},
   "outputs": [
    {
     "data": {
      "text/html": [
       "1541"
      ],
      "text/latex": [
       "1541"
      ],
      "text/markdown": [
       "1541"
      ],
      "text/plain": [
       "[1] 1541"
      ]
     },
     "metadata": {},
     "output_type": "display_data"
    }
   ],
   "source": [
    "length(which(sim_train$y==0))"
   ]
  },
  {
   "cell_type": "code",
   "execution_count": 9,
   "metadata": {},
   "outputs": [
    {
     "data": {
      "text/html": [
       "1520"
      ],
      "text/latex": [
       "1520"
      ],
      "text/markdown": [
       "1520"
      ],
      "text/plain": [
       "[1] 1520"
      ]
     },
     "metadata": {},
     "output_type": "display_data"
    }
   ],
   "source": [
    "length(which(sim_test$y==0))"
   ]
  },
  {
   "cell_type": "code",
   "execution_count": 10,
   "metadata": {},
   "outputs": [],
   "source": [
    "design_x_strain<-design_x_train[sam==1,]\n",
    "design_x_stest<-design_x_train[sam==2,]"
   ]
  },
  {
   "cell_type": "code",
   "execution_count": 11,
   "metadata": {},
   "outputs": [],
   "source": [
    "design_x_strain$y=sim_train$y_sim_train"
   ]
  },
  {
   "cell_type": "code",
   "execution_count": 12,
   "metadata": {},
   "outputs": [
    {
     "data": {
      "text/plain": [
       "\n",
       "Call:\n",
       "glm(formula = y ~ ., family = tweedie(link.power = 0, var.power = 1.7), \n",
       "    data = design_x_strain)\n",
       "\n",
       "Deviance Residuals: \n",
       "   Min      1Q  Median      3Q     Max  \n",
       "-4.530  -2.998  -2.541  -0.631   9.634  \n",
       "\n",
       "Coefficients:\n",
       "            Estimate Std. Error t value Pr(>|t|)    \n",
       "(Intercept)  0.32257    0.12567   2.567   0.0103 *  \n",
       "x12          0.58414    0.10906   5.356 9.29e-08 ***\n",
       "V2           0.53589    0.05562   9.634  < 2e-16 ***\n",
       "V3           0.39543    0.05561   7.111 1.50e-12 ***\n",
       "V4           0.56616    0.05499  10.296  < 2e-16 ***\n",
       "---\n",
       "Signif. codes:  0 '***' 0.001 '**' 0.01 '*' 0.05 '.' 0.1 ' ' 1\n",
       "\n",
       "(Dispersion parameter for Tweedie family taken to be 9.346251)\n",
       "\n",
       "    Null deviance: 22215  on 2499  degrees of freedom\n",
       "Residual deviance: 18134  on 2495  degrees of freedom\n",
       "AIC: NA\n",
       "\n",
       "Number of Fisher Scoring iterations: 7\n"
      ]
     },
     "metadata": {},
     "output_type": "display_data"
    },
    {
     "data": {
      "text/html": [
       "7.25375081087432"
      ],
      "text/latex": [
       "7.25375081087432"
      ],
      "text/markdown": [
       "7.25375081087432"
      ],
      "text/plain": [
       "[1] 7.253751"
      ]
     },
     "metadata": {},
     "output_type": "display_data"
    }
   ],
   "source": [
    "fit1<-glm(y~.,data=design_x_strain,family=tweedie(link.power=0,var.power=1.7))\n",
    "summary(fit1)\n",
    "mean(residuals(fit1)^2)"
   ]
  },
  {
   "cell_type": "code",
   "execution_count": 13,
   "metadata": {},
   "outputs": [
    {
     "data": {
      "text/html": [
       "<table class=\"dataframe\">\n",
       "<caption>A data.frame: 6 × 5</caption>\n",
       "<thead>\n",
       "\t<tr><th></th><th scope=col>x1</th><th scope=col>V2</th><th scope=col>V3</th><th scope=col>V4</th><th scope=col>y</th></tr>\n",
       "\t<tr><th></th><th scope=col>&lt;fct&gt;</th><th scope=col>&lt;dbl&gt;</th><th scope=col>&lt;dbl&gt;</th><th scope=col>&lt;dbl&gt;</th><th scope=col>&lt;dbl&gt;</th></tr>\n",
       "</thead>\n",
       "<tbody>\n",
       "\t<tr><th scope=row>2</th><td>1</td><td> 1.26392067</td><td>-1.6233876</td><td> 2.1452697</td><td>2.509473e+01</td></tr>\n",
       "\t<tr><th scope=row>4</th><td>2</td><td>-1.54173700</td><td>-0.3136212</td><td> 2.2837124</td><td>0.000000e+00</td></tr>\n",
       "\t<tr><th scope=row>5</th><td>1</td><td>-1.28855523</td><td>-1.3790889</td><td>-0.7575581</td><td>2.651409e-04</td></tr>\n",
       "\t<tr><th scope=row>7</th><td>2</td><td>-0.37746269</td><td>-0.8951082</td><td> 2.2420641</td><td>0.000000e+00</td></tr>\n",
       "\t<tr><th scope=row>9</th><td>2</td><td> 0.94558157</td><td>-2.8990485</td><td>-0.5039920</td><td>0.000000e+00</td></tr>\n",
       "\t<tr><th scope=row>10</th><td>1</td><td>-0.07654452</td><td> 0.0414496</td><td> 1.8452422</td><td>1.210923e+00</td></tr>\n",
       "</tbody>\n",
       "</table>\n"
      ],
      "text/latex": [
       "A data.frame: 6 × 5\n",
       "\\begin{tabular}{r|lllll}\n",
       "  & x1 & V2 & V3 & V4 & y\\\\\n",
       "  & <fct> & <dbl> & <dbl> & <dbl> & <dbl>\\\\\n",
       "\\hline\n",
       "\t2 & 1 &  1.26392067 & -1.6233876 &  2.1452697 & 2.509473e+01\\\\\n",
       "\t4 & 2 & -1.54173700 & -0.3136212 &  2.2837124 & 0.000000e+00\\\\\n",
       "\t5 & 1 & -1.28855523 & -1.3790889 & -0.7575581 & 2.651409e-04\\\\\n",
       "\t7 & 2 & -0.37746269 & -0.8951082 &  2.2420641 & 0.000000e+00\\\\\n",
       "\t9 & 2 &  0.94558157 & -2.8990485 & -0.5039920 & 0.000000e+00\\\\\n",
       "\t10 & 1 & -0.07654452 &  0.0414496 &  1.8452422 & 1.210923e+00\\\\\n",
       "\\end{tabular}\n"
      ],
      "text/markdown": [
       "\n",
       "A data.frame: 6 × 5\n",
       "\n",
       "| <!--/--> | x1 &lt;fct&gt; | V2 &lt;dbl&gt; | V3 &lt;dbl&gt; | V4 &lt;dbl&gt; | y &lt;dbl&gt; |\n",
       "|---|---|---|---|---|---|\n",
       "| 2 | 1 |  1.26392067 | -1.6233876 |  2.1452697 | 2.509473e+01 |\n",
       "| 4 | 2 | -1.54173700 | -0.3136212 |  2.2837124 | 0.000000e+00 |\n",
       "| 5 | 1 | -1.28855523 | -1.3790889 | -0.7575581 | 2.651409e-04 |\n",
       "| 7 | 2 | -0.37746269 | -0.8951082 |  2.2420641 | 0.000000e+00 |\n",
       "| 9 | 2 |  0.94558157 | -2.8990485 | -0.5039920 | 0.000000e+00 |\n",
       "| 10 | 1 | -0.07654452 |  0.0414496 |  1.8452422 | 1.210923e+00 |\n",
       "\n"
      ],
      "text/plain": [
       "   x1 V2          V3         V4         y           \n",
       "2  1   1.26392067 -1.6233876  2.1452697 2.509473e+01\n",
       "4  2  -1.54173700 -0.3136212  2.2837124 0.000000e+00\n",
       "5  1  -1.28855523 -1.3790889 -0.7575581 2.651409e-04\n",
       "7  2  -0.37746269 -0.8951082  2.2420641 0.000000e+00\n",
       "9  2   0.94558157 -2.8990485 -0.5039920 0.000000e+00\n",
       "10 1  -0.07654452  0.0414496  1.8452422 1.210923e+00"
      ]
     },
     "metadata": {},
     "output_type": "display_data"
    }
   ],
   "source": [
    "head(design_x_strain)"
   ]
  },
  {
   "cell_type": "code",
   "execution_count": 14,
   "metadata": {},
   "outputs": [],
   "source": [
    "autocross<-design_x_strain[,1:4]"
   ]
  },
  {
   "cell_type": "code",
   "execution_count": 15,
   "metadata": {},
   "outputs": [],
   "source": [
    "ytrain= design_x_strain$y"
   ]
  },
  {
   "cell_type": "code",
   "execution_count": 16,
   "metadata": {},
   "outputs": [],
   "source": [
    "result_round1=matrix(nrow=dim(autocross)[2],ncol=dim(autocross)[2])\n",
    "for(i in 2:(dim(autocross)[2])-1){\n",
    "    for(j in (i+1):(dim(autocross)[2])){\n",
    "        if (is.numeric(autocross[,i])&&is.numeric(autocross[,j])){\n",
    "            tmp_x <- autocross[,i]*autocross[,j]\n",
    "            tmp_fit<-glm(ytrain~tmp_x+offset(log(fitted(fit1)))\n",
    "                   ,family=tweedie(link.power=0,var.power=1.7),control=list(maxit=500))\n",
    "            result_round1[i,j]=mean(residuals(tmp_fit)^2)\n",
    "        }\n",
    "        else if(is.factor(autocross[,i])&&is.factor(autocross[,j])){\n",
    "            tmp_x<-model.matrix(~autocross[,i]*autocross[,j])\n",
    "            tmp_x_x<-model.matrix(~autocross[,i]+autocross[,j])\n",
    "            tmp_diff <- setdiff(colnames(tmp_x),colnames(tmp_x_x))\n",
    "            tmp_x<-tmp_x[,tmp_diff]\n",
    "            tmp_x<-as.matrix(tmp_x)\n",
    "            if (ncol(tmp_x)<=5){\n",
    "            tmp_fit<-glm(ytrain~tmp_x+offset(log(fitted(fit1)))\n",
    "                   ,family=tweedie(link.power=0,var.power=1.7),control=list(maxit=500))\n",
    "            result_round1[i,j]=mean(residuals(tmp_fit)^2)}\n",
    "            else if (ncol(tmp_x)>5){\n",
    "                result = random_categorical_data(X=tmp_x,y=ytrain,fitted_offset=fitted(fit1))\n",
    "                result_round1[i,j] = result$'min Deviance'\n",
    "            }}\n",
    "        else{\n",
    "            tmp_x<-model.matrix(~autocross[,i]:autocross[,j])\n",
    "            tmp_x<-tmp_x[,-c(1,2)]\n",
    "            tmp_fit<-glm(ytrain~tmp_x+offset(log(fitted(fit1)))\n",
    "                   ,family=tweedie(link.power=0,var.power=1.7),control=list(maxit=500))\n",
    "            result_round1[i,j]=mean(residuals(tmp_fit)^2)\n",
    "    }\n",
    "  }\n",
    "}"
   ]
  },
  {
   "cell_type": "code",
   "execution_count": 17,
   "metadata": {},
   "outputs": [
    {
     "data": {
      "text/html": [
       "<table class=\"dataframe\">\n",
       "<caption>A matrix: 1 × 2 of type int</caption>\n",
       "<thead>\n",
       "\t<tr><th scope=col>row</th><th scope=col>col</th></tr>\n",
       "</thead>\n",
       "<tbody>\n",
       "\t<tr><td>2</td><td>3</td></tr>\n",
       "</tbody>\n",
       "</table>\n"
      ],
      "text/latex": [
       "A matrix: 1 × 2 of type int\n",
       "\\begin{tabular}{ll}\n",
       " row & col\\\\\n",
       "\\hline\n",
       "\t 2 & 3\\\\\n",
       "\\end{tabular}\n"
      ],
      "text/markdown": [
       "\n",
       "A matrix: 1 × 2 of type int\n",
       "\n",
       "| row | col |\n",
       "|---|---|\n",
       "| 2 | 3 |\n",
       "\n"
      ],
      "text/plain": [
       "     row col\n",
       "[1,] 2   3  "
      ]
     },
     "metadata": {},
     "output_type": "display_data"
    }
   ],
   "source": [
    "round1_index <- which(result_round1 == min(result_round1,na.rm=T), arr.ind = TRUE)\n",
    "round1_index"
   ]
  },
  {
   "cell_type": "code",
   "execution_count": 19,
   "metadata": {},
   "outputs": [
    {
     "data": {
      "text/plain": [
       "\n",
       "Call:\n",
       "glm(formula = y ~ . + V2 * V3, family = tweedie(link.power = 0, \n",
       "    var.power = 1.7), data = design_x_strain, control = list(maxit = 500))\n",
       "\n",
       "Deviance Residuals: \n",
       "    Min       1Q   Median       3Q      Max  \n",
       "-4.6500  -2.9721  -2.5460  -0.6116   9.8328  \n",
       "\n",
       "Coefficients:\n",
       "            Estimate Std. Error t value Pr(>|t|)    \n",
       "(Intercept)  0.28064    0.12458   2.253   0.0244 *  \n",
       "x12          0.58483    0.10709   5.461 5.20e-08 ***\n",
       "V2           0.65735    0.07151   9.193  < 2e-16 ***\n",
       "V3           0.37100    0.05536   6.702 2.54e-11 ***\n",
       "V4           0.56304    0.05397  10.433  < 2e-16 ***\n",
       "V2:V3        0.14377    0.05298   2.713   0.0067 ** \n",
       "---\n",
       "Signif. codes:  0 '***' 0.001 '**' 0.01 '*' 0.05 '.' 0.1 ' ' 1\n",
       "\n",
       "(Dispersion parameter for Tweedie family taken to be 8.989923)\n",
       "\n",
       "    Null deviance: 22215  on 2499  degrees of freedom\n",
       "Residual deviance: 18066  on 2494  degrees of freedom\n",
       "AIC: NA\n",
       "\n",
       "Number of Fisher Scoring iterations: 7\n"
      ]
     },
     "metadata": {},
     "output_type": "display_data"
    }
   ],
   "source": [
    "round1_fit<-glm(y~.+V2*V3,data=design_x_strain\n",
    "                   ,family=tweedie(link.power=0,var.power=1.7),control=list(maxit=500))\n",
    "summary(round1_fit)"
   ]
  },
  {
   "cell_type": "code",
   "execution_count": 20,
   "metadata": {},
   "outputs": [
    {
     "data": {
      "text/html": [
       "0.996242178615"
      ],
      "text/latex": [
       "0.996242178615"
      ],
      "text/markdown": [
       "0.996242178615"
      ],
      "text/plain": [
       "[1] 0.9962422"
      ]
     },
     "metadata": {},
     "output_type": "display_data"
    }
   ],
   "source": [
    "mean(residuals(round1_fit)^2)/mean(residuals(fit1)^2)"
   ]
  },
  {
   "cell_type": "code",
   "execution_count": 21,
   "metadata": {},
   "outputs": [
    {
     "data": {
      "text/html": [
       "8688.17672584966"
      ],
      "text/latex": [
       "8688.17672584966"
      ],
      "text/markdown": [
       "8688.17672584966"
      ],
      "text/plain": [
       "[1] 8688.177"
      ]
     },
     "metadata": {},
     "output_type": "display_data"
    }
   ],
   "source": [
    "AICtweedie(fit1)"
   ]
  },
  {
   "cell_type": "code",
   "execution_count": 22,
   "metadata": {},
   "outputs": [
    {
     "data": {
      "text/html": [
       "8682.9932874424"
      ],
      "text/latex": [
       "8682.9932874424"
      ],
      "text/markdown": [
       "8682.9932874424"
      ],
      "text/plain": [
       "[1] 8682.993"
      ]
     },
     "metadata": {},
     "output_type": "display_data"
    }
   ],
   "source": [
    "AICtweedie(round1_fit)"
   ]
  },
  {
   "cell_type": "code",
   "execution_count": 24,
   "metadata": {},
   "outputs": [],
   "source": [
    "design_x_test_full<- model.matrix(~.,data=design_x_stest[,1:4])\n",
    "design_x_stest$y <- sim_test$y_sim_train"
   ]
  },
  {
   "cell_type": "code",
   "execution_count": 25,
   "metadata": {},
   "outputs": [],
   "source": [
    "pred_fit1<-exp(design_x_test_full%*%fit1$coefficients)"
   ]
  },
  {
   "cell_type": "code",
   "execution_count": 27,
   "metadata": {},
   "outputs": [
    {
     "data": {
      "text/html": [
       "0.994570225927713"
      ],
      "text/latex": [
       "0.994570225927713"
      ],
      "text/markdown": [
       "0.994570225927713"
      ],
      "text/plain": [
       "[1] 0.9945702"
      ]
     },
     "metadata": {},
     "output_type": "display_data"
    }
   ],
   "source": [
    "tmp_x<-model.matrix(~.+V2*V3,data=design_x_stest[,1:4])\n",
    "pred_round1<-exp(tmp_x%*%round1_fit$coefficients)\n",
    "mean(tweedie.dev(design_x_stest$y,pred_fit1,power=1.7))/mean(tweedie.dev(design_x_stest$y,pred_round1,power=1.7))"
   ]
  },
  {
   "cell_type": "code",
   "execution_count": 28,
   "metadata": {},
   "outputs": [
    {
     "data": {
      "text/html": [
       "1.00545941747575"
      ],
      "text/latex": [
       "1.00545941747575"
      ],
      "text/markdown": [
       "1.00545941747575"
      ],
      "text/plain": [
       "[1] 1.005459"
      ]
     },
     "metadata": {},
     "output_type": "display_data"
    }
   ],
   "source": [
    "mean(tweedie.dev(design_x_stest$y,pred_round1,power=1.7))/mean(tweedie.dev(design_x_stest$y,pred_fit1,power=1.7))"
   ]
  }
 ],
 "metadata": {
  "kernelspec": {
   "display_name": "R",
   "language": "R",
   "name": "ir"
  },
  "language_info": {
   "codemirror_mode": "r",
   "file_extension": ".r",
   "mimetype": "text/x-r-source",
   "name": "R",
   "pygments_lexer": "r",
   "version": "4.1.1"
  }
 },
 "nbformat": 4,
 "nbformat_minor": 4
}
