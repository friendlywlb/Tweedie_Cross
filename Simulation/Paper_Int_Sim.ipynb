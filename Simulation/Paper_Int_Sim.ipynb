{
 "cells": [
  {
   "cell_type": "code",
   "execution_count": 3,
   "metadata": {},
   "outputs": [
    {
     "name": "stderr",
     "output_type": "stream",
     "text": [
      "Loading required package: coda\n",
      "\n",
      "Loading required package: Matrix\n",
      "\n",
      "Loading required package: splines\n",
      "\n",
      "Loading required package: lattice\n",
      "\n",
      "Loaded TDboost 1.2\n",
      "\n",
      "\n",
      "Loading required package: nlme\n",
      "\n",
      "\n",
      "Attaching package: 'nlme'\n",
      "\n",
      "\n",
      "The following objects are masked from 'package:cplm':\n",
      "\n",
      "    fixef, ranef, VarCorr\n",
      "\n",
      "\n",
      "This is mgcv 1.8-38. For overview type 'help(\"mgcv-package\")'.\n",
      "\n",
      "Loaded glmnet 4.1-2\n",
      "\n"
     ]
    }
   ],
   "source": [
    "library(fastDummies)\n",
    "library(cplm)\n",
    "library(tweedie)\n",
    "library(statmod)\n",
    "library(HDtweedie)\n",
    "library(TDboost)\n",
    "library(mgcv)\n",
    "library(MASS)\n",
    "library(glmnet)"
   ]
  },
  {
   "cell_type": "code",
   "execution_count": 37,
   "metadata": {},
   "outputs": [],
   "source": [
    "beta_num<- rep(0.3,9)\n",
    "mu<-exp(design_x%*%beta_num)\n",
    "y_sim<- rTweedie(mu,p=1.7,phi=9)"
   ]
  },
  {
   "cell_type": "code",
   "execution_count": 38,
   "metadata": {},
   "outputs": [
    {
     "data": {
      "text/html": [
       "3105"
      ],
      "text/latex": [
       "3105"
      ],
      "text/markdown": [
       "3105"
      ],
      "text/plain": [
       "[1] 3105"
      ]
     },
     "metadata": {},
     "output_type": "display_data"
    }
   ],
   "source": [
    "length(which(y_sim==0))"
   ]
  },
  {
   "cell_type": "code",
   "execution_count": 39,
   "metadata": {},
   "outputs": [
    {
     "data": {
      "text/plain": [
       "    Min.  1st Qu.   Median     Mean  3rd Qu.     Max. \n",
       "   0.000    0.000    0.000   13.282    1.123 7440.451 "
      ]
     },
     "metadata": {},
     "output_type": "display_data"
    }
   ],
   "source": [
    "summary(y_sim)"
   ]
  },
  {
   "cell_type": "code",
   "execution_count": 40,
   "metadata": {},
   "outputs": [],
   "source": [
    "sim_full_train<-cbind(design_x_train,y_sim)"
   ]
  },
  {
   "cell_type": "code",
   "execution_count": 41,
   "metadata": {},
   "outputs": [],
   "source": [
    "design_x_train$y=y_sim"
   ]
  },
  {
   "cell_type": "code",
   "execution_count": 42,
   "metadata": {},
   "outputs": [],
   "source": [
    "sam <- sample(rep(1:2,len=5000))\n",
    "sim_train<-sim_full_train[sam==1,]\n",
    "sim_test<-sim_full_train[sam==2,]"
   ]
  },
  {
   "cell_type": "code",
   "execution_count": 43,
   "metadata": {},
   "outputs": [
    {
     "data": {
      "text/html": [
       "1548"
      ],
      "text/latex": [
       "1548"
      ],
      "text/markdown": [
       "1548"
      ],
      "text/plain": [
       "[1] 1548"
      ]
     },
     "metadata": {},
     "output_type": "display_data"
    },
    {
     "data": {
      "text/html": [
       "1557"
      ],
      "text/latex": [
       "1557"
      ],
      "text/markdown": [
       "1557"
      ],
      "text/plain": [
       "[1] 1557"
      ]
     },
     "metadata": {},
     "output_type": "display_data"
    }
   ],
   "source": [
    "length(which(sim_train$y==0))\n",
    "length(which(sim_test$y==0))"
   ]
  },
  {
   "cell_type": "code",
   "execution_count": 44,
   "metadata": {},
   "outputs": [],
   "source": [
    "design_x_strain<-design_x_train[sam==1,]\n",
    "design_x_stest<-design_x_train[sam==2,]\n",
    "design_x_strain$y=sim_train$y_sim"
   ]
  },
  {
   "cell_type": "code",
   "execution_count": 45,
   "metadata": {},
   "outputs": [
    {
     "data": {
      "text/plain": [
       "\n",
       "Call:\n",
       "glm(formula = y ~ . + x1 * x2 * x4, family = tweedie(link.power = 0, \n",
       "    var.power = 1.7), data = design_x_strain)\n",
       "\n",
       "Deviance Residuals: \n",
       "    Min       1Q   Median       3Q      Max  \n",
       "-8.4205  -2.7855  -2.4277  -0.8794  11.7444  \n",
       "\n",
       "Coefficients:\n",
       "            Estimate Std. Error t value Pr(>|t|)    \n",
       "(Intercept)  0.26859    0.17005   1.579  0.11436    \n",
       "x12          0.30777    0.18881   1.630  0.10321    \n",
       "x2           0.27333    0.15059   1.815  0.06963 .  \n",
       "x3           0.30693    0.05944   5.164 2.61e-07 ***\n",
       "x4           0.31626    0.10548   2.998  0.00274 ** \n",
       "x12:x2       0.44195    0.18675   2.367  0.01803 *  \n",
       "x12:x4       0.21599    0.12688   1.702  0.08881 .  \n",
       "x2:x4        0.31756    0.09971   3.185  0.00147 ** \n",
       "x12:x2:x4    0.23217    0.11727   1.980  0.04784 *  \n",
       "---\n",
       "Signif. codes:  0 '***' 0.001 '**' 0.01 '*' 0.05 '.' 0.1 ' ' 1\n",
       "\n",
       "(Dispersion parameter for Tweedie family taken to be 10.11432)\n",
       "\n",
       "    Null deviance: 36207  on 2499  degrees of freedom\n",
       "Residual deviance: 17586  on 2491  degrees of freedom\n",
       "AIC: NA\n",
       "\n",
       "Number of Fisher Scoring iterations: 8\n"
      ]
     },
     "metadata": {},
     "output_type": "display_data"
    },
    {
     "data": {
      "text/html": [
       "7.034568970206"
      ],
      "text/latex": [
       "7.034568970206"
      ],
      "text/markdown": [
       "7.034568970206"
      ],
      "text/plain": [
       "[1] 7.034569"
      ]
     },
     "metadata": {},
     "output_type": "display_data"
    }
   ],
   "source": [
    "true_fit<- glm(y~.+x1*x2*x4,data=design_x_strain,family=tweedie(link.power=0,var.power=1.7))\n",
    "summary(true_fit)\n",
    "mean(residuals(true_fit)^2)"
   ]
  },
  {
   "cell_type": "code",
   "execution_count": 46,
   "metadata": {},
   "outputs": [
    {
     "data": {
      "text/plain": [
       "\n",
       "Call:\n",
       "glm(formula = y ~ ., family = tweedie(link.power = 0, var.power = 1.7), \n",
       "    data = design_x_strain, control = list(maxit = 500))\n",
       "\n",
       "Deviance Residuals: \n",
       "   Min      1Q  Median      3Q     Max  \n",
       "-6.294  -3.014  -2.437  -1.012  18.083  \n",
       "\n",
       "Coefficients:\n",
       "            Estimate Std. Error t value Pr(>|t|)    \n",
       "(Intercept) -0.09748    0.22520  -0.433 0.665162    \n",
       "x12          0.87784    0.18643   4.709 2.63e-06 ***\n",
       "x2           1.09475    0.09011  12.149  < 2e-16 ***\n",
       "x3           0.33560    0.09500   3.532 0.000419 ***\n",
       "x4           0.74848    0.09430   7.937 3.10e-15 ***\n",
       "---\n",
       "Signif. codes:  0 '***' 0.001 '**' 0.01 '*' 0.05 '.' 0.1 ' ' 1\n",
       "\n",
       "(Dispersion parameter for Tweedie family taken to be 27.89925)\n",
       "\n",
       "    Null deviance: 36207  on 2499  degrees of freedom\n",
       "Residual deviance: 19445  on 2495  degrees of freedom\n",
       "AIC: NA\n",
       "\n",
       "Number of Fisher Scoring iterations: 52\n"
      ]
     },
     "metadata": {},
     "output_type": "display_data"
    },
    {
     "data": {
      "text/html": [
       "7.7780297720657"
      ],
      "text/latex": [
       "7.7780297720657"
      ],
      "text/markdown": [
       "7.7780297720657"
      ],
      "text/plain": [
       "[1] 7.77803"
      ]
     },
     "metadata": {},
     "output_type": "display_data"
    }
   ],
   "source": [
    "fit1<-glm(y~.,data=design_x_strain,family=tweedie(link.power=0,var.power=1.7),control=list(maxit=500))\n",
    "summary(fit1)\n",
    "mean(residuals(fit1)^2)"
   ]
  },
  {
   "cell_type": "code",
   "execution_count": 48,
   "metadata": {},
   "outputs": [
    {
     "data": {
      "text/plain": [
       " x1             x2                  x3                x4         \n",
       " 1: 985   Min.   :-4.130126   Min.   :-4.2001   Min.   :-2.5243  \n",
       " 2:1515   1st Qu.:-0.664392   1st Qu.:-1.6615   1st Qu.: 0.3727  \n",
       "          Median : 0.007939   Median :-0.9617   Median : 1.0504  \n",
       "          Mean   :-0.004948   Mean   :-0.9897   Mean   : 1.0281  \n",
       "          3rd Qu.: 0.684042   3rd Qu.:-0.3411   3rd Qu.: 1.6989  \n",
       "          Max.   : 2.890667   Max.   : 2.9720   Max.   : 4.2413  "
      ]
     },
     "metadata": {},
     "output_type": "display_data"
    }
   ],
   "source": [
    "autocross<-design_x_strain[,1:4]\n",
    "summary(autocross)\n",
    "ytrain= design_x_strain$y"
   ]
  },
  {
   "cell_type": "code",
   "execution_count": 49,
   "metadata": {},
   "outputs": [],
   "source": [
    "result_round1=matrix(nrow=dim(autocross)[2],ncol=dim(autocross)[2])\n",
    "cat_coef=list()\n",
    "cat_coef_names=c()\n",
    "for(i in 2:(dim(autocross)[2])-1){\n",
    "    for(j in (i+1):(dim(autocross)[2])){\n",
    "        if (is.numeric(autocross[,i])&&is.numeric(autocross[,j])){\n",
    "            tmp_x <- autocross[,i]*autocross[,j]\n",
    "            tmp_fit<-glm(ytrain~tmp_x+offset(log(fitted(fit1)))\n",
    "                   ,family=tweedie(link.power=0,var.power=1.7),control=list(maxit=500))\n",
    "            result_round1[i,j]=mean(residuals(tmp_fit)^2)\n",
    "        }\n",
    "        else{\n",
    "            tmp_x<-model.matrix(~autocross[,i]*autocross[,j])\n",
    "            tmp_x<-as.matrix(tmp_x)[,-1]\n",
    "            tmp_cvfit<-cv.glmnet(x=tmp_x,y=ytrain,family=tweedie(link.power=0,var.power=1.7),alpha=0.5\n",
    "                                 ,offset=log(fitted(fit1)),type.measure = 'deviance')\n",
    "            tmp_lambda<- tmp_cvfit$lambda.min\n",
    "            tmp_fit<-glmnet(x=tmp_x,y=ytrain,family=tweedie(link.power=0,var.power=1.7),alpha=0.5\n",
    "                                 ,offset=log(fitted(fit1)),lambda=tmp_lambda)\n",
    "            tmp_coef<-as.matrix(coef(tmp_fit))[,1]\n",
    "            if (length(which(tmp_coef!=0))==0){\n",
    "                result_round1[i,j]=9999}\n",
    "            else{\n",
    "                tmp_x<-model.matrix(~autocross[,i]*autocross[,j])\n",
    "                tmp_fitted<-exp(tmp_x%*%tmp_coef+log(fitted(fit1)))\n",
    "                result_round1[i,j]<-mean(tweedie.dev(ytrain,tmp_fitted,1.7))\n",
    "                cat_coef=append(cat_coef,list(as.numeric(tmp_coef)))\n",
    "                cat_coef_names=c(cat_coef_names,paste(as.character(i),as.character(j),sep=''))       \n",
    "            }  \n",
    "            names(cat_coef)=cat_coef_names\n",
    "    }\n",
    "  }\n",
    "}"
   ]
  },
  {
   "cell_type": "code",
   "execution_count": 49,
   "metadata": {},
   "outputs": [],
   "source": [
    "result_round1_normal=matrix(nrow=dim(autocross)[2],ncol=dim(autocross)[2])\n",
    "for(i in 2:(dim(autocross)[2])-1){\n",
    "    for(j in (i+1):(dim(autocross)[2])){\n",
    "        if (is.numeric(autocross[,i])&&is.numeric(autocross[,j])){\n",
    "            tmp_x <- autocross[,i]*autocross[,j]\n",
    "            tmp_fit<-glm(ytrain~tmp_x+offset(log(fitted(fit1)))\n",
    "                   ,family=tweedie(link.power=0,var.power=1.7),control=list(maxit=500))\n",
    "            result_round1_normal[i,j]=mean(residuals(tmp_fit)^2)\n",
    "        }\n",
    "        else{\n",
    "            tmp_x<-model.matrix(~autocross[,i]*autocross[,j])\n",
    "            tmp_x<-as.matrix(tmp_x)[,-1]\n",
    "            tmp_fit<-glm(ytrain~tmp_x+offset(log(fitted(fit1)))\n",
    "                   ,family=tweedie(link.power=0,var.power=1.7),control=list(maxit=500))\n",
    "            result_round1_normal[i,j]=mean(residuals(tmp_fit)^2)\n",
    "        }\n",
    "    }\n",
    "  }"
   ]
  },
  {
   "cell_type": "code",
   "execution_count": 50,
   "metadata": {},
   "outputs": [
    {
     "data": {
      "text/html": [
       "<table class=\"dataframe\">\n",
       "<caption>A matrix: 1 × 2 of type int</caption>\n",
       "<thead>\n",
       "\t<tr><th scope=col>row</th><th scope=col>col</th></tr>\n",
       "</thead>\n",
       "<tbody>\n",
       "\t<tr><td>1</td><td>3</td></tr>\n",
       "</tbody>\n",
       "</table>\n"
      ],
      "text/latex": [
       "A matrix: 1 × 2 of type int\n",
       "\\begin{tabular}{ll}\n",
       " row & col\\\\\n",
       "\\hline\n",
       "\t 1 & 3\\\\\n",
       "\\end{tabular}\n"
      ],
      "text/markdown": [
       "\n",
       "A matrix: 1 × 2 of type int\n",
       "\n",
       "| row | col |\n",
       "|---|---|\n",
       "| 1 | 3 |\n",
       "\n"
      ],
      "text/plain": [
       "     row col\n",
       "[1,] 1   3  "
      ]
     },
     "metadata": {},
     "output_type": "display_data"
    }
   ],
   "source": [
    "round1_index_normal <- which(result_round1_normal == min(result_round1_normal,na.rm=T), arr.ind = TRUE)\n",
    "round1_index_normal"
   ]
  },
  {
   "cell_type": "code",
   "execution_count": 50,
   "metadata": {},
   "outputs": [
    {
     "data": {
      "text/html": [
       "<table class=\"dataframe\">\n",
       "<caption>A matrix: 1 × 2 of type int</caption>\n",
       "<thead>\n",
       "\t<tr><th scope=col>row</th><th scope=col>col</th></tr>\n",
       "</thead>\n",
       "<tbody>\n",
       "\t<tr><td>1</td><td>2</td></tr>\n",
       "</tbody>\n",
       "</table>\n"
      ],
      "text/latex": [
       "A matrix: 1 × 2 of type int\n",
       "\\begin{tabular}{ll}\n",
       " row & col\\\\\n",
       "\\hline\n",
       "\t 1 & 2\\\\\n",
       "\\end{tabular}\n"
      ],
      "text/markdown": [
       "\n",
       "A matrix: 1 × 2 of type int\n",
       "\n",
       "| row | col |\n",
       "|---|---|\n",
       "| 1 | 2 |\n",
       "\n"
      ],
      "text/plain": [
       "     row col\n",
       "[1,] 1   2  "
      ]
     },
     "metadata": {},
     "output_type": "display_data"
    }
   ],
   "source": [
    "round1_index <- which(result_round1 == min(result_round1,na.rm=T), arr.ind = TRUE)\n",
    "round1_index"
   ]
  },
  {
   "cell_type": "code",
   "execution_count": 27,
   "metadata": {},
   "outputs": [
    {
     "data": {
      "text/html": [
       "<style>\n",
       ".list-inline {list-style: none; margin:0; padding: 0}\n",
       ".list-inline>li {display: inline-block}\n",
       ".list-inline>li:not(:last-child)::after {content: \"\\00b7\"; padding: 0 .5ex}\n",
       "</style>\n",
       "<ol class=list-inline><li>0.00404109270180692</li><li>-0.0797061326164911</li><li>-0.373300364828701</li><li>0.618033498517284</li></ol>\n"
      ],
      "text/latex": [
       "\\begin{enumerate*}\n",
       "\\item 0.00404109270180692\n",
       "\\item -0.0797061326164911\n",
       "\\item -0.373300364828701\n",
       "\\item 0.618033498517284\n",
       "\\end{enumerate*}\n"
      ],
      "text/markdown": [
       "1. 0.00404109270180692\n",
       "2. -0.0797061326164911\n",
       "3. -0.373300364828701\n",
       "4. 0.618033498517284\n",
       "\n",
       "\n"
      ],
      "text/plain": [
       "[1]  0.004041093 -0.079706133 -0.373300365  0.618033499"
      ]
     },
     "metadata": {},
     "output_type": "display_data"
    }
   ],
   "source": [
    "cat_coef$'13'"
   ]
  },
  {
   "cell_type": "code",
   "execution_count": 51,
   "metadata": {},
   "outputs": [
    {
     "data": {
      "text/plain": [
       "\n",
       "Call:\n",
       "glm(formula = y ~ . + x1 * x2, family = tweedie(link.power = 0, \n",
       "    var.power = 1.7), data = design_x_strain, control = list(maxit = 500))\n",
       "\n",
       "Deviance Residuals: \n",
       "    Min       1Q   Median       3Q      Max  \n",
       "-6.7387  -2.9175  -2.4108  -0.9727  11.8779  \n",
       "\n",
       "Coefficients:\n",
       "            Estimate Std. Error t value Pr(>|t|)    \n",
       "(Intercept) -0.02114    0.16425  -0.129    0.898    \n",
       "x12          0.69773    0.14351   4.862 1.24e-06 ***\n",
       "x2           0.56071    0.11128   5.039 5.02e-07 ***\n",
       "x3           0.32037    0.06962   4.602 4.40e-06 ***\n",
       "x4           0.65748    0.06861   9.583  < 2e-16 ***\n",
       "x12:x2       0.92222    0.13661   6.751 1.82e-11 ***\n",
       "---\n",
       "Signif. codes:  0 '***' 0.001 '**' 0.01 '*' 0.05 '.' 0.1 ' ' 1\n",
       "\n",
       "(Dispersion parameter for Tweedie family taken to be 14.45999)\n",
       "\n",
       "    Null deviance: 36207  on 2499  degrees of freedom\n",
       "Residual deviance: 18585  on 2494  degrees of freedom\n",
       "AIC: NA\n",
       "\n",
       "Number of Fisher Scoring iterations: 11\n"
      ]
     },
     "metadata": {},
     "output_type": "display_data"
    }
   ],
   "source": [
    "round1_fit<-glm(y~.+x1*x2,data=design_x_strain\n",
    "                   ,family=tweedie(link.power=0,var.power=1.7),control=list(maxit=500))\n",
    "summary(round1_fit)"
   ]
  },
  {
   "cell_type": "code",
   "execution_count": 52,
   "metadata": {},
   "outputs": [
    {
     "data": {
      "text/html": [
       "0.9557569591506"
      ],
      "text/latex": [
       "0.9557569591506"
      ],
      "text/markdown": [
       "0.9557569591506"
      ],
      "text/plain": [
       "[1] 0.955757"
      ]
     },
     "metadata": {},
     "output_type": "display_data"
    }
   ],
   "source": [
    "mean(residuals(round1_fit)^2)/mean(residuals(fit1)^2)"
   ]
  },
  {
   "cell_type": "code",
   "execution_count": 53,
   "metadata": {},
   "outputs": [],
   "source": [
    "result_round2=matrix(nrow=dim(autocross)[2],ncol=dim(autocross)[2])\n",
    "cat_coef_round2=list()\n",
    "cat_coef_names_round2=c()\n",
    "for(i in 2:(dim(autocross)[2])-1){\n",
    "    for(j in (i+1):(dim(autocross)[2])){\n",
    "        if(i==1 &&j==2){result_round2[i,j]=999999}\n",
    "        else{\n",
    "            if (is.numeric(autocross[,i])&&is.numeric(autocross[,j])){\n",
    "                tmp_x <- autocross[,i]*autocross[,j]\n",
    "                tmp_fit<-glm(ytrain~tmp_x+offset(log(fitted(round1_fit)))\n",
    "                       ,family=tweedie(link.power=0,var.power=1.7),control=list(maxit=500))\n",
    "                result_round2[i,j]=mean(residuals(tmp_fit)^2)\n",
    "            }\n",
    "            else {\n",
    "            tmp_x<-model.matrix(~autocross[,i]*autocross[,j])\n",
    "            tmp_x<-as.matrix(tmp_x)[,-1]\n",
    "            tmp_cvfit<-cv.glmnet(x=tmp_x,y=ytrain,family=tweedie(link.power=0,var.power=1.7),alpha=0.5\n",
    "                                 ,offset=log(fitted(round1_fit)),type.measure = 'deviance')\n",
    "            tmp_lambda<- tmp_cvfit$lambda.min\n",
    "            tmp_fit<-glmnet(x=tmp_x,y=ytrain,family=tweedie(link.power=0,var.power=1.7),alpha=0.5\n",
    "                                 ,offset=log(fitted(round1_fit)),lambda=tmp_lambda)\n",
    "            tmp_coef<-as.matrix(coef(tmp_fit))[,1]\n",
    "            if (length(which(tmp_coef!=0))==0){\n",
    "                result_round2[i,j]=9999}\n",
    "            else{\n",
    "                tmp_x<-model.matrix(~autocross[,i]*autocross[,j])\n",
    "                tmp_fitted<-exp(tmp_x%*%tmp_coef+log(fitted(round1_fit)))\n",
    "                result_round2[i,j]<-mean(tweedie.dev(ytrain,tmp_fitted,1.7))\n",
    "                cat_coef_round2=append(cat_coef_round2,list(as.numeric(tmp_coef)))\n",
    "                cat_coef_names_round2=c(cat_coef_names_round2,paste(as.character(i),as.character(j),sep=''))       \n",
    "            }  \n",
    "            names(cat_coef_round2)=cat_coef_names_round2\n",
    "    }\n",
    "            }\n",
    "  }\n",
    "}"
   ]
  },
  {
   "cell_type": "code",
   "execution_count": 54,
   "metadata": {},
   "outputs": [],
   "source": [
    "result_round_2_threeway=rep(0,dim(autocross)[2])\n",
    "cat_coef_round23=list()\n",
    "cat_coef_names_round23=c()\n",
    "for(i in 1:(dim(autocross)[2])){\n",
    "  if (i==1 || i==2){\n",
    "    result_round_2_threeway[i]=99999\n",
    "  }\n",
    "  else{\n",
    "      tmp_x<-model.matrix(~autocross[,1]*autocross[,2]*autocross[,i])\n",
    "      tmp_x<-tmp_x[,-1]\n",
    "            tmp_cvfit<-cv.glmnet(x=tmp_x,y=ytrain,family=tweedie(link.power=0,var.power=1.7),alpha=0.5\n",
    "                                 ,offset=log(fitted(round1_fit)),type.measure = 'deviance')\n",
    "            tmp_lambda<- tmp_cvfit$lambda.min\n",
    "            tmp_fit<-glmnet(x=tmp_x,y=ytrain,family=tweedie(link.power=0,var.power=1.7),alpha=0.5\n",
    "                                 ,offset=log(fitted(round1_fit)),lambda=tmp_lambda)\n",
    "            tmp_coef<-as.matrix(coef(tmp_fit))[,1]\n",
    "            if (length(which(tmp_coef!=0))==0){\n",
    "                result_round_2_threeway[i]=9999}\n",
    "            else{\n",
    "                tmp_x<-model.matrix(~autocross[,1]*autocross[,2]*autocross[,i])\n",
    "                tmp_fitted<-exp(tmp_x%*%tmp_coef+log(fitted(round1_fit)))\n",
    "                result_round_2_threeway[i]<-mean(tweedie.dev(ytrain,tmp_fitted,1.7))\n",
    "                cat_coef_round23=append(cat_coef_round23,list(as.numeric(tmp_coef)))\n",
    "                cat_coef_names_round23=c(cat_coef_names_round23,paste(as.character(i),sep=''))       \n",
    "            }  \n",
    "            names(cat_coef_round23)=cat_coef_names_round23\n",
    "}\n",
    "    }"
   ]
  },
  {
   "cell_type": "code",
   "execution_count": 56,
   "metadata": {},
   "outputs": [
    {
     "data": {
      "text/html": [
       "<table class=\"dataframe\">\n",
       "<caption>A matrix: 1 × 2 of type int</caption>\n",
       "<thead>\n",
       "\t<tr><th scope=col>row</th><th scope=col>col</th></tr>\n",
       "</thead>\n",
       "<tbody>\n",
       "\t<tr><td>4</td><td>5</td></tr>\n",
       "</tbody>\n",
       "</table>\n"
      ],
      "text/latex": [
       "A matrix: 1 × 2 of type int\n",
       "\\begin{tabular}{ll}\n",
       " row & col\\\\\n",
       "\\hline\n",
       "\t 4 & 5\\\\\n",
       "\\end{tabular}\n"
      ],
      "text/markdown": [
       "\n",
       "A matrix: 1 × 2 of type int\n",
       "\n",
       "| row | col |\n",
       "|---|---|\n",
       "| 4 | 5 |\n",
       "\n"
      ],
      "text/plain": [
       "     row col\n",
       "[1,] 4   5  "
      ]
     },
     "metadata": {},
     "output_type": "display_data"
    }
   ],
   "source": [
    "result_round2_final<-cbind(result_round2,result_round_2_threeway)\n",
    "round2_index<-which(result_round2_final == min(result_round2_final,na.rm=T), arr.ind = TRUE)\n",
    "round2_index"
   ]
  },
  {
   "cell_type": "code",
   "execution_count": 58,
   "metadata": {},
   "outputs": [
    {
     "data": {
      "text/html": [
       "<table class=\"dataframe\">\n",
       "<caption>A matrix: 4 × 5 of type dbl</caption>\n",
       "<thead>\n",
       "\t<tr><th scope=col></th><th scope=col></th><th scope=col></th><th scope=col></th><th scope=col>result_round_2_threeway</th></tr>\n",
       "</thead>\n",
       "<tbody>\n",
       "\t<tr><td>NA</td><td>999999</td><td>7.433906</td><td>7.409127</td><td>99999.000000</td></tr>\n",
       "\t<tr><td>NA</td><td>    NA</td><td>7.428986</td><td>7.314837</td><td>99999.000000</td></tr>\n",
       "\t<tr><td>NA</td><td>    NA</td><td>      NA</td><td>7.433906</td><td>    7.433906</td></tr>\n",
       "\t<tr><td>NA</td><td>    NA</td><td>      NA</td><td>      NA</td><td>    7.035157</td></tr>\n",
       "</tbody>\n",
       "</table>\n"
      ],
      "text/latex": [
       "A matrix: 4 × 5 of type dbl\n",
       "\\begin{tabular}{lllll}\n",
       "  &  &  &  & result\\_round\\_2\\_threeway\\\\\n",
       "\\hline\n",
       "\t NA & 999999 & 7.433906 & 7.409127 & 99999.000000\\\\\n",
       "\t NA &     NA & 7.428986 & 7.314837 & 99999.000000\\\\\n",
       "\t NA &     NA &       NA & 7.433906 &     7.433906\\\\\n",
       "\t NA &     NA &       NA &       NA &     7.035157\\\\\n",
       "\\end{tabular}\n"
      ],
      "text/markdown": [
       "\n",
       "A matrix: 4 × 5 of type dbl\n",
       "\n",
       "| <!----> | <!----> | <!----> | <!----> | result_round_2_threeway |\n",
       "|---|---|---|---|---|\n",
       "| NA | 999999 | 7.433906 | 7.409127 | 99999.000000 |\n",
       "| NA |     NA | 7.428986 | 7.314837 | 99999.000000 |\n",
       "| NA |     NA |       NA | 7.433906 |     7.433906 |\n",
       "| NA |     NA |       NA |       NA |     7.035157 |\n",
       "\n"
      ],
      "text/plain": [
       "                                 result_round_2_threeway\n",
       "[1,] NA 999999 7.433906 7.409127 99999.000000           \n",
       "[2,] NA     NA 7.428986 7.314837 99999.000000           \n",
       "[3,] NA     NA       NA 7.433906     7.433906           \n",
       "[4,] NA     NA       NA       NA     7.035157           "
      ]
     },
     "metadata": {},
     "output_type": "display_data"
    }
   ],
   "source": [
    "head(result_round2_final)"
   ]
  },
  {
   "cell_type": "code",
   "execution_count": 59,
   "metadata": {},
   "outputs": [
    {
     "data": {
      "text/plain": [
       "\n",
       "Call:\n",
       "glm(formula = y ~ . + x1 * x2 * x4, family = tweedie(link.power = 0, \n",
       "    var.power = 1.7), data = design_x_strain, control = list(maxit = 500))\n",
       "\n",
       "Deviance Residuals: \n",
       "    Min       1Q   Median       3Q      Max  \n",
       "-8.4205  -2.7855  -2.4277  -0.8794  11.7444  \n",
       "\n",
       "Coefficients:\n",
       "            Estimate Std. Error t value Pr(>|t|)    \n",
       "(Intercept)  0.26859    0.17005   1.579  0.11436    \n",
       "x12          0.30777    0.18881   1.630  0.10321    \n",
       "x2           0.27333    0.15059   1.815  0.06963 .  \n",
       "x3           0.30693    0.05944   5.164 2.61e-07 ***\n",
       "x4           0.31626    0.10548   2.998  0.00274 ** \n",
       "x12:x2       0.44195    0.18675   2.367  0.01803 *  \n",
       "x12:x4       0.21599    0.12688   1.702  0.08881 .  \n",
       "x2:x4        0.31756    0.09971   3.185  0.00147 ** \n",
       "x12:x2:x4    0.23217    0.11727   1.980  0.04784 *  \n",
       "---\n",
       "Signif. codes:  0 '***' 0.001 '**' 0.01 '*' 0.05 '.' 0.1 ' ' 1\n",
       "\n",
       "(Dispersion parameter for Tweedie family taken to be 10.11432)\n",
       "\n",
       "    Null deviance: 36207  on 2499  degrees of freedom\n",
       "Residual deviance: 17586  on 2491  degrees of freedom\n",
       "AIC: NA\n",
       "\n",
       "Number of Fisher Scoring iterations: 8\n"
      ]
     },
     "metadata": {},
     "output_type": "display_data"
    }
   ],
   "source": [
    "round2_fit<-glm(y~.+x1*x2*x4,data=design_x_strain\n",
    "                   ,family=tweedie(link.power=0,var.power=1.7),control=list(maxit=500))\n",
    "summary(round2_fit)"
   ]
  },
  {
   "cell_type": "code",
   "execution_count": 61,
   "metadata": {},
   "outputs": [
    {
     "data": {
      "text/html": [
       "0.946281657521548"
      ],
      "text/latex": [
       "0.946281657521548"
      ],
      "text/markdown": [
       "0.946281657521548"
      ],
      "text/plain": [
       "[1] 0.9462817"
      ]
     },
     "metadata": {},
     "output_type": "display_data"
    }
   ],
   "source": [
    "mean(residuals(round2_fit)^2)/mean(residuals(round1_fit)^2)"
   ]
  },
  {
   "cell_type": "code",
   "execution_count": 62,
   "metadata": {},
   "outputs": [],
   "source": [
    "result_round3=matrix(nrow=dim(autocross)[2],ncol=dim(autocross)[2])\n",
    "for(i in 2:(dim(autocross)[2])-1){\n",
    "    for(j in (i+1):(dim(autocross)[2])){\n",
    "        if(i==1 &&j==2){result_round3[i,j]=999999}\n",
    "        else{\n",
    "            if (is.numeric(autocross[,i])&&is.numeric(autocross[,j])){\n",
    "                tmp_x <- autocross[,i]*autocross[,j]\n",
    "                tmp_fit<-glm(ytrain~tmp_x+offset(log(fitted(round2_fit)))\n",
    "                       ,family=tweedie(link.power=0,var.power=1.7),control=list(maxit=500))\n",
    "                result_round3[i,j]=mean(residuals(tmp_fit)^2)\n",
    "            }\n",
    "            else {\n",
    "            tmp_x<-model.matrix(~autocross[,i]*autocross[,j])\n",
    "            tmp_x<-as.matrix(tmp_x)[,-1]\n",
    "            tmp_cvfit<-cv.glmnet(x=tmp_x,y=ytrain,family=tweedie(link.power=0,var.power=1.7),alpha=0.5\n",
    "                                 ,offset=log(fitted(round2_fit)),type.measure = 'deviance')\n",
    "            tmp_lambda<- tmp_cvfit$lambda.min\n",
    "            tmp_fit<-glmnet(x=tmp_x,y=ytrain,family=tweedie(link.power=0,var.power=1.7),alpha=0.5\n",
    "                                 ,offset=log(fitted(round2_fit)),lambda=tmp_lambda)\n",
    "            tmp_coef<-as.matrix(coef(tmp_fit))[,1]\n",
    "            if (length(which(tmp_coef!=0))==0){\n",
    "                result_round3[i,j]=9999}\n",
    "            else{\n",
    "                tmp_x<-model.matrix(~autocross[,i]*autocross[,j])\n",
    "                tmp_fitted<-exp(tmp_x%*%tmp_coef+log(fitted(round2_fit)))\n",
    "                result_round3[i,j]<-mean(tweedie.dev(ytrain,tmp_fitted,1.7))     \n",
    "            }  \n",
    "\n",
    "    }\n",
    "            }\n",
    "  }\n",
    "}"
   ]
  },
  {
   "cell_type": "code",
   "execution_count": 63,
   "metadata": {},
   "outputs": [],
   "source": [
    "result_round_3_threeway=rep(0,dim(autocross)[2])\n",
    "for(i in 1:(dim(autocross)[2])){\n",
    "  if (i==1 || i==2||i==4){\n",
    "    result_round_3_threeway[i]=99999\n",
    "  }\n",
    "  else{\n",
    "      tmp_x<-model.matrix(~autocross[,1]*autocross[,2]*autocross[,i])\n",
    "      tmp_x<-tmp_x[,-1]\n",
    "            tmp_cvfit<-cv.glmnet(x=tmp_x,y=ytrain,family=tweedie(link.power=0,var.power=1.7),alpha=0.5\n",
    "                                 ,offset=log(fitted(round2_fit)),type.measure = 'deviance')\n",
    "            tmp_lambda<- tmp_cvfit$lambda.min\n",
    "            tmp_fit<-glmnet(x=tmp_x,y=ytrain,family=tweedie(link.power=0,var.power=1.7),alpha=0.5\n",
    "                                 ,offset=log(fitted(round2_fit)),lambda=tmp_lambda)\n",
    "            tmp_coef<-as.matrix(coef(tmp_fit))[,1]\n",
    "            if (length(which(tmp_coef!=0))==0){\n",
    "                result_round_2_threeway[i]=9999}\n",
    "            else{\n",
    "                tmp_x<-model.matrix(~autocross[,1]*autocross[,2]*autocross[,i])\n",
    "                tmp_fitted<-exp(tmp_x%*%tmp_coef+log(fitted(round2_fit)))\n",
    "                result_round_3_threeway[i]<-mean(tweedie.dev(ytrain,tmp_fitted,1.7))   \n",
    "            }  \n",
    "\n",
    "}\n",
    "    }"
   ]
  },
  {
   "cell_type": "code",
   "execution_count": 64,
   "metadata": {},
   "outputs": [],
   "source": [
    "tmp_x<-model.matrix(~autocross[,1]*autocross[,2]*autocross[,4]*autocross[,3])\n",
    "tmp_x<-tmp_x[,-1]\n",
    "tmp_cvfit<-cv.glmnet(x=tmp_x,y=ytrain,family=tweedie(link.power=0,var.power=1.7),alpha=0.5\n",
    "                                 ,offset=log(fitted(round2_fit)),type.measure = 'deviance')\n",
    "tmp_lambda<- tmp_cvfit$lambda.min\n",
    "tmp_fit<-glmnet(x=tmp_x,y=ytrain,family=tweedie(link.power=0,var.power=1.7),alpha=0.5\n",
    "                                 ,offset=log(fitted(round2_fit)),lambda=tmp_lambda)\n",
    "tmp_coef<-as.matrix(coef(tmp_fit))[,1]\n",
    "tmp_x<-model.matrix(~autocross[,1]*autocross[,2]*autocross[,4]*autocross[,3])\n",
    "tmp_fitted<-exp(tmp_x%*%tmp_coef+log(fitted(round2_fit)))\n",
    "result_round_3_fourway<-mean(tweedie.dev(ytrain,tmp_fitted,1.7))   "
   ]
  },
  {
   "cell_type": "code",
   "execution_count": 65,
   "metadata": {},
   "outputs": [
    {
     "data": {
      "text/html": [
       "<table class=\"dataframe\">\n",
       "<caption>A matrix: 1 × 2 of type int</caption>\n",
       "<thead>\n",
       "\t<tr><th scope=col>row</th><th scope=col>col</th></tr>\n",
       "</thead>\n",
       "<tbody>\n",
       "\t<tr><td>3</td><td>4</td></tr>\n",
       "</tbody>\n",
       "</table>\n"
      ],
      "text/latex": [
       "A matrix: 1 × 2 of type int\n",
       "\\begin{tabular}{ll}\n",
       " row & col\\\\\n",
       "\\hline\n",
       "\t 3 & 4\\\\\n",
       "\\end{tabular}\n"
      ],
      "text/markdown": [
       "\n",
       "A matrix: 1 × 2 of type int\n",
       "\n",
       "| row | col |\n",
       "|---|---|\n",
       "| 3 | 4 |\n",
       "\n"
      ],
      "text/plain": [
       "     row col\n",
       "[1,] 3   4  "
      ]
     },
     "metadata": {},
     "output_type": "display_data"
    }
   ],
   "source": [
    "result_round3_final<-cbind(result_round3,result_round_3_threeway)\n",
    "round3_index<-which(result_round3_final == min(result_round3_final,na.rm=T), arr.ind = TRUE)\n",
    "round3_index"
   ]
  },
  {
   "cell_type": "code",
   "execution_count": 66,
   "metadata": {},
   "outputs": [
    {
     "data": {
      "text/html": [
       "7.03040776138199"
      ],
      "text/latex": [
       "7.03040776138199"
      ],
      "text/markdown": [
       "7.03040776138199"
      ],
      "text/plain": [
       "[1] 7.030408"
      ]
     },
     "metadata": {},
     "output_type": "display_data"
    },
    {
     "data": {
      "text/html": [
       "7.03456897019752"
      ],
      "text/latex": [
       "7.03456897019752"
      ],
      "text/markdown": [
       "7.03456897019752"
      ],
      "text/plain": [
       "[1] 7.034569"
      ]
     },
     "metadata": {},
     "output_type": "display_data"
    }
   ],
   "source": [
    "min(result_round3_final,na.rm=T)\n",
    "result_round_3_fourway"
   ]
  },
  {
   "cell_type": "code",
   "execution_count": 67,
   "metadata": {},
   "outputs": [
    {
     "data": {
      "text/plain": [
       "\n",
       "Call:\n",
       "glm(formula = y ~ . + x1 * x2 * x4 + x3 * x4, family = tweedie(link.power = 0, \n",
       "    var.power = 1.7), data = design_x_strain, control = list(maxit = 500))\n",
       "\n",
       "Deviance Residuals: \n",
       "    Min       1Q   Median       3Q      Max  \n",
       "-8.0039  -2.7882  -2.4200  -0.8954  11.6292  \n",
       "\n",
       "Coefficients:\n",
       "            Estimate Std. Error t value Pr(>|t|)    \n",
       "(Intercept)  0.42577    0.18681   2.279  0.02275 *  \n",
       "x12          0.30178    0.18854   1.601  0.10959    \n",
       "x2           0.26515    0.15076   1.759  0.07875 .  \n",
       "x3           0.44351    0.09422   4.707 2.65e-06 ***\n",
       "x4           0.21046    0.11801   1.783  0.07464 .  \n",
       "x12:x2       0.43299    0.18654   2.321  0.02036 *  \n",
       "x12:x4       0.21799    0.12713   1.715  0.08652 .  \n",
       "x2:x4        0.32665    0.10036   3.255  0.00115 ** \n",
       "x3:x4       -0.10788    0.05762  -1.872  0.06130 .  \n",
       "x12:x2:x4    0.24302    0.11764   2.066  0.03895 *  \n",
       "---\n",
       "Signif. codes:  0 '***' 0.001 '**' 0.01 '*' 0.05 '.' 0.1 ' ' 1\n",
       "\n",
       "(Dispersion parameter for Tweedie family taken to be 10.00547)\n",
       "\n",
       "    Null deviance: 36207  on 2499  degrees of freedom\n",
       "Residual deviance: 17555  on 2490  degrees of freedom\n",
       "AIC: NA\n",
       "\n",
       "Number of Fisher Scoring iterations: 8\n"
      ]
     },
     "metadata": {},
     "output_type": "display_data"
    }
   ],
   "source": [
    "round3_fit<-glm(y~.+x1*x2*x4+x3*x4,data=design_x_strain\n",
    "                   ,family=tweedie(link.power=0,var.power=1.7),control=list(maxit=500))\n",
    "summary(round3_fit)"
   ]
  },
  {
   "cell_type": "code",
   "execution_count": 68,
   "metadata": {},
   "outputs": [
    {
     "data": {
      "text/html": [
       "0.998214345713642"
      ],
      "text/latex": [
       "0.998214345713642"
      ],
      "text/markdown": [
       "0.998214345713642"
      ],
      "text/plain": [
       "[1] 0.9982143"
      ]
     },
     "metadata": {},
     "output_type": "display_data"
    }
   ],
   "source": [
    "mean(residuals(round3_fit)^2)/mean(residuals(round2_fit)^2)"
   ]
  },
  {
   "cell_type": "code",
   "execution_count": 45,
   "metadata": {},
   "outputs": [],
   "source": [
    "tmp_x<- model.matrix(~.+x1*x2*x3,data=design_x_stest[,1:5])\n",
    "tmp_x=tmp_x[,colnames(tmp_x)!='x12:x22']\n",
    "tmp_x=tmp_x[,colnames(tmp_x)!='x12:x23']\n",
    "tmp_x=tmp_x[,colnames(tmp_x)!='x22:x3']\n",
    "tmp_x=tmp_x[,colnames(tmp_x)!='x12:x23:x3']\n",
    "predd_round2<-exp(tmp_x%*%round2_fitt$coefficients)"
   ]
  },
  {
   "cell_type": "code",
   "execution_count": 46,
   "metadata": {},
   "outputs": [
    {
     "data": {
      "text/html": [
       "1.62764883925578"
      ],
      "text/latex": [
       "1.62764883925578"
      ],
      "text/markdown": [
       "1.62764883925578"
      ],
      "text/plain": [
       "[1] 1.627649"
      ]
     },
     "metadata": {},
     "output_type": "display_data"
    },
    {
     "data": {
      "text/html": [
       "1.60376651515985"
      ],
      "text/latex": [
       "1.60376651515985"
      ],
      "text/markdown": [
       "1.60376651515985"
      ],
      "text/plain": [
       "[1] 1.603767"
      ]
     },
     "metadata": {},
     "output_type": "display_data"
    },
    {
     "data": {
      "text/html": [
       "1.59417239947746"
      ],
      "text/latex": [
       "1.59417239947746"
      ],
      "text/markdown": [
       "1.59417239947746"
      ],
      "text/plain": [
       "[1] 1.594172"
      ]
     },
     "metadata": {},
     "output_type": "display_data"
    },
    {
     "data": {
      "text/html": [
       "1.59601278236537"
      ],
      "text/latex": [
       "1.59601278236537"
      ],
      "text/markdown": [
       "1.59601278236537"
      ],
      "text/plain": [
       "[1] 1.596013"
      ]
     },
     "metadata": {},
     "output_type": "display_data"
    }
   ],
   "source": [
    "mean(tweedie.dev(design_x_stest$y,pred_fit1,1.7))\n",
    "mean(tweedie.dev(design_x_stest$y,pred_round1,1.7))\n",
    "mean(tweedie.dev(design_x_stest$y,pred_round2,1.7))\n",
    "mean(tweedie.dev(design_x_stest$y,predd_round2,1.7))"
   ]
  },
  {
   "cell_type": "code",
   "execution_count": null,
   "metadata": {},
   "outputs": [],
   "source": []
  }
 ],
 "metadata": {
  "kernelspec": {
   "display_name": "R",
   "language": "R",
   "name": "ir"
  },
  "language_info": {
   "codemirror_mode": "r",
   "file_extension": ".r",
   "mimetype": "text/x-r-source",
   "name": "R",
   "pygments_lexer": "r",
   "version": "4.1.1"
  }
 },
 "nbformat": 4,
 "nbformat_minor": 4
}
